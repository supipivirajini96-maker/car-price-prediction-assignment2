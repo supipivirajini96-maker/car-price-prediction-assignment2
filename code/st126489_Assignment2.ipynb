{
 "cells": [
  {
   "cell_type": "markdown",
   "id": "d49be480",
   "metadata": {},
   "source": [
    "Assignment 2 - Car Price Prediction"
   ]
  },
  {
   "cell_type": "code",
   "execution_count": 1,
   "id": "68b804e5",
   "metadata": {},
   "outputs": [
    {
     "name": "stdout",
     "output_type": "stream",
     "text": [
      "Requirement already satisfied: mlflow in c:\\users\\dell\\appdata\\local\\packages\\pythonsoftwarefoundation.python.3.11_qbz5n2kfra8p0\\localcache\\local-packages\\python311\\site-packages (3.3.2)\n",
      "Requirement already satisfied: mlflow-skinny==3.3.2 in c:\\users\\dell\\appdata\\local\\packages\\pythonsoftwarefoundation.python.3.11_qbz5n2kfra8p0\\localcache\\local-packages\\python311\\site-packages (from mlflow) (3.3.2)\n",
      "Requirement already satisfied: mlflow-tracing==3.3.2 in c:\\users\\dell\\appdata\\local\\packages\\pythonsoftwarefoundation.python.3.11_qbz5n2kfra8p0\\localcache\\local-packages\\python311\\site-packages (from mlflow) (3.3.2)\n",
      "Requirement already satisfied: Flask<4 in c:\\users\\dell\\appdata\\local\\packages\\pythonsoftwarefoundation.python.3.11_qbz5n2kfra8p0\\localcache\\local-packages\\python311\\site-packages (from mlflow) (3.1.2)\n",
      "Requirement already satisfied: alembic!=1.10.0,<2 in c:\\users\\dell\\appdata\\local\\packages\\pythonsoftwarefoundation.python.3.11_qbz5n2kfra8p0\\localcache\\local-packages\\python311\\site-packages (from mlflow) (1.16.5)\n",
      "Requirement already satisfied: cryptography<46,>=43.0.0 in c:\\users\\dell\\appdata\\local\\packages\\pythonsoftwarefoundation.python.3.11_qbz5n2kfra8p0\\localcache\\local-packages\\python311\\site-packages (from mlflow) (45.0.7)\n",
      "Requirement already satisfied: docker<8,>=4.0.0 in c:\\users\\dell\\appdata\\local\\packages\\pythonsoftwarefoundation.python.3.11_qbz5n2kfra8p0\\localcache\\local-packages\\python311\\site-packages (from mlflow) (7.1.0)\n",
      "Requirement already satisfied: graphene<4 in c:\\users\\dell\\appdata\\local\\packages\\pythonsoftwarefoundation.python.3.11_qbz5n2kfra8p0\\localcache\\local-packages\\python311\\site-packages (from mlflow) (3.4.3)\n",
      "Requirement already satisfied: matplotlib<4 in c:\\users\\dell\\appdata\\local\\packages\\pythonsoftwarefoundation.python.3.11_qbz5n2kfra8p0\\localcache\\local-packages\\python311\\site-packages (from mlflow) (3.9.2)\n",
      "Requirement already satisfied: numpy<3 in c:\\users\\dell\\appdata\\local\\packages\\pythonsoftwarefoundation.python.3.11_qbz5n2kfra8p0\\localcache\\local-packages\\python311\\site-packages (from mlflow) (2.2.6)\n",
      "Requirement already satisfied: pandas<3 in c:\\users\\dell\\appdata\\local\\packages\\pythonsoftwarefoundation.python.3.11_qbz5n2kfra8p0\\localcache\\local-packages\\python311\\site-packages (from mlflow) (2.2.3)\n",
      "Requirement already satisfied: pyarrow<22,>=4.0.0 in c:\\users\\dell\\appdata\\local\\packages\\pythonsoftwarefoundation.python.3.11_qbz5n2kfra8p0\\localcache\\local-packages\\python311\\site-packages (from mlflow) (21.0.0)\n",
      "Requirement already satisfied: scikit-learn<2 in c:\\users\\dell\\appdata\\local\\packages\\pythonsoftwarefoundation.python.3.11_qbz5n2kfra8p0\\localcache\\local-packages\\python311\\site-packages (from mlflow) (1.5.2)\n",
      "Requirement already satisfied: scipy<2 in c:\\users\\dell\\appdata\\local\\packages\\pythonsoftwarefoundation.python.3.11_qbz5n2kfra8p0\\localcache\\local-packages\\python311\\site-packages (from mlflow) (1.14.1)\n",
      "Requirement already satisfied: sqlalchemy<3,>=1.4.0 in c:\\users\\dell\\appdata\\local\\packages\\pythonsoftwarefoundation.python.3.11_qbz5n2kfra8p0\\localcache\\local-packages\\python311\\site-packages (from mlflow) (2.0.43)\n",
      "Requirement already satisfied: waitress<4 in c:\\users\\dell\\appdata\\local\\packages\\pythonsoftwarefoundation.python.3.11_qbz5n2kfra8p0\\localcache\\local-packages\\python311\\site-packages (from mlflow) (3.0.2)\n",
      "Requirement already satisfied: cachetools<7,>=5.0.0 in c:\\users\\dell\\appdata\\local\\packages\\pythonsoftwarefoundation.python.3.11_qbz5n2kfra8p0\\localcache\\local-packages\\python311\\site-packages (from mlflow-skinny==3.3.2->mlflow) (5.5.2)\n",
      "Requirement already satisfied: click<9,>=7.0 in c:\\users\\dell\\appdata\\local\\packages\\pythonsoftwarefoundation.python.3.11_qbz5n2kfra8p0\\localcache\\local-packages\\python311\\site-packages (from mlflow-skinny==3.3.2->mlflow) (8.2.1)\n",
      "Requirement already satisfied: cloudpickle<4 in c:\\users\\dell\\appdata\\local\\packages\\pythonsoftwarefoundation.python.3.11_qbz5n2kfra8p0\\localcache\\local-packages\\python311\\site-packages (from mlflow-skinny==3.3.2->mlflow) (3.1.1)\n",
      "Requirement already satisfied: databricks-sdk<1,>=0.20.0 in c:\\users\\dell\\appdata\\local\\packages\\pythonsoftwarefoundation.python.3.11_qbz5n2kfra8p0\\localcache\\local-packages\\python311\\site-packages (from mlflow-skinny==3.3.2->mlflow) (0.65.0)\n",
      "Requirement already satisfied: fastapi<1 in c:\\users\\dell\\appdata\\local\\packages\\pythonsoftwarefoundation.python.3.11_qbz5n2kfra8p0\\localcache\\local-packages\\python311\\site-packages (from mlflow-skinny==3.3.2->mlflow) (0.116.1)\n",
      "Requirement already satisfied: gitpython<4,>=3.1.9 in c:\\users\\dell\\appdata\\local\\packages\\pythonsoftwarefoundation.python.3.11_qbz5n2kfra8p0\\localcache\\local-packages\\python311\\site-packages (from mlflow-skinny==3.3.2->mlflow) (3.1.45)\n",
      "Requirement already satisfied: importlib_metadata!=4.7.0,<9,>=3.7.0 in c:\\users\\dell\\appdata\\local\\packages\\pythonsoftwarefoundation.python.3.11_qbz5n2kfra8p0\\localcache\\local-packages\\python311\\site-packages (from mlflow-skinny==3.3.2->mlflow) (6.8.0)\n",
      "Requirement already satisfied: opentelemetry-api<3,>=1.9.0 in c:\\users\\dell\\appdata\\local\\packages\\pythonsoftwarefoundation.python.3.11_qbz5n2kfra8p0\\localcache\\local-packages\\python311\\site-packages (from mlflow-skinny==3.3.2->mlflow) (1.36.0)\n",
      "Requirement already satisfied: opentelemetry-sdk<3,>=1.9.0 in c:\\users\\dell\\appdata\\local\\packages\\pythonsoftwarefoundation.python.3.11_qbz5n2kfra8p0\\localcache\\local-packages\\python311\\site-packages (from mlflow-skinny==3.3.2->mlflow) (1.36.0)\n",
      "Requirement already satisfied: packaging<26 in c:\\users\\dell\\appdata\\local\\packages\\pythonsoftwarefoundation.python.3.11_qbz5n2kfra8p0\\localcache\\local-packages\\python311\\site-packages (from mlflow-skinny==3.3.2->mlflow) (25.0)\n",
      "Requirement already satisfied: protobuf<7,>=3.12.0 in c:\\users\\dell\\appdata\\local\\packages\\pythonsoftwarefoundation.python.3.11_qbz5n2kfra8p0\\localcache\\local-packages\\python311\\site-packages (from mlflow-skinny==3.3.2->mlflow) (4.25.5)\n",
      "Requirement already satisfied: pydantic<3,>=1.10.8 in c:\\users\\dell\\appdata\\local\\packages\\pythonsoftwarefoundation.python.3.11_qbz5n2kfra8p0\\localcache\\local-packages\\python311\\site-packages (from mlflow-skinny==3.3.2->mlflow) (2.11.7)\n",
      "Requirement already satisfied: pyyaml<7,>=5.1 in c:\\users\\dell\\appdata\\local\\packages\\pythonsoftwarefoundation.python.3.11_qbz5n2kfra8p0\\localcache\\local-packages\\python311\\site-packages (from mlflow-skinny==3.3.2->mlflow) (6.0.2)\n",
      "Requirement already satisfied: requests<3,>=2.17.3 in c:\\users\\dell\\appdata\\local\\packages\\pythonsoftwarefoundation.python.3.11_qbz5n2kfra8p0\\localcache\\local-packages\\python311\\site-packages (from mlflow-skinny==3.3.2->mlflow) (2.32.5)\n",
      "Requirement already satisfied: sqlparse<1,>=0.4.0 in c:\\users\\dell\\appdata\\local\\packages\\pythonsoftwarefoundation.python.3.11_qbz5n2kfra8p0\\localcache\\local-packages\\python311\\site-packages (from mlflow-skinny==3.3.2->mlflow) (0.5.3)\n",
      "Requirement already satisfied: typing-extensions<5,>=4.0.0 in c:\\users\\dell\\appdata\\local\\packages\\pythonsoftwarefoundation.python.3.11_qbz5n2kfra8p0\\localcache\\local-packages\\python311\\site-packages (from mlflow-skinny==3.3.2->mlflow) (4.14.1)\n",
      "Requirement already satisfied: uvicorn<1 in c:\\users\\dell\\appdata\\local\\packages\\pythonsoftwarefoundation.python.3.11_qbz5n2kfra8p0\\localcache\\local-packages\\python311\\site-packages (from mlflow-skinny==3.3.2->mlflow) (0.35.0)\n",
      "Requirement already satisfied: Mako in c:\\users\\dell\\appdata\\local\\packages\\pythonsoftwarefoundation.python.3.11_qbz5n2kfra8p0\\localcache\\local-packages\\python311\\site-packages (from alembic!=1.10.0,<2->mlflow) (1.3.10)\n",
      "Requirement already satisfied: colorama in c:\\users\\dell\\appdata\\local\\packages\\pythonsoftwarefoundation.python.3.11_qbz5n2kfra8p0\\localcache\\local-packages\\python311\\site-packages (from click<9,>=7.0->mlflow-skinny==3.3.2->mlflow) (0.4.6)\n",
      "Requirement already satisfied: cffi>=1.14 in c:\\users\\dell\\appdata\\local\\packages\\pythonsoftwarefoundation.python.3.11_qbz5n2kfra8p0\\localcache\\local-packages\\python311\\site-packages (from cryptography<46,>=43.0.0->mlflow) (1.15.1)\n",
      "Requirement already satisfied: google-auth~=2.0 in c:\\users\\dell\\appdata\\local\\packages\\pythonsoftwarefoundation.python.3.11_qbz5n2kfra8p0\\localcache\\local-packages\\python311\\site-packages (from databricks-sdk<1,>=0.20.0->mlflow-skinny==3.3.2->mlflow) (2.40.3)\n",
      "Requirement already satisfied: pywin32>=304 in c:\\users\\dell\\appdata\\local\\packages\\pythonsoftwarefoundation.python.3.11_qbz5n2kfra8p0\\localcache\\local-packages\\python311\\site-packages (from docker<8,>=4.0.0->mlflow) (306)\n",
      "Requirement already satisfied: urllib3>=1.26.0 in c:\\users\\dell\\appdata\\local\\packages\\pythonsoftwarefoundation.python.3.11_qbz5n2kfra8p0\\localcache\\local-packages\\python311\\site-packages (from docker<8,>=4.0.0->mlflow) (2.5.0)\n",
      "Requirement already satisfied: starlette<0.48.0,>=0.40.0 in c:\\users\\dell\\appdata\\local\\packages\\pythonsoftwarefoundation.python.3.11_qbz5n2kfra8p0\\localcache\\local-packages\\python311\\site-packages (from fastapi<1->mlflow-skinny==3.3.2->mlflow) (0.47.3)\n",
      "Requirement already satisfied: blinker>=1.9.0 in c:\\users\\dell\\appdata\\local\\packages\\pythonsoftwarefoundation.python.3.11_qbz5n2kfra8p0\\localcache\\local-packages\\python311\\site-packages (from Flask<4->mlflow) (1.9.0)\n",
      "Requirement already satisfied: itsdangerous>=2.2.0 in c:\\users\\dell\\appdata\\local\\packages\\pythonsoftwarefoundation.python.3.11_qbz5n2kfra8p0\\localcache\\local-packages\\python311\\site-packages (from Flask<4->mlflow) (2.2.0)\n",
      "Requirement already satisfied: jinja2>=3.1.2 in c:\\users\\dell\\appdata\\local\\packages\\pythonsoftwarefoundation.python.3.11_qbz5n2kfra8p0\\localcache\\local-packages\\python311\\site-packages (from Flask<4->mlflow) (3.1.4)\n",
      "Requirement already satisfied: markupsafe>=2.1.1 in c:\\users\\dell\\appdata\\local\\packages\\pythonsoftwarefoundation.python.3.11_qbz5n2kfra8p0\\localcache\\local-packages\\python311\\site-packages (from Flask<4->mlflow) (2.1.5)\n",
      "Requirement already satisfied: werkzeug>=3.1.0 in c:\\users\\dell\\appdata\\local\\packages\\pythonsoftwarefoundation.python.3.11_qbz5n2kfra8p0\\localcache\\local-packages\\python311\\site-packages (from Flask<4->mlflow) (3.1.3)\n",
      "Requirement already satisfied: gitdb<5,>=4.0.1 in c:\\users\\dell\\appdata\\local\\packages\\pythonsoftwarefoundation.python.3.11_qbz5n2kfra8p0\\localcache\\local-packages\\python311\\site-packages (from gitpython<4,>=3.1.9->mlflow-skinny==3.3.2->mlflow) (4.0.12)\n",
      "Requirement already satisfied: smmap<6,>=3.0.1 in c:\\users\\dell\\appdata\\local\\packages\\pythonsoftwarefoundation.python.3.11_qbz5n2kfra8p0\\localcache\\local-packages\\python311\\site-packages (from gitdb<5,>=4.0.1->gitpython<4,>=3.1.9->mlflow-skinny==3.3.2->mlflow) (5.0.2)\n",
      "Requirement already satisfied: pyasn1-modules>=0.2.1 in c:\\users\\dell\\appdata\\local\\packages\\pythonsoftwarefoundation.python.3.11_qbz5n2kfra8p0\\localcache\\local-packages\\python311\\site-packages (from google-auth~=2.0->databricks-sdk<1,>=0.20.0->mlflow-skinny==3.3.2->mlflow) (0.4.2)\n",
      "Requirement already satisfied: rsa<5,>=3.1.4 in c:\\users\\dell\\appdata\\local\\packages\\pythonsoftwarefoundation.python.3.11_qbz5n2kfra8p0\\localcache\\local-packages\\python311\\site-packages (from google-auth~=2.0->databricks-sdk<1,>=0.20.0->mlflow-skinny==3.3.2->mlflow) (4.9.1)\n",
      "Requirement already satisfied: graphql-core<3.3,>=3.1 in c:\\users\\dell\\appdata\\local\\packages\\pythonsoftwarefoundation.python.3.11_qbz5n2kfra8p0\\localcache\\local-packages\\python311\\site-packages (from graphene<4->mlflow) (3.2.6)\n",
      "Requirement already satisfied: graphql-relay<3.3,>=3.1 in c:\\users\\dell\\appdata\\local\\packages\\pythonsoftwarefoundation.python.3.11_qbz5n2kfra8p0\\localcache\\local-packages\\python311\\site-packages (from graphene<4->mlflow) (3.2.0)\n",
      "Requirement already satisfied: python-dateutil<3,>=2.7.0 in c:\\users\\dell\\appdata\\local\\packages\\pythonsoftwarefoundation.python.3.11_qbz5n2kfra8p0\\localcache\\local-packages\\python311\\site-packages (from graphene<4->mlflow) (2.9.0.post0)\n",
      "Requirement already satisfied: zipp>=0.5 in c:\\users\\dell\\appdata\\local\\packages\\pythonsoftwarefoundation.python.3.11_qbz5n2kfra8p0\\localcache\\local-packages\\python311\\site-packages (from importlib_metadata!=4.7.0,<9,>=3.7.0->mlflow-skinny==3.3.2->mlflow) (3.16.2)\n",
      "Requirement already satisfied: contourpy>=1.0.1 in c:\\users\\dell\\appdata\\local\\packages\\pythonsoftwarefoundation.python.3.11_qbz5n2kfra8p0\\localcache\\local-packages\\python311\\site-packages (from matplotlib<4->mlflow) (1.3.3)\n",
      "Requirement already satisfied: cycler>=0.10 in c:\\users\\dell\\appdata\\local\\packages\\pythonsoftwarefoundation.python.3.11_qbz5n2kfra8p0\\localcache\\local-packages\\python311\\site-packages (from matplotlib<4->mlflow) (0.12.1)\n",
      "Requirement already satisfied: fonttools>=4.22.0 in c:\\users\\dell\\appdata\\local\\packages\\pythonsoftwarefoundation.python.3.11_qbz5n2kfra8p0\\localcache\\local-packages\\python311\\site-packages (from matplotlib<4->mlflow) (4.59.2)\n",
      "Requirement already satisfied: kiwisolver>=1.3.1 in c:\\users\\dell\\appdata\\local\\packages\\pythonsoftwarefoundation.python.3.11_qbz5n2kfra8p0\\localcache\\local-packages\\python311\\site-packages (from matplotlib<4->mlflow) (1.4.9)\n",
      "Requirement already satisfied: pillow>=8 in c:\\users\\dell\\appdata\\local\\packages\\pythonsoftwarefoundation.python.3.11_qbz5n2kfra8p0\\localcache\\local-packages\\python311\\site-packages (from matplotlib<4->mlflow) (11.3.0)\n",
      "Requirement already satisfied: pyparsing>=2.3.1 in c:\\users\\dell\\appdata\\local\\packages\\pythonsoftwarefoundation.python.3.11_qbz5n2kfra8p0\\localcache\\local-packages\\python311\\site-packages (from matplotlib<4->mlflow) (3.2.3)\n",
      "Requirement already satisfied: opentelemetry-semantic-conventions==0.57b0 in c:\\users\\dell\\appdata\\local\\packages\\pythonsoftwarefoundation.python.3.11_qbz5n2kfra8p0\\localcache\\local-packages\\python311\\site-packages (from opentelemetry-sdk<3,>=1.9.0->mlflow-skinny==3.3.2->mlflow) (0.57b0)\n",
      "Requirement already satisfied: pytz>=2020.1 in c:\\users\\dell\\appdata\\local\\packages\\pythonsoftwarefoundation.python.3.11_qbz5n2kfra8p0\\localcache\\local-packages\\python311\\site-packages (from pandas<3->mlflow) (2024.2)\n",
      "Requirement already satisfied: tzdata>=2022.7 in c:\\users\\dell\\appdata\\local\\packages\\pythonsoftwarefoundation.python.3.11_qbz5n2kfra8p0\\localcache\\local-packages\\python311\\site-packages (from pandas<3->mlflow) (2024.2)\n",
      "Requirement already satisfied: annotated-types>=0.6.0 in c:\\users\\dell\\appdata\\local\\packages\\pythonsoftwarefoundation.python.3.11_qbz5n2kfra8p0\\localcache\\local-packages\\python311\\site-packages (from pydantic<3,>=1.10.8->mlflow-skinny==3.3.2->mlflow) (0.7.0)\n",
      "Requirement already satisfied: pydantic-core==2.33.2 in c:\\users\\dell\\appdata\\local\\packages\\pythonsoftwarefoundation.python.3.11_qbz5n2kfra8p0\\localcache\\local-packages\\python311\\site-packages (from pydantic<3,>=1.10.8->mlflow-skinny==3.3.2->mlflow) (2.33.2)\n",
      "Requirement already satisfied: typing-inspection>=0.4.0 in c:\\users\\dell\\appdata\\local\\packages\\pythonsoftwarefoundation.python.3.11_qbz5n2kfra8p0\\localcache\\local-packages\\python311\\site-packages (from pydantic<3,>=1.10.8->mlflow-skinny==3.3.2->mlflow) (0.4.1)\n",
      "Requirement already satisfied: six>=1.5 in c:\\users\\dell\\appdata\\local\\packages\\pythonsoftwarefoundation.python.3.11_qbz5n2kfra8p0\\localcache\\local-packages\\python311\\site-packages (from python-dateutil<3,>=2.7.0->graphene<4->mlflow) (1.17.0)\n",
      "Requirement already satisfied: charset_normalizer<4,>=2 in c:\\users\\dell\\appdata\\local\\packages\\pythonsoftwarefoundation.python.3.11_qbz5n2kfra8p0\\localcache\\local-packages\\python311\\site-packages (from requests<3,>=2.17.3->mlflow-skinny==3.3.2->mlflow) (3.2.0)\n",
      "Requirement already satisfied: idna<4,>=2.5 in c:\\users\\dell\\appdata\\local\\packages\\pythonsoftwarefoundation.python.3.11_qbz5n2kfra8p0\\localcache\\local-packages\\python311\\site-packages (from requests<3,>=2.17.3->mlflow-skinny==3.3.2->mlflow) (3.4)\n",
      "Requirement already satisfied: certifi>=2017.4.17 in c:\\users\\dell\\appdata\\local\\packages\\pythonsoftwarefoundation.python.3.11_qbz5n2kfra8p0\\localcache\\local-packages\\python311\\site-packages (from requests<3,>=2.17.3->mlflow-skinny==3.3.2->mlflow) (2025.8.3)\n",
      "Requirement already satisfied: pyasn1>=0.1.3 in c:\\users\\dell\\appdata\\local\\packages\\pythonsoftwarefoundation.python.3.11_qbz5n2kfra8p0\\localcache\\local-packages\\python311\\site-packages (from rsa<5,>=3.1.4->google-auth~=2.0->databricks-sdk<1,>=0.20.0->mlflow-skinny==3.3.2->mlflow) (0.6.1)\n",
      "Requirement already satisfied: joblib>=1.2.0 in c:\\users\\dell\\appdata\\local\\packages\\pythonsoftwarefoundation.python.3.11_qbz5n2kfra8p0\\localcache\\local-packages\\python311\\site-packages (from scikit-learn<2->mlflow) (1.4.2)\n",
      "Requirement already satisfied: threadpoolctl>=3.1.0 in c:\\users\\dell\\appdata\\local\\packages\\pythonsoftwarefoundation.python.3.11_qbz5n2kfra8p0\\localcache\\local-packages\\python311\\site-packages (from scikit-learn<2->mlflow) (3.5.0)\n",
      "Requirement already satisfied: greenlet>=1 in c:\\users\\dell\\appdata\\local\\packages\\pythonsoftwarefoundation.python.3.11_qbz5n2kfra8p0\\localcache\\local-packages\\python311\\site-packages (from sqlalchemy<3,>=1.4.0->mlflow) (3.2.4)\n",
      "Requirement already satisfied: anyio<5,>=3.6.2 in c:\\users\\dell\\appdata\\local\\packages\\pythonsoftwarefoundation.python.3.11_qbz5n2kfra8p0\\localcache\\local-packages\\python311\\site-packages (from starlette<0.48.0,>=0.40.0->fastapi<1->mlflow-skinny==3.3.2->mlflow) (4.4.0)\n",
      "Requirement already satisfied: sniffio>=1.1 in c:\\users\\dell\\appdata\\local\\packages\\pythonsoftwarefoundation.python.3.11_qbz5n2kfra8p0\\localcache\\local-packages\\python311\\site-packages (from anyio<5,>=3.6.2->starlette<0.48.0,>=0.40.0->fastapi<1->mlflow-skinny==3.3.2->mlflow) (1.3.1)\n",
      "Requirement already satisfied: h11>=0.8 in c:\\users\\dell\\appdata\\local\\packages\\pythonsoftwarefoundation.python.3.11_qbz5n2kfra8p0\\localcache\\local-packages\\python311\\site-packages (from uvicorn<1->mlflow-skinny==3.3.2->mlflow) (0.14.0)\n",
      "Requirement already satisfied: pycparser in c:\\users\\dell\\appdata\\local\\packages\\pythonsoftwarefoundation.python.3.11_qbz5n2kfra8p0\\localcache\\local-packages\\python311\\site-packages (from cffi>=1.14->cryptography<46,>=43.0.0->mlflow) (2.21)\n"
     ]
    }
   ],
   "source": [
    "!pip install mlflow"
   ]
  },
  {
   "cell_type": "code",
   "execution_count": 16,
   "id": "28eb2bd0",
   "metadata": {},
   "outputs": [
    {
     "name": "stderr",
     "output_type": "stream",
     "text": [
      "2025/09/13 21:06:55 INFO mlflow.tracking.fluent: Experiment with name 'supipi-st126489-a2-v1' does not exist. Creating a new experiment.\n"
     ]
    },
    {
     "data": {
      "text/plain": [
       "<Experiment: artifact_location='file:///d:/AIT - Supipi/ML/Assignment 2 - Test/code/mlruns/2', creation_time=1757772415770, experiment_id='2', last_update_time=1757772415770, lifecycle_stage='active', name='supipi-st126489-a2-v1', tags={}>"
      ]
     },
     "execution_count": 16,
     "metadata": {},
     "output_type": "execute_result"
    }
   ],
   "source": [
    "# experiment tracking\n",
    "import mlflow\n",
    "import os\n",
    "\n",
    "# sets up MLflow tracking\n",
    "mlflow.set_tracking_uri(\"http://localhost:5000\")\n",
    "\n",
    "# set this environ[\"LOGNAME\"] to your name.\n",
    "os.environ[\"LOGNAME\"] = \"supipi\"\n",
    "\n",
    "# mlflow.create_experiment(name=\"chaky-diabetes-example\")  #create if you haven't create\n",
    "mlflow.set_experiment(experiment_name=\"supipi-st126489-a2-v1\")"
   ]
  },
  {
   "cell_type": "markdown",
   "id": "3ede9984",
   "metadata": {},
   "source": [
    "## Task 1. Preparing the datasets"
   ]
  },
  {
   "cell_type": "code",
   "execution_count": 17,
   "id": "15025582",
   "metadata": {},
   "outputs": [],
   "source": [
    "# importing libraries\n",
    "import numpy as np\n",
    "import pandas as pd\n",
    "import seaborn as sns\n",
    "import matplotlib.pyplot as plt \n",
    "import warnings\n",
    "from sklearn.preprocessing import StandardScaler\n",
    "from sklearn.model_selection import train_test_split\n",
    "from time import time\n",
    "warnings.filterwarnings('ignore')"
   ]
  },
  {
   "cell_type": "code",
   "execution_count": 18,
   "id": "db503471",
   "metadata": {},
   "outputs": [
    {
     "data": {
      "text/plain": [
       "('2.2.6', '2.2.3', '3.9.2')"
      ]
     },
     "execution_count": 18,
     "metadata": {},
     "output_type": "execute_result"
    }
   ],
   "source": [
    "import matplotlib\n",
    "np.__version__, pd.__version__, matplotlib.__version__"
   ]
  },
  {
   "cell_type": "markdown",
   "id": "77a2b786",
   "metadata": {},
   "source": [
    "#### Experiment Tracking"
   ]
  },
  {
   "cell_type": "markdown",
   "id": "f14d980c",
   "metadata": {},
   "source": [
    "### 01. Load dataset"
   ]
  },
  {
   "cell_type": "code",
   "execution_count": 23,
   "id": "833f01dc",
   "metadata": {},
   "outputs": [],
   "source": [
    "df = pd.read_csv('dataset/Cars.csv')"
   ]
  },
  {
   "cell_type": "code",
   "execution_count": 24,
   "id": "cc94aa81",
   "metadata": {},
   "outputs": [
    {
     "data": {
      "text/html": [
       "<div>\n",
       "<style scoped>\n",
       "    .dataframe tbody tr th:only-of-type {\n",
       "        vertical-align: middle;\n",
       "    }\n",
       "\n",
       "    .dataframe tbody tr th {\n",
       "        vertical-align: top;\n",
       "    }\n",
       "\n",
       "    .dataframe thead th {\n",
       "        text-align: right;\n",
       "    }\n",
       "</style>\n",
       "<table border=\"1\" class=\"dataframe\">\n",
       "  <thead>\n",
       "    <tr style=\"text-align: right;\">\n",
       "      <th></th>\n",
       "      <th>name</th>\n",
       "      <th>year</th>\n",
       "      <th>selling_price</th>\n",
       "      <th>km_driven</th>\n",
       "      <th>fuel</th>\n",
       "      <th>seller_type</th>\n",
       "      <th>transmission</th>\n",
       "      <th>owner</th>\n",
       "      <th>mileage</th>\n",
       "      <th>engine</th>\n",
       "      <th>max_power</th>\n",
       "      <th>torque</th>\n",
       "      <th>seats</th>\n",
       "    </tr>\n",
       "  </thead>\n",
       "  <tbody>\n",
       "    <tr>\n",
       "      <th>0</th>\n",
       "      <td>Maruti Swift Dzire VDI</td>\n",
       "      <td>2014</td>\n",
       "      <td>450000</td>\n",
       "      <td>145500</td>\n",
       "      <td>Diesel</td>\n",
       "      <td>Individual</td>\n",
       "      <td>Manual</td>\n",
       "      <td>First Owner</td>\n",
       "      <td>23.4 kmpl</td>\n",
       "      <td>1248 CC</td>\n",
       "      <td>74 bhp</td>\n",
       "      <td>190Nm@ 2000rpm</td>\n",
       "      <td>5.0</td>\n",
       "    </tr>\n",
       "    <tr>\n",
       "      <th>1</th>\n",
       "      <td>Skoda Rapid 1.5 TDI Ambition</td>\n",
       "      <td>2014</td>\n",
       "      <td>370000</td>\n",
       "      <td>120000</td>\n",
       "      <td>Diesel</td>\n",
       "      <td>Individual</td>\n",
       "      <td>Manual</td>\n",
       "      <td>Second Owner</td>\n",
       "      <td>21.14 kmpl</td>\n",
       "      <td>1498 CC</td>\n",
       "      <td>103.52 bhp</td>\n",
       "      <td>250Nm@ 1500-2500rpm</td>\n",
       "      <td>5.0</td>\n",
       "    </tr>\n",
       "    <tr>\n",
       "      <th>2</th>\n",
       "      <td>Honda City 2017-2020 EXi</td>\n",
       "      <td>2006</td>\n",
       "      <td>158000</td>\n",
       "      <td>140000</td>\n",
       "      <td>Petrol</td>\n",
       "      <td>Individual</td>\n",
       "      <td>Manual</td>\n",
       "      <td>Third Owner</td>\n",
       "      <td>17.7 kmpl</td>\n",
       "      <td>1497 CC</td>\n",
       "      <td>78 bhp</td>\n",
       "      <td>12.7@ 2,700(kgm@ rpm)</td>\n",
       "      <td>5.0</td>\n",
       "    </tr>\n",
       "    <tr>\n",
       "      <th>3</th>\n",
       "      <td>Hyundai i20 Sportz Diesel</td>\n",
       "      <td>2010</td>\n",
       "      <td>225000</td>\n",
       "      <td>127000</td>\n",
       "      <td>Diesel</td>\n",
       "      <td>Individual</td>\n",
       "      <td>Manual</td>\n",
       "      <td>First Owner</td>\n",
       "      <td>23.0 kmpl</td>\n",
       "      <td>1396 CC</td>\n",
       "      <td>90 bhp</td>\n",
       "      <td>22.4 kgm at 1750-2750rpm</td>\n",
       "      <td>5.0</td>\n",
       "    </tr>\n",
       "    <tr>\n",
       "      <th>4</th>\n",
       "      <td>Maruti Swift VXI BSIII</td>\n",
       "      <td>2007</td>\n",
       "      <td>130000</td>\n",
       "      <td>120000</td>\n",
       "      <td>Petrol</td>\n",
       "      <td>Individual</td>\n",
       "      <td>Manual</td>\n",
       "      <td>First Owner</td>\n",
       "      <td>16.1 kmpl</td>\n",
       "      <td>1298 CC</td>\n",
       "      <td>88.2 bhp</td>\n",
       "      <td>11.5@ 4,500(kgm@ rpm)</td>\n",
       "      <td>5.0</td>\n",
       "    </tr>\n",
       "  </tbody>\n",
       "</table>\n",
       "</div>"
      ],
      "text/plain": [
       "                           name  year  selling_price  km_driven    fuel  \\\n",
       "0        Maruti Swift Dzire VDI  2014         450000     145500  Diesel   \n",
       "1  Skoda Rapid 1.5 TDI Ambition  2014         370000     120000  Diesel   \n",
       "2      Honda City 2017-2020 EXi  2006         158000     140000  Petrol   \n",
       "3     Hyundai i20 Sportz Diesel  2010         225000     127000  Diesel   \n",
       "4        Maruti Swift VXI BSIII  2007         130000     120000  Petrol   \n",
       "\n",
       "  seller_type transmission         owner     mileage   engine   max_power  \\\n",
       "0  Individual       Manual   First Owner   23.4 kmpl  1248 CC      74 bhp   \n",
       "1  Individual       Manual  Second Owner  21.14 kmpl  1498 CC  103.52 bhp   \n",
       "2  Individual       Manual   Third Owner   17.7 kmpl  1497 CC      78 bhp   \n",
       "3  Individual       Manual   First Owner   23.0 kmpl  1396 CC      90 bhp   \n",
       "4  Individual       Manual   First Owner   16.1 kmpl  1298 CC    88.2 bhp   \n",
       "\n",
       "                     torque  seats  \n",
       "0            190Nm@ 2000rpm    5.0  \n",
       "1       250Nm@ 1500-2500rpm    5.0  \n",
       "2     12.7@ 2,700(kgm@ rpm)    5.0  \n",
       "3  22.4 kgm at 1750-2750rpm    5.0  \n",
       "4     11.5@ 4,500(kgm@ rpm)    5.0  "
      ]
     },
     "execution_count": 24,
     "metadata": {},
     "output_type": "execute_result"
    }
   ],
   "source": [
    "# print the first rows of data\n",
    "df.head()"
   ]
  },
  {
   "cell_type": "code",
   "execution_count": 13,
   "id": "407f9747",
   "metadata": {},
   "outputs": [
    {
     "data": {
      "text/plain": [
       "(8128, 13)"
      ]
     },
     "execution_count": 13,
     "metadata": {},
     "output_type": "execute_result"
    }
   ],
   "source": [
    "# Check the shape of data\n",
    "df.shape"
   ]
  },
  {
   "cell_type": "code",
   "execution_count": 25,
   "id": "3dba656d",
   "metadata": {},
   "outputs": [
    {
     "data": {
      "text/plain": [
       "(8033, 13)"
      ]
     },
     "execution_count": 25,
     "metadata": {},
     "output_type": "execute_result"
    }
   ],
   "source": [
    "# For the feature fuel, remove all rows with CNG and LPG due to different mileage system\n",
    "# Remove rows where fuel is CNG or LPG\n",
    "df = df[~df['fuel'].isin(['CNG', 'LPG'])]\n",
    "\n",
    "# Check the shape of data after the changes\n",
    "df.shape"
   ]
  },
  {
   "cell_type": "code",
   "execution_count": 26,
   "id": "702ebc1f",
   "metadata": {},
   "outputs": [
    {
     "data": {
      "text/html": [
       "<div>\n",
       "<style scoped>\n",
       "    .dataframe tbody tr th:only-of-type {\n",
       "        vertical-align: middle;\n",
       "    }\n",
       "\n",
       "    .dataframe tbody tr th {\n",
       "        vertical-align: top;\n",
       "    }\n",
       "\n",
       "    .dataframe thead th {\n",
       "        text-align: right;\n",
       "    }\n",
       "</style>\n",
       "<table border=\"1\" class=\"dataframe\">\n",
       "  <thead>\n",
       "    <tr style=\"text-align: right;\">\n",
       "      <th></th>\n",
       "      <th>name</th>\n",
       "      <th>year</th>\n",
       "      <th>selling_price</th>\n",
       "      <th>km_driven</th>\n",
       "      <th>fuel</th>\n",
       "      <th>seller_type</th>\n",
       "      <th>transmission</th>\n",
       "      <th>owner</th>\n",
       "      <th>mileage</th>\n",
       "      <th>engine</th>\n",
       "      <th>max_power</th>\n",
       "      <th>torque</th>\n",
       "      <th>seats</th>\n",
       "    </tr>\n",
       "  </thead>\n",
       "  <tbody>\n",
       "    <tr>\n",
       "      <th>0</th>\n",
       "      <td>Maruti Swift Dzire VDI</td>\n",
       "      <td>2014</td>\n",
       "      <td>450000</td>\n",
       "      <td>145500</td>\n",
       "      <td>Diesel</td>\n",
       "      <td>Individual</td>\n",
       "      <td>Manual</td>\n",
       "      <td>First Owner</td>\n",
       "      <td>23.40</td>\n",
       "      <td>1248.0</td>\n",
       "      <td>74.00</td>\n",
       "      <td>190Nm@ 2000rpm</td>\n",
       "      <td>5.0</td>\n",
       "    </tr>\n",
       "    <tr>\n",
       "      <th>1</th>\n",
       "      <td>Skoda Rapid 1.5 TDI Ambition</td>\n",
       "      <td>2014</td>\n",
       "      <td>370000</td>\n",
       "      <td>120000</td>\n",
       "      <td>Diesel</td>\n",
       "      <td>Individual</td>\n",
       "      <td>Manual</td>\n",
       "      <td>Second Owner</td>\n",
       "      <td>21.14</td>\n",
       "      <td>1498.0</td>\n",
       "      <td>103.52</td>\n",
       "      <td>250Nm@ 1500-2500rpm</td>\n",
       "      <td>5.0</td>\n",
       "    </tr>\n",
       "    <tr>\n",
       "      <th>2</th>\n",
       "      <td>Honda City 2017-2020 EXi</td>\n",
       "      <td>2006</td>\n",
       "      <td>158000</td>\n",
       "      <td>140000</td>\n",
       "      <td>Petrol</td>\n",
       "      <td>Individual</td>\n",
       "      <td>Manual</td>\n",
       "      <td>Third Owner</td>\n",
       "      <td>17.70</td>\n",
       "      <td>1497.0</td>\n",
       "      <td>78.00</td>\n",
       "      <td>12.7@ 2,700(kgm@ rpm)</td>\n",
       "      <td>5.0</td>\n",
       "    </tr>\n",
       "    <tr>\n",
       "      <th>3</th>\n",
       "      <td>Hyundai i20 Sportz Diesel</td>\n",
       "      <td>2010</td>\n",
       "      <td>225000</td>\n",
       "      <td>127000</td>\n",
       "      <td>Diesel</td>\n",
       "      <td>Individual</td>\n",
       "      <td>Manual</td>\n",
       "      <td>First Owner</td>\n",
       "      <td>23.00</td>\n",
       "      <td>1396.0</td>\n",
       "      <td>90.00</td>\n",
       "      <td>22.4 kgm at 1750-2750rpm</td>\n",
       "      <td>5.0</td>\n",
       "    </tr>\n",
       "    <tr>\n",
       "      <th>4</th>\n",
       "      <td>Maruti Swift VXI BSIII</td>\n",
       "      <td>2007</td>\n",
       "      <td>130000</td>\n",
       "      <td>120000</td>\n",
       "      <td>Petrol</td>\n",
       "      <td>Individual</td>\n",
       "      <td>Manual</td>\n",
       "      <td>First Owner</td>\n",
       "      <td>16.10</td>\n",
       "      <td>1298.0</td>\n",
       "      <td>88.20</td>\n",
       "      <td>11.5@ 4,500(kgm@ rpm)</td>\n",
       "      <td>5.0</td>\n",
       "    </tr>\n",
       "  </tbody>\n",
       "</table>\n",
       "</div>"
      ],
      "text/plain": [
       "                           name  year  selling_price  km_driven    fuel  \\\n",
       "0        Maruti Swift Dzire VDI  2014         450000     145500  Diesel   \n",
       "1  Skoda Rapid 1.5 TDI Ambition  2014         370000     120000  Diesel   \n",
       "2      Honda City 2017-2020 EXi  2006         158000     140000  Petrol   \n",
       "3     Hyundai i20 Sportz Diesel  2010         225000     127000  Diesel   \n",
       "4        Maruti Swift VXI BSIII  2007         130000     120000  Petrol   \n",
       "\n",
       "  seller_type transmission         owner  mileage  engine  max_power  \\\n",
       "0  Individual       Manual   First Owner    23.40  1248.0      74.00   \n",
       "1  Individual       Manual  Second Owner    21.14  1498.0     103.52   \n",
       "2  Individual       Manual   Third Owner    17.70  1497.0      78.00   \n",
       "3  Individual       Manual   First Owner    23.00  1396.0      90.00   \n",
       "4  Individual       Manual   First Owner    16.10  1298.0      88.20   \n",
       "\n",
       "                     torque  seats  \n",
       "0            190Nm@ 2000rpm    5.0  \n",
       "1       250Nm@ 1500-2500rpm    5.0  \n",
       "2     12.7@ 2,700(kgm@ rpm)    5.0  \n",
       "3  22.4 kgm at 1750-2750rpm    5.0  \n",
       "4     11.5@ 4,500(kgm@ rpm)    5.0  "
      ]
     },
     "execution_count": 26,
     "metadata": {},
     "output_type": "execute_result"
    }
   ],
   "source": [
    "# Remove \"kmpl\" in feature \"mileage\" and convert to float\n",
    "df['mileage'] = df['mileage'].str.split().str[0].astype(float)\n",
    "\n",
    "# Remove \"CC” in feature \"engine\" and convert to float\n",
    "df['engine'] = df['engine'].str.split().str[0].astype(float)\n",
    "\n",
    "# Remove \"bhp\" in max_power and convert to float\n",
    "df['max_power'] = df['max_power'].str.split().str[0].astype(float)\n",
    "\n",
    "df.head()"
   ]
  },
  {
   "cell_type": "code",
   "execution_count": 16,
   "id": "d87f61b8",
   "metadata": {},
   "outputs": [
    {
     "data": {
      "text/html": [
       "<div>\n",
       "<style scoped>\n",
       "    .dataframe tbody tr th:only-of-type {\n",
       "        vertical-align: middle;\n",
       "    }\n",
       "\n",
       "    .dataframe tbody tr th {\n",
       "        vertical-align: top;\n",
       "    }\n",
       "\n",
       "    .dataframe thead th {\n",
       "        text-align: right;\n",
       "    }\n",
       "</style>\n",
       "<table border=\"1\" class=\"dataframe\">\n",
       "  <thead>\n",
       "    <tr style=\"text-align: right;\">\n",
       "      <th></th>\n",
       "      <th>year</th>\n",
       "      <th>selling_price</th>\n",
       "      <th>km_driven</th>\n",
       "      <th>mileage</th>\n",
       "      <th>engine</th>\n",
       "      <th>max_power</th>\n",
       "      <th>seats</th>\n",
       "    </tr>\n",
       "  </thead>\n",
       "  <tbody>\n",
       "    <tr>\n",
       "      <th>count</th>\n",
       "      <td>8033.000000</td>\n",
       "      <td>8.033000e+03</td>\n",
       "      <td>8.033000e+03</td>\n",
       "      <td>7819.000000</td>\n",
       "      <td>7819.000000</td>\n",
       "      <td>7825.000000</td>\n",
       "      <td>7819.000000</td>\n",
       "    </tr>\n",
       "    <tr>\n",
       "      <th>mean</th>\n",
       "      <td>2013.818748</td>\n",
       "      <td>6.427361e+05</td>\n",
       "      <td>6.973882e+04</td>\n",
       "      <td>19.390375</td>\n",
       "      <td>1463.090677</td>\n",
       "      <td>91.864733</td>\n",
       "      <td>5.421281</td>\n",
       "    </tr>\n",
       "    <tr>\n",
       "      <th>std</th>\n",
       "      <td>4.031655</td>\n",
       "      <td>8.098635e+05</td>\n",
       "      <td>5.664361e+04</td>\n",
       "      <td>4.001777</td>\n",
       "      <td>504.655439</td>\n",
       "      <td>35.846839</td>\n",
       "      <td>0.962876</td>\n",
       "    </tr>\n",
       "    <tr>\n",
       "      <th>min</th>\n",
       "      <td>1983.000000</td>\n",
       "      <td>2.999900e+04</td>\n",
       "      <td>1.000000e+03</td>\n",
       "      <td>0.000000</td>\n",
       "      <td>624.000000</td>\n",
       "      <td>0.000000</td>\n",
       "      <td>2.000000</td>\n",
       "    </tr>\n",
       "    <tr>\n",
       "      <th>25%</th>\n",
       "      <td>2011.000000</td>\n",
       "      <td>2.600000e+05</td>\n",
       "      <td>3.500000e+04</td>\n",
       "      <td>16.780000</td>\n",
       "      <td>1197.000000</td>\n",
       "      <td>69.000000</td>\n",
       "      <td>5.000000</td>\n",
       "    </tr>\n",
       "    <tr>\n",
       "      <th>50%</th>\n",
       "      <td>2015.000000</td>\n",
       "      <td>4.500000e+05</td>\n",
       "      <td>6.000000e+04</td>\n",
       "      <td>19.300000</td>\n",
       "      <td>1248.000000</td>\n",
       "      <td>82.400000</td>\n",
       "      <td>5.000000</td>\n",
       "    </tr>\n",
       "    <tr>\n",
       "      <th>75%</th>\n",
       "      <td>2017.000000</td>\n",
       "      <td>6.800000e+05</td>\n",
       "      <td>9.800000e+04</td>\n",
       "      <td>22.320000</td>\n",
       "      <td>1582.000000</td>\n",
       "      <td>102.000000</td>\n",
       "      <td>5.000000</td>\n",
       "    </tr>\n",
       "    <tr>\n",
       "      <th>max</th>\n",
       "      <td>2020.000000</td>\n",
       "      <td>1.000000e+07</td>\n",
       "      <td>2.360457e+06</td>\n",
       "      <td>42.000000</td>\n",
       "      <td>3604.000000</td>\n",
       "      <td>400.000000</td>\n",
       "      <td>14.000000</td>\n",
       "    </tr>\n",
       "  </tbody>\n",
       "</table>\n",
       "</div>"
      ],
      "text/plain": [
       "              year  selling_price     km_driven      mileage       engine  \\\n",
       "count  8033.000000   8.033000e+03  8.033000e+03  7819.000000  7819.000000   \n",
       "mean   2013.818748   6.427361e+05  6.973882e+04    19.390375  1463.090677   \n",
       "std       4.031655   8.098635e+05  5.664361e+04     4.001777   504.655439   \n",
       "min    1983.000000   2.999900e+04  1.000000e+03     0.000000   624.000000   \n",
       "25%    2011.000000   2.600000e+05  3.500000e+04    16.780000  1197.000000   \n",
       "50%    2015.000000   4.500000e+05  6.000000e+04    19.300000  1248.000000   \n",
       "75%    2017.000000   6.800000e+05  9.800000e+04    22.320000  1582.000000   \n",
       "max    2020.000000   1.000000e+07  2.360457e+06    42.000000  3604.000000   \n",
       "\n",
       "         max_power        seats  \n",
       "count  7825.000000  7819.000000  \n",
       "mean     91.864733     5.421281  \n",
       "std      35.846839     0.962876  \n",
       "min       0.000000     2.000000  \n",
       "25%      69.000000     5.000000  \n",
       "50%      82.400000     5.000000  \n",
       "75%     102.000000     5.000000  \n",
       "max     400.000000    14.000000  "
      ]
     },
     "execution_count": 16,
     "metadata": {},
     "output_type": "execute_result"
    }
   ],
   "source": [
    "# Statistical info about data after converting few features from string to float\n",
    "df.describe()"
   ]
  },
  {
   "cell_type": "code",
   "execution_count": 17,
   "id": "f715cba4",
   "metadata": {},
   "outputs": [
    {
     "name": "stdout",
     "output_type": "stream",
     "text": [
      "<class 'pandas.core.frame.DataFrame'>\n",
      "Index: 8033 entries, 0 to 8127\n",
      "Data columns (total 13 columns):\n",
      " #   Column         Non-Null Count  Dtype  \n",
      "---  ------         --------------  -----  \n",
      " 0   name           8033 non-null   object \n",
      " 1   year           8033 non-null   int64  \n",
      " 2   selling_price  8033 non-null   int64  \n",
      " 3   km_driven      8033 non-null   int64  \n",
      " 4   fuel           8033 non-null   object \n",
      " 5   seller_type    8033 non-null   object \n",
      " 6   transmission   8033 non-null   object \n",
      " 7   owner          8033 non-null   object \n",
      " 8   mileage        7819 non-null   float64\n",
      " 9   engine         7819 non-null   float64\n",
      " 10  max_power      7825 non-null   float64\n",
      " 11  torque         7819 non-null   object \n",
      " 12  seats          7819 non-null   float64\n",
      "dtypes: float64(4), int64(3), object(6)\n",
      "memory usage: 878.6+ KB\n"
     ]
    }
   ],
   "source": [
    "# Check data types of input data\n",
    "df.info()"
   ]
  },
  {
   "cell_type": "code",
   "execution_count": 27,
   "id": "206d80b2",
   "metadata": {},
   "outputs": [],
   "source": [
    "#  For the feature owner, map First owner to 1, ..., Test Drive Car to 5\n",
    "owner_mapping = {\n",
    "    \"First Owner\": 1,\n",
    "    \"Second Owner\": 2,\n",
    "    \"Third Owner\": 3,\n",
    "    \"Fourth & Above Owner\": 4,\n",
    "    \"Test Drive Car\": 5\n",
    "}\n",
    "\n",
    "# Apply mapping\n",
    "df[\"owner\"] = df[\"owner\"].map(owner_mapping)"
   ]
  },
  {
   "cell_type": "code",
   "execution_count": 19,
   "id": "2b7648e5",
   "metadata": {},
   "outputs": [
    {
     "data": {
      "text/html": [
       "<div>\n",
       "<style scoped>\n",
       "    .dataframe tbody tr th:only-of-type {\n",
       "        vertical-align: middle;\n",
       "    }\n",
       "\n",
       "    .dataframe tbody tr th {\n",
       "        vertical-align: top;\n",
       "    }\n",
       "\n",
       "    .dataframe thead th {\n",
       "        text-align: right;\n",
       "    }\n",
       "</style>\n",
       "<table border=\"1\" class=\"dataframe\">\n",
       "  <thead>\n",
       "    <tr style=\"text-align: right;\">\n",
       "      <th></th>\n",
       "      <th>name</th>\n",
       "      <th>year</th>\n",
       "      <th>selling_price</th>\n",
       "      <th>km_driven</th>\n",
       "      <th>fuel</th>\n",
       "      <th>seller_type</th>\n",
       "      <th>transmission</th>\n",
       "      <th>owner</th>\n",
       "      <th>mileage</th>\n",
       "      <th>engine</th>\n",
       "      <th>max_power</th>\n",
       "      <th>torque</th>\n",
       "      <th>seats</th>\n",
       "    </tr>\n",
       "  </thead>\n",
       "  <tbody>\n",
       "    <tr>\n",
       "      <th>0</th>\n",
       "      <td>Maruti Swift Dzire VDI</td>\n",
       "      <td>2014</td>\n",
       "      <td>450000</td>\n",
       "      <td>145500</td>\n",
       "      <td>Diesel</td>\n",
       "      <td>Individual</td>\n",
       "      <td>Manual</td>\n",
       "      <td>1</td>\n",
       "      <td>23.40</td>\n",
       "      <td>1248.0</td>\n",
       "      <td>74.00</td>\n",
       "      <td>190Nm@ 2000rpm</td>\n",
       "      <td>5.0</td>\n",
       "    </tr>\n",
       "    <tr>\n",
       "      <th>1</th>\n",
       "      <td>Skoda Rapid 1.5 TDI Ambition</td>\n",
       "      <td>2014</td>\n",
       "      <td>370000</td>\n",
       "      <td>120000</td>\n",
       "      <td>Diesel</td>\n",
       "      <td>Individual</td>\n",
       "      <td>Manual</td>\n",
       "      <td>2</td>\n",
       "      <td>21.14</td>\n",
       "      <td>1498.0</td>\n",
       "      <td>103.52</td>\n",
       "      <td>250Nm@ 1500-2500rpm</td>\n",
       "      <td>5.0</td>\n",
       "    </tr>\n",
       "    <tr>\n",
       "      <th>2</th>\n",
       "      <td>Honda City 2017-2020 EXi</td>\n",
       "      <td>2006</td>\n",
       "      <td>158000</td>\n",
       "      <td>140000</td>\n",
       "      <td>Petrol</td>\n",
       "      <td>Individual</td>\n",
       "      <td>Manual</td>\n",
       "      <td>3</td>\n",
       "      <td>17.70</td>\n",
       "      <td>1497.0</td>\n",
       "      <td>78.00</td>\n",
       "      <td>12.7@ 2,700(kgm@ rpm)</td>\n",
       "      <td>5.0</td>\n",
       "    </tr>\n",
       "    <tr>\n",
       "      <th>3</th>\n",
       "      <td>Hyundai i20 Sportz Diesel</td>\n",
       "      <td>2010</td>\n",
       "      <td>225000</td>\n",
       "      <td>127000</td>\n",
       "      <td>Diesel</td>\n",
       "      <td>Individual</td>\n",
       "      <td>Manual</td>\n",
       "      <td>1</td>\n",
       "      <td>23.00</td>\n",
       "      <td>1396.0</td>\n",
       "      <td>90.00</td>\n",
       "      <td>22.4 kgm at 1750-2750rpm</td>\n",
       "      <td>5.0</td>\n",
       "    </tr>\n",
       "    <tr>\n",
       "      <th>4</th>\n",
       "      <td>Maruti Swift VXI BSIII</td>\n",
       "      <td>2007</td>\n",
       "      <td>130000</td>\n",
       "      <td>120000</td>\n",
       "      <td>Petrol</td>\n",
       "      <td>Individual</td>\n",
       "      <td>Manual</td>\n",
       "      <td>1</td>\n",
       "      <td>16.10</td>\n",
       "      <td>1298.0</td>\n",
       "      <td>88.20</td>\n",
       "      <td>11.5@ 4,500(kgm@ rpm)</td>\n",
       "      <td>5.0</td>\n",
       "    </tr>\n",
       "  </tbody>\n",
       "</table>\n",
       "</div>"
      ],
      "text/plain": [
       "                           name  year  selling_price  km_driven    fuel  \\\n",
       "0        Maruti Swift Dzire VDI  2014         450000     145500  Diesel   \n",
       "1  Skoda Rapid 1.5 TDI Ambition  2014         370000     120000  Diesel   \n",
       "2      Honda City 2017-2020 EXi  2006         158000     140000  Petrol   \n",
       "3     Hyundai i20 Sportz Diesel  2010         225000     127000  Diesel   \n",
       "4        Maruti Swift VXI BSIII  2007         130000     120000  Petrol   \n",
       "\n",
       "  seller_type transmission  owner  mileage  engine  max_power  \\\n",
       "0  Individual       Manual      1    23.40  1248.0      74.00   \n",
       "1  Individual       Manual      2    21.14  1498.0     103.52   \n",
       "2  Individual       Manual      3    17.70  1497.0      78.00   \n",
       "3  Individual       Manual      1    23.00  1396.0      90.00   \n",
       "4  Individual       Manual      1    16.10  1298.0      88.20   \n",
       "\n",
       "                     torque  seats  \n",
       "0            190Nm@ 2000rpm    5.0  \n",
       "1       250Nm@ 1500-2500rpm    5.0  \n",
       "2     12.7@ 2,700(kgm@ rpm)    5.0  \n",
       "3  22.4 kgm at 1750-2750rpm    5.0  \n",
       "4     11.5@ 4,500(kgm@ rpm)    5.0  "
      ]
     },
     "execution_count": 19,
     "metadata": {},
     "output_type": "execute_result"
    }
   ],
   "source": [
    "# print the first rows of data\n",
    "df.head()\n"
   ]
  },
  {
   "cell_type": "code",
   "execution_count": 20,
   "id": "c73ecf69",
   "metadata": {},
   "outputs": [
    {
     "name": "stdout",
     "output_type": "stream",
     "text": [
      "<class 'pandas.core.frame.DataFrame'>\n",
      "Index: 8033 entries, 0 to 8127\n",
      "Data columns (total 13 columns):\n",
      " #   Column         Non-Null Count  Dtype  \n",
      "---  ------         --------------  -----  \n",
      " 0   name           8033 non-null   object \n",
      " 1   year           8033 non-null   int64  \n",
      " 2   selling_price  8033 non-null   int64  \n",
      " 3   km_driven      8033 non-null   int64  \n",
      " 4   fuel           8033 non-null   object \n",
      " 5   seller_type    8033 non-null   object \n",
      " 6   transmission   8033 non-null   object \n",
      " 7   owner          8033 non-null   int64  \n",
      " 8   mileage        7819 non-null   float64\n",
      " 9   engine         7819 non-null   float64\n",
      " 10  max_power      7825 non-null   float64\n",
      " 11  torque         7819 non-null   object \n",
      " 12  seats          7819 non-null   float64\n",
      "dtypes: float64(4), int64(4), object(5)\n",
      "memory usage: 878.6+ KB\n"
     ]
    }
   ],
   "source": [
    "# Check data types of input data\n",
    "df.info()"
   ]
  },
  {
   "cell_type": "code",
   "execution_count": 21,
   "id": "771642b6",
   "metadata": {},
   "outputs": [
    {
     "data": {
      "text/plain": [
       "Index(['name', 'year', 'selling_price', 'km_driven', 'fuel', 'seller_type',\n",
       "       'transmission', 'owner', 'mileage', 'engine', 'max_power', 'torque',\n",
       "       'seats'],\n",
       "      dtype='object')"
      ]
     },
     "execution_count": 21,
     "metadata": {},
     "output_type": "execute_result"
    }
   ],
   "source": [
    "# Check the column names\n",
    "df.columns"
   ]
  },
  {
   "cell_type": "markdown",
   "id": "658fde64",
   "metadata": {},
   "source": [
    "### 02. Exploratory Data Analysis"
   ]
  },
  {
   "cell_type": "markdown",
   "id": "9f5f3f14",
   "metadata": {},
   "source": [
    "Rename columns"
   ]
  },
  {
   "cell_type": "code",
   "execution_count": 28,
   "id": "d65718e7",
   "metadata": {},
   "outputs": [],
   "source": [
    "# Rename the column for feature \"name\" with \"brand\", because it makes a sense\n",
    "df.rename(columns = {'name':'brand'}, inplace = True)"
   ]
  },
  {
   "cell_type": "code",
   "execution_count": 29,
   "id": "9aaec67f",
   "metadata": {},
   "outputs": [
    {
     "name": "stdout",
     "output_type": "stream",
     "text": [
      "['brand', 'year', 'selling_price', 'km_driven', 'fuel', 'seller_type', 'transmission', 'owner', 'mileage', 'engine', 'max_power', 'torque', 'seats']\n"
     ]
    },
    {
     "data": {
      "text/html": [
       "<div>\n",
       "<style scoped>\n",
       "    .dataframe tbody tr th:only-of-type {\n",
       "        vertical-align: middle;\n",
       "    }\n",
       "\n",
       "    .dataframe tbody tr th {\n",
       "        vertical-align: top;\n",
       "    }\n",
       "\n",
       "    .dataframe thead th {\n",
       "        text-align: right;\n",
       "    }\n",
       "</style>\n",
       "<table border=\"1\" class=\"dataframe\">\n",
       "  <thead>\n",
       "    <tr style=\"text-align: right;\">\n",
       "      <th></th>\n",
       "      <th>brand</th>\n",
       "      <th>year</th>\n",
       "      <th>selling_price</th>\n",
       "      <th>km_driven</th>\n",
       "      <th>fuel</th>\n",
       "      <th>seller_type</th>\n",
       "      <th>transmission</th>\n",
       "      <th>owner</th>\n",
       "      <th>mileage</th>\n",
       "      <th>engine</th>\n",
       "      <th>max_power</th>\n",
       "      <th>torque</th>\n",
       "      <th>seats</th>\n",
       "    </tr>\n",
       "  </thead>\n",
       "  <tbody>\n",
       "    <tr>\n",
       "      <th>0</th>\n",
       "      <td>Maruti Swift Dzire VDI</td>\n",
       "      <td>2014</td>\n",
       "      <td>450000</td>\n",
       "      <td>145500</td>\n",
       "      <td>Diesel</td>\n",
       "      <td>Individual</td>\n",
       "      <td>Manual</td>\n",
       "      <td>1</td>\n",
       "      <td>23.40</td>\n",
       "      <td>1248.0</td>\n",
       "      <td>74.00</td>\n",
       "      <td>190Nm@ 2000rpm</td>\n",
       "      <td>5.0</td>\n",
       "    </tr>\n",
       "    <tr>\n",
       "      <th>1</th>\n",
       "      <td>Skoda Rapid 1.5 TDI Ambition</td>\n",
       "      <td>2014</td>\n",
       "      <td>370000</td>\n",
       "      <td>120000</td>\n",
       "      <td>Diesel</td>\n",
       "      <td>Individual</td>\n",
       "      <td>Manual</td>\n",
       "      <td>2</td>\n",
       "      <td>21.14</td>\n",
       "      <td>1498.0</td>\n",
       "      <td>103.52</td>\n",
       "      <td>250Nm@ 1500-2500rpm</td>\n",
       "      <td>5.0</td>\n",
       "    </tr>\n",
       "    <tr>\n",
       "      <th>2</th>\n",
       "      <td>Honda City 2017-2020 EXi</td>\n",
       "      <td>2006</td>\n",
       "      <td>158000</td>\n",
       "      <td>140000</td>\n",
       "      <td>Petrol</td>\n",
       "      <td>Individual</td>\n",
       "      <td>Manual</td>\n",
       "      <td>3</td>\n",
       "      <td>17.70</td>\n",
       "      <td>1497.0</td>\n",
       "      <td>78.00</td>\n",
       "      <td>12.7@ 2,700(kgm@ rpm)</td>\n",
       "      <td>5.0</td>\n",
       "    </tr>\n",
       "    <tr>\n",
       "      <th>3</th>\n",
       "      <td>Hyundai i20 Sportz Diesel</td>\n",
       "      <td>2010</td>\n",
       "      <td>225000</td>\n",
       "      <td>127000</td>\n",
       "      <td>Diesel</td>\n",
       "      <td>Individual</td>\n",
       "      <td>Manual</td>\n",
       "      <td>1</td>\n",
       "      <td>23.00</td>\n",
       "      <td>1396.0</td>\n",
       "      <td>90.00</td>\n",
       "      <td>22.4 kgm at 1750-2750rpm</td>\n",
       "      <td>5.0</td>\n",
       "    </tr>\n",
       "    <tr>\n",
       "      <th>4</th>\n",
       "      <td>Maruti Swift VXI BSIII</td>\n",
       "      <td>2007</td>\n",
       "      <td>130000</td>\n",
       "      <td>120000</td>\n",
       "      <td>Petrol</td>\n",
       "      <td>Individual</td>\n",
       "      <td>Manual</td>\n",
       "      <td>1</td>\n",
       "      <td>16.10</td>\n",
       "      <td>1298.0</td>\n",
       "      <td>88.20</td>\n",
       "      <td>11.5@ 4,500(kgm@ rpm)</td>\n",
       "      <td>5.0</td>\n",
       "    </tr>\n",
       "  </tbody>\n",
       "</table>\n",
       "</div>"
      ],
      "text/plain": [
       "                          brand  year  selling_price  km_driven    fuel  \\\n",
       "0        Maruti Swift Dzire VDI  2014         450000     145500  Diesel   \n",
       "1  Skoda Rapid 1.5 TDI Ambition  2014         370000     120000  Diesel   \n",
       "2      Honda City 2017-2020 EXi  2006         158000     140000  Petrol   \n",
       "3     Hyundai i20 Sportz Diesel  2010         225000     127000  Diesel   \n",
       "4        Maruti Swift VXI BSIII  2007         130000     120000  Petrol   \n",
       "\n",
       "  seller_type transmission  owner  mileage  engine  max_power  \\\n",
       "0  Individual       Manual      1    23.40  1248.0      74.00   \n",
       "1  Individual       Manual      2    21.14  1498.0     103.52   \n",
       "2  Individual       Manual      3    17.70  1497.0      78.00   \n",
       "3  Individual       Manual      1    23.00  1396.0      90.00   \n",
       "4  Individual       Manual      1    16.10  1298.0      88.20   \n",
       "\n",
       "                     torque  seats  \n",
       "0            190Nm@ 2000rpm    5.0  \n",
       "1       250Nm@ 1500-2500rpm    5.0  \n",
       "2     12.7@ 2,700(kgm@ rpm)    5.0  \n",
       "3  22.4 kgm at 1750-2750rpm    5.0  \n",
       "4     11.5@ 4,500(kgm@ rpm)    5.0  "
      ]
     },
     "execution_count": 29,
     "metadata": {},
     "output_type": "execute_result"
    }
   ],
   "source": [
    "print(df.columns.tolist())\n",
    "\n",
    "df.head()"
   ]
  },
  {
   "cell_type": "code",
   "execution_count": 30,
   "id": "30378c0e",
   "metadata": {},
   "outputs": [
    {
     "data": {
      "text/plain": [
       "brand             object\n",
       "year               int64\n",
       "selling_price      int64\n",
       "km_driven          int64\n",
       "fuel              object\n",
       "seller_type       object\n",
       "transmission      object\n",
       "owner              int64\n",
       "mileage          float64\n",
       "engine           float64\n",
       "max_power        float64\n",
       "torque            object\n",
       "seats            float64\n",
       "dtype: object"
      ]
     },
     "execution_count": 30,
     "metadata": {},
     "output_type": "execute_result"
    }
   ],
   "source": [
    "df.dtypes"
   ]
  },
  {
   "cell_type": "markdown",
   "id": "519af237",
   "metadata": {},
   "source": [
    "Univariant Analysis"
   ]
  },
  {
   "cell_type": "code",
   "execution_count": 31,
   "id": "4b19850a",
   "metadata": {},
   "outputs": [
    {
     "data": {
      "text/plain": [
       "2018"
      ]
     },
     "execution_count": 31,
     "metadata": {},
     "output_type": "execute_result"
    }
   ],
   "source": [
    "# check number of unique brands in the dataset\n",
    "df[\"brand\"].nunique()"
   ]
  },
  {
   "cell_type": "code",
   "execution_count": 32,
   "id": "3c096aff",
   "metadata": {},
   "outputs": [
    {
     "data": {
      "text/plain": [
       "array(['Maruti Swift Dzire VDI', 'Skoda Rapid 1.5 TDI Ambition',\n",
       "       'Honda City 2017-2020 EXi', ..., 'Tata Nexon 1.5 Revotorq XT',\n",
       "       'Ford Freestyle Titanium Plus Diesel BSIV',\n",
       "       'Toyota Innova 2.5 GX (Diesel) 8 Seater BS IV'],\n",
       "      shape=(2018,), dtype=object)"
      ]
     },
     "execution_count": 32,
     "metadata": {},
     "output_type": "execute_result"
    }
   ],
   "source": [
    "# print unique brands in the dataset\n",
    "df[\"brand\"].unique()"
   ]
  },
  {
   "cell_type": "code",
   "execution_count": 33,
   "id": "974eb54a",
   "metadata": {},
   "outputs": [],
   "source": [
    "# For car brands, take only the first word and remove the rest\n",
    "df['brand'] = df['brand'].str.split().str[0]"
   ]
  },
  {
   "cell_type": "code",
   "execution_count": 34,
   "id": "56bbb549",
   "metadata": {},
   "outputs": [
    {
     "data": {
      "text/html": [
       "<div>\n",
       "<style scoped>\n",
       "    .dataframe tbody tr th:only-of-type {\n",
       "        vertical-align: middle;\n",
       "    }\n",
       "\n",
       "    .dataframe tbody tr th {\n",
       "        vertical-align: top;\n",
       "    }\n",
       "\n",
       "    .dataframe thead th {\n",
       "        text-align: right;\n",
       "    }\n",
       "</style>\n",
       "<table border=\"1\" class=\"dataframe\">\n",
       "  <thead>\n",
       "    <tr style=\"text-align: right;\">\n",
       "      <th></th>\n",
       "      <th>brand</th>\n",
       "      <th>year</th>\n",
       "      <th>selling_price</th>\n",
       "      <th>km_driven</th>\n",
       "      <th>fuel</th>\n",
       "      <th>seller_type</th>\n",
       "      <th>transmission</th>\n",
       "      <th>owner</th>\n",
       "      <th>mileage</th>\n",
       "      <th>engine</th>\n",
       "      <th>max_power</th>\n",
       "      <th>torque</th>\n",
       "      <th>seats</th>\n",
       "    </tr>\n",
       "  </thead>\n",
       "  <tbody>\n",
       "    <tr>\n",
       "      <th>0</th>\n",
       "      <td>Maruti</td>\n",
       "      <td>2014</td>\n",
       "      <td>450000</td>\n",
       "      <td>145500</td>\n",
       "      <td>Diesel</td>\n",
       "      <td>Individual</td>\n",
       "      <td>Manual</td>\n",
       "      <td>1</td>\n",
       "      <td>23.40</td>\n",
       "      <td>1248.0</td>\n",
       "      <td>74.00</td>\n",
       "      <td>190Nm@ 2000rpm</td>\n",
       "      <td>5.0</td>\n",
       "    </tr>\n",
       "    <tr>\n",
       "      <th>1</th>\n",
       "      <td>Skoda</td>\n",
       "      <td>2014</td>\n",
       "      <td>370000</td>\n",
       "      <td>120000</td>\n",
       "      <td>Diesel</td>\n",
       "      <td>Individual</td>\n",
       "      <td>Manual</td>\n",
       "      <td>2</td>\n",
       "      <td>21.14</td>\n",
       "      <td>1498.0</td>\n",
       "      <td>103.52</td>\n",
       "      <td>250Nm@ 1500-2500rpm</td>\n",
       "      <td>5.0</td>\n",
       "    </tr>\n",
       "    <tr>\n",
       "      <th>2</th>\n",
       "      <td>Honda</td>\n",
       "      <td>2006</td>\n",
       "      <td>158000</td>\n",
       "      <td>140000</td>\n",
       "      <td>Petrol</td>\n",
       "      <td>Individual</td>\n",
       "      <td>Manual</td>\n",
       "      <td>3</td>\n",
       "      <td>17.70</td>\n",
       "      <td>1497.0</td>\n",
       "      <td>78.00</td>\n",
       "      <td>12.7@ 2,700(kgm@ rpm)</td>\n",
       "      <td>5.0</td>\n",
       "    </tr>\n",
       "    <tr>\n",
       "      <th>3</th>\n",
       "      <td>Hyundai</td>\n",
       "      <td>2010</td>\n",
       "      <td>225000</td>\n",
       "      <td>127000</td>\n",
       "      <td>Diesel</td>\n",
       "      <td>Individual</td>\n",
       "      <td>Manual</td>\n",
       "      <td>1</td>\n",
       "      <td>23.00</td>\n",
       "      <td>1396.0</td>\n",
       "      <td>90.00</td>\n",
       "      <td>22.4 kgm at 1750-2750rpm</td>\n",
       "      <td>5.0</td>\n",
       "    </tr>\n",
       "    <tr>\n",
       "      <th>4</th>\n",
       "      <td>Maruti</td>\n",
       "      <td>2007</td>\n",
       "      <td>130000</td>\n",
       "      <td>120000</td>\n",
       "      <td>Petrol</td>\n",
       "      <td>Individual</td>\n",
       "      <td>Manual</td>\n",
       "      <td>1</td>\n",
       "      <td>16.10</td>\n",
       "      <td>1298.0</td>\n",
       "      <td>88.20</td>\n",
       "      <td>11.5@ 4,500(kgm@ rpm)</td>\n",
       "      <td>5.0</td>\n",
       "    </tr>\n",
       "  </tbody>\n",
       "</table>\n",
       "</div>"
      ],
      "text/plain": [
       "     brand  year  selling_price  km_driven    fuel seller_type transmission  \\\n",
       "0   Maruti  2014         450000     145500  Diesel  Individual       Manual   \n",
       "1    Skoda  2014         370000     120000  Diesel  Individual       Manual   \n",
       "2    Honda  2006         158000     140000  Petrol  Individual       Manual   \n",
       "3  Hyundai  2010         225000     127000  Diesel  Individual       Manual   \n",
       "4   Maruti  2007         130000     120000  Petrol  Individual       Manual   \n",
       "\n",
       "   owner  mileage  engine  max_power                    torque  seats  \n",
       "0      1    23.40  1248.0      74.00            190Nm@ 2000rpm    5.0  \n",
       "1      2    21.14  1498.0     103.52       250Nm@ 1500-2500rpm    5.0  \n",
       "2      3    17.70  1497.0      78.00     12.7@ 2,700(kgm@ rpm)    5.0  \n",
       "3      1    23.00  1396.0      90.00  22.4 kgm at 1750-2750rpm    5.0  \n",
       "4      1    16.10  1298.0      88.20     11.5@ 4,500(kgm@ rpm)    5.0  "
      ]
     },
     "execution_count": 34,
     "metadata": {},
     "output_type": "execute_result"
    }
   ],
   "source": [
    "df.head()"
   ]
  },
  {
   "cell_type": "code",
   "execution_count": 23,
   "id": "089f52f7",
   "metadata": {},
   "outputs": [
    {
     "data": {
      "image/png": "[encoded data removed]",
      "text/plain": [
       "<Figure size 500x500 with 1 Axes>"
      ]
     },
     "metadata": {},
     "output_type": "display_data"
    }
   ],
   "source": [
    "# Explore range of years related to cars in the dataset\n",
    "sns.displot(data = df, x = 'year')\n",
    "# Add labels\n",
    "plt.xlabel(\"Years\")\n",
    "plt.ylabel(\"No of cars in the sample\")\n",
    "plt.title(\"Distribution of year\")\n",
    "\n",
    "plt.show()"
   ]
  },
  {
   "cell_type": "code",
   "execution_count": 24,
   "id": "11afa660",
   "metadata": {},
   "outputs": [
    {
     "data": {
      "text/plain": [
       "<seaborn.axisgrid.FacetGrid at 0x23902277750>"
      ]
     },
     "execution_count": 24,
     "metadata": {},
     "output_type": "execute_result"
    },
    {
     "data": {
      "image/png": "[encoded data removed]",
      "text/plain": [
       "<Figure size 500x500 with 1 Axes>"
      ]
     },
     "metadata": {},
     "output_type": "display_data"
    }
   ],
   "source": [
    "# Explore the distribution of car seling price across the dataset\n",
    "sns.displot(data = df, x = 'selling_price')"
   ]
  },
  {
   "cell_type": "code",
   "execution_count": 25,
   "id": "fc0ead1d",
   "metadata": {},
   "outputs": [
    {
     "data": {
      "image/png": "[encoded data removed]",
      "text/plain": [
       "<Figure size 640x480 with 1 Axes>"
      ]
     },
     "metadata": {},
     "output_type": "display_data"
    }
   ],
   "source": [
    "# For clear visualization, plot histogram for \"selling_price\" with 8 bins\n",
    "plt.hist(df[\"selling_price\"], bins=8, edgecolor=\"black\")\n",
    "\n",
    "# Add labels\n",
    "plt.xlabel(\"Selling Price\")\n",
    "plt.ylabel(\"Count\")\n",
    "plt.title(\"Distribution of Selling Price\")\n",
    "\n",
    "plt.show()"
   ]
  },
  {
   "cell_type": "code",
   "execution_count": 26,
   "id": "d84b866b",
   "metadata": {},
   "outputs": [
    {
     "data": {
      "image/png": "[encoded data removed]",
      "text/plain": [
       "<Figure size 640x480 with 1 Axes>"
      ]
     },
     "metadata": {},
     "output_type": "display_data"
    }
   ],
   "source": [
    "# Explore the distribution of cars in the dataset according to the fuel type across the dataset\n",
    "sns.countplot(data = df, x = 'fuel')\n",
    "\n",
    "# Add labels\n",
    "plt.xlabel(\"Fuel type\")\n",
    "plt.ylabel(\"No of Cars in the dataset\")\n",
    "plt.title(\"Distribution of cars according to fuel type\")\n",
    "\n",
    "plt.show()"
   ]
  },
  {
   "cell_type": "code",
   "execution_count": 27,
   "id": "d37f4333",
   "metadata": {},
   "outputs": [
    {
     "data": {
      "image/png": "[encoded data removed]",
      "text/plain": [
       "<Figure size 640x480 with 1 Axes>"
      ]
     },
     "metadata": {},
     "output_type": "display_data"
    }
   ],
   "source": [
    "# Explore the distribution of cars in the dataset according to the seller type across the dataset\n",
    "sns.countplot(data = df, x = 'seller_type')\n",
    "\n",
    "# Add labels\n",
    "plt.xlabel(\"Seller type\")\n",
    "plt.ylabel(\"No of Cars in the dataset\")\n",
    "plt.title(\"Distribution of cars according to seller type\")\n",
    "\n",
    "plt.show()"
   ]
  },
  {
   "cell_type": "code",
   "execution_count": 28,
   "id": "11886145",
   "metadata": {},
   "outputs": [
    {
     "data": {
      "image/png": "[encoded data removed]",
      "text/plain": [
       "<Figure size 640x480 with 1 Axes>"
      ]
     },
     "metadata": {},
     "output_type": "display_data"
    }
   ],
   "source": [
    "# Explore the distribution of cars in the dataset according to the transmission type across the datasetS\n",
    "sns.countplot(data = df, x = 'transmission')\n",
    "\n",
    "# Add labels\n",
    "plt.xlabel(\"Transmission mode\")\n",
    "plt.ylabel(\"No of Cars in the dataset\")\n",
    "plt.title(\"Distribution of cars according to transmission mode\")\n",
    "\n",
    "plt.show()\n",
    "\n"
   ]
  },
  {
   "cell_type": "code",
   "execution_count": 29,
   "id": "bd75aad1",
   "metadata": {},
   "outputs": [
    {
     "data": {
      "image/png": "[encoded data removed]",
      "text/plain": [
       "<Figure size 640x480 with 1 Axes>"
      ]
     },
     "metadata": {},
     "output_type": "display_data"
    }
   ],
   "source": [
    "# Explore the distribution of cars in the dataset according to the owner type across the dataset\n",
    "sns.countplot(data = df, x = 'owner')\n",
    "\n",
    "# Add labels\n",
    "plt.xlabel(\"Owner\")\n",
    "plt.ylabel(\"No of Cars in the dataset\")\n",
    "plt.title(\"Distribution of cars according to owner\")\n",
    "\n",
    "plt.show()\n"
   ]
  },
  {
   "cell_type": "code",
   "execution_count": 30,
   "id": "a3ffab50",
   "metadata": {},
   "outputs": [
    {
     "data": {
      "image/png": "[encoded data removed]",
      "text/plain": [
       "<Figure size 500x500 with 1 Axes>"
      ]
     },
     "metadata": {},
     "output_type": "display_data"
    }
   ],
   "source": [
    "sns.displot(data = df, x = \"max_power\")\n",
    "\n",
    "# Add labels\n",
    "plt.xlabel(\"Max Power\")\n",
    "plt.ylabel(\"No of Cars in the dataset\")\n",
    "plt.title(\"Distribution of cars according to max power\")\n",
    "\n",
    "plt.show()"
   ]
  },
  {
   "cell_type": "markdown",
   "id": "8d9ac7ce",
   "metadata": {},
   "source": [
    "Multivariant Analysis"
   ]
  },
  {
   "cell_type": "code",
   "execution_count": 31,
   "id": "8d119aee",
   "metadata": {},
   "outputs": [
    {
     "data": {
      "image/png": "[encoded data removed]",
      "text/plain": [
       "<Figure size 1200x2000 with 4 Axes>"
      ]
     },
     "metadata": {},
     "output_type": "display_data"
    }
   ],
   "source": [
    "# Explore the relationship between categorical features and selling price using boxplots\n",
    "\n",
    "import matplotlib.pyplot as plt\n",
    "import seaborn as sns\n",
    "\n",
    "# List of categorical features to plot\n",
    "cat_cols = [\"owner\", \"transmission\", \"fuel\", \"seller_type\"]\n",
    "\n",
    "# Set up subplot grid\n",
    "rows = len(cat_cols)\n",
    "fig, axes = plt.subplots(rows, 1, figsize=(12, rows * 5))  \n",
    "axes = axes.flatten()\n",
    "\n",
    "# Iterate through categorical columns and plot boxplots\n",
    "for i, col in enumerate(cat_cols):\n",
    "    sns.boxplot(x=df[col], y=df[\"selling_price\"], ax=axes[i])\n",
    "    axes[i].set_title(f\"Boxplot of Selling Price by {col}\")\n",
    "    axes[i].set_xlabel(col)\n",
    "    axes[i].set_ylabel(\"Selling Price\")\n",
    "    axes[i].tick_params(axis='x', rotation=45)\n",
    "\n",
    "# Remove unused subplot spaces\n",
    "for j in range(i + 1, len(axes)):\n",
    "    fig.delaxes(axes[j])\n",
    "\n",
    "# Adjust layout\n",
    "plt.tight_layout()\n",
    "plt.show()\n"
   ]
  },
  {
   "cell_type": "code",
   "execution_count": 32,
   "id": "30aa592e",
   "metadata": {},
   "outputs": [
    {
     "data": {
      "text/plain": [
       "<Axes: xlabel='year', ylabel='selling_price'>"
      ]
     },
     "execution_count": 32,
     "metadata": {},
     "output_type": "execute_result"
    },
    {
     "data": {
      "image/png": "[encoded data removed]",
      "text/plain": [
       "<Figure size 640x480 with 1 Axes>"
      ]
     },
     "metadata": {},
     "output_type": "display_data"
    }
   ],
   "source": [
    "# Explorethe selling price of sample dataset with respect to the year of car manufacturing\n",
    "sns.scatterplot(x = df['year'], y = df['selling_price'])"
   ]
  },
  {
   "cell_type": "code",
   "execution_count": 33,
   "id": "70ad1540",
   "metadata": {},
   "outputs": [
    {
     "data": {
      "text/plain": [
       "<Axes: xlabel='year', ylabel='selling_price'>"
      ]
     },
     "execution_count": 33,
     "metadata": {},
     "output_type": "execute_result"
    },
    {
     "data": {
      "image/png": "[encoded data removed]",
      "text/plain": [
       "<Figure size 640x480 with 1 Axes>"
      ]
     },
     "metadata": {},
     "output_type": "display_data"
    }
   ],
   "source": [
    "# Explorethe selling price of sample dataset with respect to the year of car manufacturing and fuel type\n",
    "sns.scatterplot(x = df['year'], y = df['selling_price'], hue=df['fuel'])"
   ]
  },
  {
   "cell_type": "code",
   "execution_count": 34,
   "id": "4353bbc2",
   "metadata": {},
   "outputs": [
    {
     "data": {
      "text/plain": [
       "<Axes: xlabel='year', ylabel='selling_price'>"
      ]
     },
     "execution_count": 34,
     "metadata": {},
     "output_type": "execute_result"
    },
    {
     "data": {
      "image/png": "[encoded data removed]",
      "text/plain": [
       "<Figure size 640x480 with 1 Axes>"
      ]
     },
     "metadata": {},
     "output_type": "display_data"
    }
   ],
   "source": [
    "# Explorethe selling price of sample dataset with respect to the year of car manufacturing and owner type\n",
    "sns.scatterplot(x = df['year'], y = df['selling_price'], hue=df['owner'])"
   ]
  },
  {
   "cell_type": "code",
   "execution_count": 35,
   "id": "d6833040",
   "metadata": {},
   "outputs": [
    {
     "data": {
      "text/plain": [
       "<Axes: xlabel='mileage', ylabel='selling_price'>"
      ]
     },
     "execution_count": 35,
     "metadata": {},
     "output_type": "execute_result"
    },
    {
     "data": {
      "image/png": "[encoded data removed]",
      "text/plain": [
       "<Figure size 640x480 with 1 Axes>"
      ]
     },
     "metadata": {},
     "output_type": "display_data"
    }
   ],
   "source": [
    "# Explorethe selling price of sample dataset with respect to the mileage of cars\n",
    "sns.scatterplot(x = df['mileage'], y = df['selling_price'])"
   ]
  },
  {
   "cell_type": "markdown",
   "id": "e0deb686",
   "metadata": {},
   "source": [
    "Correlation Matrix"
   ]
  },
  {
   "cell_type": "markdown",
   "id": "44162d10",
   "metadata": {},
   "source": [
    "Explore strong factors predicting the car price and checking whether certain features are too correlated"
   ]
  },
  {
   "cell_type": "code",
   "execution_count": 35,
   "id": "351b07f2",
   "metadata": {},
   "outputs": [],
   "source": [
    "# drop the column because Chaky’s company does not understand well about it\n",
    "df = df.drop('torque', axis='columns')"
   ]
  },
  {
   "cell_type": "code",
   "execution_count": 36,
   "id": "2485aa7b",
   "metadata": {},
   "outputs": [
    {
     "data": {
      "text/html": [
       "<div>\n",
       "<style scoped>\n",
       "    .dataframe tbody tr th:only-of-type {\n",
       "        vertical-align: middle;\n",
       "    }\n",
       "\n",
       "    .dataframe tbody tr th {\n",
       "        vertical-align: top;\n",
       "    }\n",
       "\n",
       "    .dataframe thead th {\n",
       "        text-align: right;\n",
       "    }\n",
       "</style>\n",
       "<table border=\"1\" class=\"dataframe\">\n",
       "  <thead>\n",
       "    <tr style=\"text-align: right;\">\n",
       "      <th></th>\n",
       "      <th>brand</th>\n",
       "      <th>year</th>\n",
       "      <th>selling_price</th>\n",
       "      <th>km_driven</th>\n",
       "      <th>fuel</th>\n",
       "      <th>seller_type</th>\n",
       "      <th>transmission</th>\n",
       "      <th>owner</th>\n",
       "      <th>mileage</th>\n",
       "      <th>engine</th>\n",
       "      <th>max_power</th>\n",
       "      <th>seats</th>\n",
       "    </tr>\n",
       "  </thead>\n",
       "  <tbody>\n",
       "    <tr>\n",
       "      <th>0</th>\n",
       "      <td>Maruti</td>\n",
       "      <td>2014</td>\n",
       "      <td>450000</td>\n",
       "      <td>145500</td>\n",
       "      <td>Diesel</td>\n",
       "      <td>Individual</td>\n",
       "      <td>Manual</td>\n",
       "      <td>1</td>\n",
       "      <td>23.40</td>\n",
       "      <td>1248.0</td>\n",
       "      <td>74.00</td>\n",
       "      <td>5.0</td>\n",
       "    </tr>\n",
       "    <tr>\n",
       "      <th>1</th>\n",
       "      <td>Skoda</td>\n",
       "      <td>2014</td>\n",
       "      <td>370000</td>\n",
       "      <td>120000</td>\n",
       "      <td>Diesel</td>\n",
       "      <td>Individual</td>\n",
       "      <td>Manual</td>\n",
       "      <td>2</td>\n",
       "      <td>21.14</td>\n",
       "      <td>1498.0</td>\n",
       "      <td>103.52</td>\n",
       "      <td>5.0</td>\n",
       "    </tr>\n",
       "    <tr>\n",
       "      <th>2</th>\n",
       "      <td>Honda</td>\n",
       "      <td>2006</td>\n",
       "      <td>158000</td>\n",
       "      <td>140000</td>\n",
       "      <td>Petrol</td>\n",
       "      <td>Individual</td>\n",
       "      <td>Manual</td>\n",
       "      <td>3</td>\n",
       "      <td>17.70</td>\n",
       "      <td>1497.0</td>\n",
       "      <td>78.00</td>\n",
       "      <td>5.0</td>\n",
       "    </tr>\n",
       "    <tr>\n",
       "      <th>3</th>\n",
       "      <td>Hyundai</td>\n",
       "      <td>2010</td>\n",
       "      <td>225000</td>\n",
       "      <td>127000</td>\n",
       "      <td>Diesel</td>\n",
       "      <td>Individual</td>\n",
       "      <td>Manual</td>\n",
       "      <td>1</td>\n",
       "      <td>23.00</td>\n",
       "      <td>1396.0</td>\n",
       "      <td>90.00</td>\n",
       "      <td>5.0</td>\n",
       "    </tr>\n",
       "    <tr>\n",
       "      <th>4</th>\n",
       "      <td>Maruti</td>\n",
       "      <td>2007</td>\n",
       "      <td>130000</td>\n",
       "      <td>120000</td>\n",
       "      <td>Petrol</td>\n",
       "      <td>Individual</td>\n",
       "      <td>Manual</td>\n",
       "      <td>1</td>\n",
       "      <td>16.10</td>\n",
       "      <td>1298.0</td>\n",
       "      <td>88.20</td>\n",
       "      <td>5.0</td>\n",
       "    </tr>\n",
       "  </tbody>\n",
       "</table>\n",
       "</div>"
      ],
      "text/plain": [
       "     brand  year  selling_price  km_driven    fuel seller_type transmission  \\\n",
       "0   Maruti  2014         450000     145500  Diesel  Individual       Manual   \n",
       "1    Skoda  2014         370000     120000  Diesel  Individual       Manual   \n",
       "2    Honda  2006         158000     140000  Petrol  Individual       Manual   \n",
       "3  Hyundai  2010         225000     127000  Diesel  Individual       Manual   \n",
       "4   Maruti  2007         130000     120000  Petrol  Individual       Manual   \n",
       "\n",
       "   owner  mileage  engine  max_power  seats  \n",
       "0      1    23.40  1248.0      74.00    5.0  \n",
       "1      2    21.14  1498.0     103.52    5.0  \n",
       "2      3    17.70  1497.0      78.00    5.0  \n",
       "3      1    23.00  1396.0      90.00    5.0  \n",
       "4      1    16.10  1298.0      88.20    5.0  "
      ]
     },
     "execution_count": 36,
     "metadata": {},
     "output_type": "execute_result"
    }
   ],
   "source": [
    "df.head()"
   ]
  },
  {
   "cell_type": "markdown",
   "id": "296c1c74",
   "metadata": {},
   "source": [
    "Label Encoding"
   ]
  },
  {
   "cell_type": "code",
   "execution_count": 37,
   "id": "68ed0e4f",
   "metadata": {},
   "outputs": [],
   "source": [
    "from sklearn.preprocessing import LabelEncoder"
   ]
  },
  {
   "cell_type": "code",
   "execution_count": 38,
   "id": "08758898",
   "metadata": {},
   "outputs": [
    {
     "name": "stdout",
     "output_type": "stream",
     "text": [
      "Unique attributes in 'brand': ['Maruti' 'Skoda' 'Honda' 'Hyundai' 'Toyota' 'Ford' 'Renault' 'Mahindra'\n",
      " 'Tata' 'Chevrolet' 'Fiat' 'Datsun' 'Jeep' 'Mercedes-Benz' 'Mitsubishi'\n",
      " 'Audi' 'Volkswagen' 'BMW' 'Nissan' 'Lexus' 'Jaguar' 'Land' 'MG' 'Volvo'\n",
      " 'Daewoo' 'Kia' 'Force' 'Ambassador' 'Ashok' 'Isuzu' 'Opel' 'Peugeot']\n"
     ]
    }
   ],
   "source": [
    "unique_values = df['brand'].unique()\n",
    "print(\"Unique attributes in 'brand':\", unique_values)"
   ]
  },
  {
   "cell_type": "code",
   "execution_count": 39,
   "id": "b1940eba",
   "metadata": {},
   "outputs": [
    {
     "data": {
      "text/plain": [
       "array([20, 27, 10, 11, 29,  9, 26, 19, 28,  4,  7,  6, 14, 21, 22,  2, 30,\n",
       "        3, 23, 17, 13, 16, 18, 31,  5, 15,  8,  0,  1, 12, 24, 25])"
      ]
     },
     "execution_count": 39,
     "metadata": {},
     "output_type": "execute_result"
    }
   ],
   "source": [
    "# one hot encoding better when there are less than 4 - 5 unique features in the column.\n",
    "# as 'brand' column has 32 unique values, label encoding will be applied\n",
    "\n",
    "# label encoding for 'brand' column\n",
    "le = LabelEncoder()\n",
    "df[\"brand\"] = le.fit_transform(df[\"brand\"])\n",
    "\n",
    "df[\"brand\"].unique()\n"
   ]
  },
  {
   "cell_type": "code",
   "execution_count": 40,
   "id": "83aa8a4d",
   "metadata": {},
   "outputs": [
    {
     "data": {
      "text/plain": [
       "array(['Ambassador', 'Ashok', 'Audi', 'BMW', 'Chevrolet', 'Daewoo',\n",
       "       'Datsun', 'Fiat', 'Force', 'Ford', 'Honda', 'Hyundai', 'Isuzu',\n",
       "       'Jaguar', 'Jeep', 'Kia', 'Land', 'Lexus', 'MG', 'Mahindra',\n",
       "       'Maruti', 'Mercedes-Benz', 'Mitsubishi', 'Nissan', 'Opel',\n",
       "       'Peugeot', 'Renault', 'Skoda', 'Tata', 'Toyota', 'Volkswagen',\n",
       "       'Volvo'], dtype=object)"
      ]
     },
     "execution_count": 40,
     "metadata": {},
     "output_type": "execute_result"
    }
   ],
   "source": [
    "# we can call le.classes_ to know what it maps to\n",
    "le.classes_"
   ]
  },
  {
   "cell_type": "code",
   "execution_count": 41,
   "id": "1ed4bc6d",
   "metadata": {},
   "outputs": [
    {
     "data": {
      "text/plain": [
       "array([0, 1])"
      ]
     },
     "execution_count": 41,
     "metadata": {},
     "output_type": "execute_result"
    }
   ],
   "source": [
    "# label encoding for 'fuel'\n",
    "le = LabelEncoder()\n",
    "df[\"fuel\"] = le.fit_transform(df[\"fuel\"])\n",
    "\n",
    "df[\"fuel\"].unique()\n"
   ]
  },
  {
   "cell_type": "code",
   "execution_count": 42,
   "id": "1e33b761",
   "metadata": {},
   "outputs": [
    {
     "data": {
      "text/plain": [
       "array(['Diesel', 'Petrol'], dtype=object)"
      ]
     },
     "execution_count": 42,
     "metadata": {},
     "output_type": "execute_result"
    }
   ],
   "source": [
    "# we can call le.classes_ to know what it maps to\n",
    "le.classes_"
   ]
  },
  {
   "cell_type": "code",
   "execution_count": 43,
   "id": "354b6cd9",
   "metadata": {},
   "outputs": [
    {
     "data": {
      "text/plain": [
       "array([0, 1])"
      ]
     },
     "execution_count": 43,
     "metadata": {},
     "output_type": "execute_result"
    }
   ],
   "source": [
    "# then we can try transform\n",
    "le.transform([\"Diesel\", \"Petrol\"])"
   ]
  },
  {
   "cell_type": "code",
   "execution_count": 44,
   "id": "42a01245",
   "metadata": {},
   "outputs": [
    {
     "data": {
      "text/plain": [
       "array(['Individual', 'Dealer', 'Trustmark Dealer'], dtype=object)"
      ]
     },
     "execution_count": 44,
     "metadata": {},
     "output_type": "execute_result"
    }
   ],
   "source": [
    "df[\"seller_type\"].unique()"
   ]
  },
  {
   "cell_type": "code",
   "execution_count": 45,
   "id": "f9864ca5",
   "metadata": {},
   "outputs": [
    {
     "data": {
      "text/plain": [
       "seller_type\n",
       "Individual          6673\n",
       "Dealer              1124\n",
       "Trustmark Dealer     236\n",
       "Name: count, dtype: int64"
      ]
     },
     "execution_count": 45,
     "metadata": {},
     "output_type": "execute_result"
    }
   ],
   "source": [
    "df[\"seller_type\"].value_counts()"
   ]
  },
  {
   "cell_type": "code",
   "execution_count": 46,
   "id": "0e0c88c6",
   "metadata": {},
   "outputs": [
    {
     "data": {
      "text/html": [
       "<div>\n",
       "<style scoped>\n",
       "    .dataframe tbody tr th:only-of-type {\n",
       "        vertical-align: middle;\n",
       "    }\n",
       "\n",
       "    .dataframe tbody tr th {\n",
       "        vertical-align: top;\n",
       "    }\n",
       "\n",
       "    .dataframe thead th {\n",
       "        text-align: right;\n",
       "    }\n",
       "</style>\n",
       "<table border=\"1\" class=\"dataframe\">\n",
       "  <thead>\n",
       "    <tr style=\"text-align: right;\">\n",
       "      <th></th>\n",
       "      <th>brand</th>\n",
       "      <th>year</th>\n",
       "      <th>selling_price</th>\n",
       "      <th>km_driven</th>\n",
       "      <th>fuel</th>\n",
       "      <th>transmission</th>\n",
       "      <th>owner</th>\n",
       "      <th>mileage</th>\n",
       "      <th>engine</th>\n",
       "      <th>max_power</th>\n",
       "      <th>seats</th>\n",
       "      <th>seller_type_Individual</th>\n",
       "      <th>seller_type_Trustmark Dealer</th>\n",
       "    </tr>\n",
       "  </thead>\n",
       "  <tbody>\n",
       "    <tr>\n",
       "      <th>0</th>\n",
       "      <td>20</td>\n",
       "      <td>2014</td>\n",
       "      <td>450000</td>\n",
       "      <td>145500</td>\n",
       "      <td>0</td>\n",
       "      <td>Manual</td>\n",
       "      <td>1</td>\n",
       "      <td>23.40</td>\n",
       "      <td>1248.0</td>\n",
       "      <td>74.00</td>\n",
       "      <td>5.0</td>\n",
       "      <td>1.0</td>\n",
       "      <td>0.0</td>\n",
       "    </tr>\n",
       "    <tr>\n",
       "      <th>1</th>\n",
       "      <td>27</td>\n",
       "      <td>2014</td>\n",
       "      <td>370000</td>\n",
       "      <td>120000</td>\n",
       "      <td>0</td>\n",
       "      <td>Manual</td>\n",
       "      <td>2</td>\n",
       "      <td>21.14</td>\n",
       "      <td>1498.0</td>\n",
       "      <td>103.52</td>\n",
       "      <td>5.0</td>\n",
       "      <td>1.0</td>\n",
       "      <td>0.0</td>\n",
       "    </tr>\n",
       "    <tr>\n",
       "      <th>2</th>\n",
       "      <td>10</td>\n",
       "      <td>2006</td>\n",
       "      <td>158000</td>\n",
       "      <td>140000</td>\n",
       "      <td>1</td>\n",
       "      <td>Manual</td>\n",
       "      <td>3</td>\n",
       "      <td>17.70</td>\n",
       "      <td>1497.0</td>\n",
       "      <td>78.00</td>\n",
       "      <td>5.0</td>\n",
       "      <td>1.0</td>\n",
       "      <td>0.0</td>\n",
       "    </tr>\n",
       "    <tr>\n",
       "      <th>3</th>\n",
       "      <td>11</td>\n",
       "      <td>2010</td>\n",
       "      <td>225000</td>\n",
       "      <td>127000</td>\n",
       "      <td>0</td>\n",
       "      <td>Manual</td>\n",
       "      <td>1</td>\n",
       "      <td>23.00</td>\n",
       "      <td>1396.0</td>\n",
       "      <td>90.00</td>\n",
       "      <td>5.0</td>\n",
       "      <td>1.0</td>\n",
       "      <td>0.0</td>\n",
       "    </tr>\n",
       "    <tr>\n",
       "      <th>4</th>\n",
       "      <td>20</td>\n",
       "      <td>2007</td>\n",
       "      <td>130000</td>\n",
       "      <td>120000</td>\n",
       "      <td>1</td>\n",
       "      <td>Manual</td>\n",
       "      <td>1</td>\n",
       "      <td>16.10</td>\n",
       "      <td>1298.0</td>\n",
       "      <td>88.20</td>\n",
       "      <td>5.0</td>\n",
       "      <td>1.0</td>\n",
       "      <td>0.0</td>\n",
       "    </tr>\n",
       "  </tbody>\n",
       "</table>\n",
       "</div>"
      ],
      "text/plain": [
       "   brand  year  selling_price  km_driven  fuel transmission  owner  mileage  \\\n",
       "0     20  2014         450000     145500     0       Manual      1    23.40   \n",
       "1     27  2014         370000     120000     0       Manual      2    21.14   \n",
       "2     10  2006         158000     140000     1       Manual      3    17.70   \n",
       "3     11  2010         225000     127000     0       Manual      1    23.00   \n",
       "4     20  2007         130000     120000     1       Manual      1    16.10   \n",
       "\n",
       "   engine  max_power  seats  seller_type_Individual  \\\n",
       "0  1248.0      74.00    5.0                     1.0   \n",
       "1  1498.0     103.52    5.0                     1.0   \n",
       "2  1497.0      78.00    5.0                     1.0   \n",
       "3  1396.0      90.00    5.0                     1.0   \n",
       "4  1298.0      88.20    5.0                     1.0   \n",
       "\n",
       "   seller_type_Trustmark Dealer  \n",
       "0                           0.0  \n",
       "1                           0.0  \n",
       "2                           0.0  \n",
       "3                           0.0  \n",
       "4                           0.0  "
      ]
     },
     "execution_count": 46,
     "metadata": {},
     "output_type": "execute_result"
    }
   ],
   "source": [
    "from sklearn.preprocessing import OneHotEncoder\n",
    "import pandas as pd\n",
    "\n",
    "# Column to encode\n",
    "col_to_encode = [\"seller_type\"]\n",
    "\n",
    "# Initialize encoder\n",
    "encoder = OneHotEncoder(drop=\"first\", handle_unknown=\"ignore\")\n",
    "\n",
    "# Fit & transform on the dataset\n",
    "encoded = encoder.fit_transform(df[col_to_encode])\n",
    "\n",
    "# Convert back to DataFrame\n",
    "encoded_df = pd.DataFrame(encoded.toarray(),\n",
    "                          columns=encoder.get_feature_names_out(col_to_encode),\n",
    "                          index=df.index)\n",
    "\n",
    "# Drop original column and join encoded columns\n",
    "df = pd.concat([df.drop(col_to_encode, axis=1), encoded_df], axis=1)\n",
    "\n",
    "df.head()\n",
    "\n",
    "\n"
   ]
  },
  {
   "cell_type": "code",
   "execution_count": 48,
   "id": "59740325",
   "metadata": {},
   "outputs": [
    {
     "data": {
      "text/plain": [
       "Index(['brand', 'year', 'selling_price', 'km_driven', 'fuel', 'transmission',\n",
       "       'owner', 'mileage', 'engine', 'max_power', 'seats',\n",
       "       'seller_type_Individual', 'seller_type_Trustmark Dealer'],\n",
       "      dtype='object')"
      ]
     },
     "execution_count": 48,
     "metadata": {},
     "output_type": "execute_result"
    }
   ],
   "source": [
    "df.columns"
   ]
  },
  {
   "cell_type": "code",
   "execution_count": 47,
   "id": "e8cc0b47",
   "metadata": {},
   "outputs": [
    {
     "data": {
      "text/plain": [
       "array([1, 0])"
      ]
     },
     "execution_count": 47,
     "metadata": {},
     "output_type": "execute_result"
    }
   ],
   "source": [
    "# label encoding for 'transmission'\n",
    "le = LabelEncoder()\n",
    "df[\"transmission\"] = le.fit_transform(df[\"transmission\"])\n",
    "\n",
    "df[\"transmission\"].unique() "
   ]
  },
  {
   "cell_type": "code",
   "execution_count": 48,
   "id": "db7eac47",
   "metadata": {},
   "outputs": [
    {
     "data": {
      "text/plain": [
       "array(['Automatic', 'Manual'], dtype=object)"
      ]
     },
     "execution_count": 48,
     "metadata": {},
     "output_type": "execute_result"
    }
   ],
   "source": [
    "# we can call le.classes_ to know what it maps to\n",
    "le.classes_"
   ]
  },
  {
   "cell_type": "code",
   "execution_count": 49,
   "id": "18dc32fd",
   "metadata": {},
   "outputs": [
    {
     "data": {
      "text/plain": [
       "array([1, 0])"
      ]
     },
     "execution_count": 49,
     "metadata": {},
     "output_type": "execute_result"
    }
   ],
   "source": [
    "\n",
    "le.transform([\"Manual\", \"Automatic\"])"
   ]
  },
  {
   "cell_type": "code",
   "execution_count": 50,
   "id": "65980b00",
   "metadata": {},
   "outputs": [],
   "source": [
    "# According to EDA for owner attribue VS selling price done above, Test Drive Cars are ridiculously expensive. \n",
    "# Since we do not want to involve this, we will simply delete all samples related to it.\n",
    "df = df[df['owner'] != 5]\n"
   ]
  },
  {
   "cell_type": "code",
   "execution_count": 51,
   "id": "ff8e6853",
   "metadata": {},
   "outputs": [
    {
     "data": {
      "text/plain": [
       "(8028, 13)"
      ]
     },
     "execution_count": 51,
     "metadata": {},
     "output_type": "execute_result"
    }
   ],
   "source": [
    "df.shape"
   ]
  },
  {
   "cell_type": "code",
   "execution_count": 52,
   "id": "24f45b94",
   "metadata": {},
   "outputs": [
    {
     "data": {
      "text/plain": [
       "<Axes: >"
      ]
     },
     "execution_count": 52,
     "metadata": {},
     "output_type": "execute_result"
    },
    {
     "data": {
      "image/png": "[encoded data removed]",
      "text/plain": [
       "<Figure size 1500x800 with 2 Axes>"
      ]
     },
     "metadata": {},
     "output_type": "display_data"
    }
   ],
   "source": [
    "# Let's check out heatmap\n",
    "plt.figure(figsize = (15,8))\n",
    "sns.heatmap(df.corr(), annot=True, cmap=\"coolwarm\")  \n"
   ]
  },
  {
   "cell_type": "markdown",
   "id": "f4e015c1",
   "metadata": {},
   "source": [
    "#### 03. Feature Selection"
   ]
  },
  {
   "cell_type": "code",
   "execution_count": 53,
   "id": "3fc288cc",
   "metadata": {},
   "outputs": [],
   "source": [
    "#x is our strong features\n",
    "\n",
    "X = df[['transmission','max_power']]\n",
    "\n",
    "#y is simply the life expectancy col\n",
    "y = df[\"selling_price\"]"
   ]
  },
  {
   "cell_type": "code",
   "execution_count": 56,
   "id": "fd192f91",
   "metadata": {},
   "outputs": [
    {
     "data": {
      "text/html": [
       "<div>\n",
       "<style scoped>\n",
       "    .dataframe tbody tr th:only-of-type {\n",
       "        vertical-align: middle;\n",
       "    }\n",
       "\n",
       "    .dataframe tbody tr th {\n",
       "        vertical-align: top;\n",
       "    }\n",
       "\n",
       "    .dataframe thead th {\n",
       "        text-align: right;\n",
       "    }\n",
       "</style>\n",
       "<table border=\"1\" class=\"dataframe\">\n",
       "  <thead>\n",
       "    <tr style=\"text-align: right;\">\n",
       "      <th></th>\n",
       "      <th>transmission</th>\n",
       "      <th>max_power</th>\n",
       "    </tr>\n",
       "  </thead>\n",
       "  <tbody>\n",
       "    <tr>\n",
       "      <th>0</th>\n",
       "      <td>1</td>\n",
       "      <td>74.00</td>\n",
       "    </tr>\n",
       "    <tr>\n",
       "      <th>1</th>\n",
       "      <td>1</td>\n",
       "      <td>103.52</td>\n",
       "    </tr>\n",
       "    <tr>\n",
       "      <th>2</th>\n",
       "      <td>1</td>\n",
       "      <td>78.00</td>\n",
       "    </tr>\n",
       "    <tr>\n",
       "      <th>3</th>\n",
       "      <td>1</td>\n",
       "      <td>90.00</td>\n",
       "    </tr>\n",
       "    <tr>\n",
       "      <th>4</th>\n",
       "      <td>1</td>\n",
       "      <td>88.20</td>\n",
       "    </tr>\n",
       "  </tbody>\n",
       "</table>\n",
       "</div>"
      ],
      "text/plain": [
       "   transmission  max_power\n",
       "0             1      74.00\n",
       "1             1     103.52\n",
       "2             1      78.00\n",
       "3             1      90.00\n",
       "4             1      88.20"
      ]
     },
     "execution_count": 56,
     "metadata": {},
     "output_type": "execute_result"
    }
   ],
   "source": [
    "X.head()"
   ]
  },
  {
   "cell_type": "markdown",
   "id": "42da054f",
   "metadata": {},
   "source": [
    "Train test split"
   ]
  },
  {
   "cell_type": "code",
   "execution_count": 54,
   "id": "c183a632",
   "metadata": {},
   "outputs": [],
   "source": [
    "from sklearn.model_selection import train_test_split\n",
    "\n",
    "X_train, X_test, y_train, y_test = train_test_split(X, y, test_size = 0.3, random_state = 42)"
   ]
  },
  {
   "cell_type": "markdown",
   "id": "fb8b8163",
   "metadata": {},
   "source": [
    "#### 04. Preprocessing"
   ]
  },
  {
   "cell_type": "code",
   "execution_count": 57,
   "id": "d7618f6d",
   "metadata": {},
   "outputs": [
    {
     "data": {
      "text/plain": [
       "transmission      0\n",
       "max_power       149\n",
       "dtype: int64"
      ]
     },
     "execution_count": 57,
     "metadata": {},
     "output_type": "execute_result"
    }
   ],
   "source": [
    "# check null values\n",
    "\n",
    "#check for null values\n",
    "X_train[['transmission','max_power']].isna().sum()"
   ]
  },
  {
   "cell_type": "code",
   "execution_count": 58,
   "id": "14b01205",
   "metadata": {},
   "outputs": [
    {
     "data": {
      "text/plain": [
       "transmission     0\n",
       "max_power       59\n",
       "dtype: int64"
      ]
     },
     "execution_count": 58,
     "metadata": {},
     "output_type": "execute_result"
    }
   ],
   "source": [
    "X_test[['transmission','max_power']].isna().sum()"
   ]
  },
  {
   "cell_type": "code",
   "execution_count": 60,
   "id": "ccda00c7",
   "metadata": {},
   "outputs": [
    {
     "data": {
      "text/plain": [
       "np.int64(0)"
      ]
     },
     "execution_count": 60,
     "metadata": {},
     "output_type": "execute_result"
    }
   ],
   "source": [
    "y_train.isna().sum()"
   ]
  },
  {
   "cell_type": "code",
   "execution_count": 61,
   "id": "05237e79",
   "metadata": {},
   "outputs": [
    {
     "data": {
      "text/plain": [
       "np.int64(0)"
      ]
     },
     "execution_count": 61,
     "metadata": {},
     "output_type": "execute_result"
    }
   ],
   "source": [
    "y_test.isna().sum()"
   ]
  },
  {
   "cell_type": "code",
   "execution_count": 55,
   "id": "90fd097b",
   "metadata": {},
   "outputs": [
    {
     "name": "stdout",
     "output_type": "stream",
     "text": [
      "Defaults saved: {'mean_max_power': np.float64(92.04935009140767), 'median_max_power': np.float64(82.4), 'transmission_ratio': {1: 0.8651005516995907, 0: 0.1348994483004093}}\n"
     ]
    }
   ],
   "source": [
    "import pickle\n",
    "\n",
    "# calculate defaults for missing values\n",
    "mean_max_power = X_train[\"max_power\"].mean()\n",
    "median_max_power = X_train[\"max_power\"].median()\n",
    "\n",
    "#  Categorical feature defaults (transmission ratio)\n",
    "transmission_counts = X_train[\"transmission\"].value_counts(normalize=True).to_dict()\n",
    "\n",
    "# Save defaults\n",
    "defaults = {\n",
    "    \"mean_max_power\": mean_max_power,\n",
    "    \"median_max_power\": median_max_power,\n",
    "    \"transmission_ratio\": transmission_counts\n",
    "}\n",
    "\n",
    "with open(\"defaults.pkl\", \"wb\") as f:\n",
    "    pickle.dump(defaults, f)\n",
    "\n",
    "print(\"Defaults saved:\", defaults)\n"
   ]
  },
  {
   "cell_type": "code",
   "execution_count": 56,
   "id": "3067191c",
   "metadata": {},
   "outputs": [],
   "source": [
    "## if numbers -->  average | median | regression results | 0\n",
    "## if categories --> mode     |  ratio    | “No category”\n",
    "\n",
    "#let's fill the training set first!\n",
    "X_train['max_power'].fillna(X_train['max_power'].median(), inplace=True)"
   ]
  },
  {
   "cell_type": "code",
   "execution_count": 57,
   "id": "02ad3494",
   "metadata": {},
   "outputs": [],
   "source": [
    "#let's fill the testing set\n",
    "X_test['max_power'].fillna(X_test['max_power'].median(), inplace=True)"
   ]
  },
  {
   "cell_type": "code",
   "execution_count": 58,
   "id": "56e9b7f9",
   "metadata": {},
   "outputs": [
    {
     "data": {
      "text/plain": [
       "transmission    0\n",
       "max_power       0\n",
       "dtype: int64"
      ]
     },
     "execution_count": 58,
     "metadata": {},
     "output_type": "execute_result"
    }
   ],
   "source": [
    "#check again\n",
    "X_train[['transmission','max_power']].isna().sum()"
   ]
  },
  {
   "cell_type": "code",
   "execution_count": 59,
   "id": "51c90ea7",
   "metadata": {},
   "outputs": [
    {
     "data": {
      "text/plain": [
       "transmission    0\n",
       "max_power       0\n",
       "dtype: int64"
      ]
     },
     "execution_count": 59,
     "metadata": {},
     "output_type": "execute_result"
    }
   ],
   "source": [
    "X_test[['transmission','max_power']].isna().sum()"
   ]
  },
  {
   "cell_type": "code",
   "execution_count": 60,
   "id": "d9a70809",
   "metadata": {},
   "outputs": [
    {
     "data": {
      "text/plain": [
       "(np.int64(0), np.int64(0))"
      ]
     },
     "execution_count": 60,
     "metadata": {},
     "output_type": "execute_result"
    }
   ],
   "source": [
    "y_train.isna().sum(), y_test.isna().sum()"
   ]
  },
  {
   "cell_type": "markdown",
   "id": "f01b850e",
   "metadata": {},
   "source": [
    "Checking Outliers"
   ]
  },
  {
   "cell_type": "code",
   "execution_count": 50,
   "id": "bac5db1f",
   "metadata": {},
   "outputs": [],
   "source": [
    "def outlier_count(col, data = X_train):\n",
    "    \n",
    "    # calculate your 25% quatile and 75% quatile\n",
    "    q75, q25 = np.percentile(data[col], [75, 25])\n",
    "    \n",
    "    # calculate your inter quatile\n",
    "    iqr = q75 - q25\n",
    "    \n",
    "    # min_val and max_val\n",
    "    min_val = q25 - (iqr*1.5)\n",
    "    max_val = q75 + (iqr*1.5)\n",
    "    \n",
    "    # count number of outliers, which are the data that are less than min_val or more than max_val calculated above\n",
    "    outlier_count = len(np.where((data[col] > max_val) | (data[col] < min_val))[0])\n",
    "    \n",
    "    # calculate the percentage of the outliers\n",
    "    outlier_percent = round(outlier_count/len(data[col])*100, 2)\n",
    "    \n",
    "    if(outlier_count > 0):\n",
    "        print(\"\\n\"+15*'-' + col + 15*'-'+\"\\n\")\n",
    "        print('Number of outliers: {}'.format(outlier_count))\n",
    "        print('Percent of data that is outlier: {}%'.format(outlier_percent))"
   ]
  },
  {
   "cell_type": "code",
   "execution_count": 51,
   "id": "b24e585f",
   "metadata": {},
   "outputs": [
    {
     "name": "stdout",
     "output_type": "stream",
     "text": [
      "\n",
      "---------------transmission---------------\n",
      "\n",
      "Number of outliers: 758\n",
      "Percent of data that is outlier: 13.49%\n",
      "\n",
      "---------------max_power---------------\n",
      "\n",
      "Number of outliers: 409\n",
      "Percent of data that is outlier: 7.28%\n"
     ]
    }
   ],
   "source": [
    "for col in X_train.columns:\n",
    "    outlier_count(col)"
   ]
  },
  {
   "cell_type": "markdown",
   "id": "73f9ff03",
   "metadata": {},
   "source": [
    "Scalling"
   ]
  },
  {
   "cell_type": "markdown",
   "id": "8619279c",
   "metadata": {},
   "source": [
    "#StandardScaler is usually used for continuous values\n",
    "#transmission is categorical\n",
    "#standardizing it will lose the category, so it will not be done here"
   ]
  },
  {
   "cell_type": "code",
   "execution_count": 61,
   "id": "0c7489d0",
   "metadata": {},
   "outputs": [],
   "source": [
    "# Scale only the second column\n",
    "scaler = StandardScaler()\n",
    "X_train.iloc[:, 1] = scaler.fit_transform(X_train.iloc[:, [1]])\n",
    "X_test.iloc[:, 1]  = scaler.transform(X_test.iloc[:, [1]])"
   ]
  },
  {
   "cell_type": "code",
   "execution_count": 53,
   "id": "20c361e6",
   "metadata": {},
   "outputs": [
    {
     "data": {
      "text/html": [
       "<div>\n",
       "<style scoped>\n",
       "    .dataframe tbody tr th:only-of-type {\n",
       "        vertical-align: middle;\n",
       "    }\n",
       "\n",
       "    .dataframe tbody tr th {\n",
       "        vertical-align: top;\n",
       "    }\n",
       "\n",
       "    .dataframe thead th {\n",
       "        text-align: right;\n",
       "    }\n",
       "</style>\n",
       "<table border=\"1\" class=\"dataframe\">\n",
       "  <thead>\n",
       "    <tr style=\"text-align: right;\">\n",
       "      <th></th>\n",
       "      <th>transmission</th>\n",
       "      <th>max_power</th>\n",
       "    </tr>\n",
       "  </thead>\n",
       "  <tbody>\n",
       "    <tr>\n",
       "      <th>6853</th>\n",
       "      <td>1</td>\n",
       "      <td>-0.547545</td>\n",
       "    </tr>\n",
       "    <tr>\n",
       "      <th>1495</th>\n",
       "      <td>1</td>\n",
       "      <td>-0.838350</td>\n",
       "    </tr>\n",
       "    <tr>\n",
       "      <th>7904</th>\n",
       "      <td>1</td>\n",
       "      <td>-0.085646</td>\n",
       "    </tr>\n",
       "  </tbody>\n",
       "</table>\n",
       "</div>"
      ],
      "text/plain": [
       "      transmission  max_power\n",
       "6853             1  -0.547545\n",
       "1495             1  -0.838350\n",
       "7904             1  -0.085646"
      ]
     },
     "execution_count": 53,
     "metadata": {},
     "output_type": "execute_result"
    }
   ],
   "source": [
    "X_train.head(3)"
   ]
  },
  {
   "cell_type": "code",
   "execution_count": 54,
   "id": "583a4182",
   "metadata": {},
   "outputs": [
    {
     "data": {
      "text/html": [
       "<div>\n",
       "<style scoped>\n",
       "    .dataframe tbody tr th:only-of-type {\n",
       "        vertical-align: middle;\n",
       "    }\n",
       "\n",
       "    .dataframe tbody tr th {\n",
       "        vertical-align: top;\n",
       "    }\n",
       "\n",
       "    .dataframe thead th {\n",
       "        text-align: right;\n",
       "    }\n",
       "</style>\n",
       "<table border=\"1\" class=\"dataframe\">\n",
       "  <thead>\n",
       "    <tr style=\"text-align: right;\">\n",
       "      <th></th>\n",
       "      <th>transmission</th>\n",
       "      <th>max_power</th>\n",
       "    </tr>\n",
       "  </thead>\n",
       "  <tbody>\n",
       "    <tr>\n",
       "      <th>5948</th>\n",
       "      <td>1</td>\n",
       "      <td>-0.050636</td>\n",
       "    </tr>\n",
       "    <tr>\n",
       "      <th>6039</th>\n",
       "      <td>1</td>\n",
       "      <td>0.971416</td>\n",
       "    </tr>\n",
       "    <tr>\n",
       "      <th>3069</th>\n",
       "      <td>1</td>\n",
       "      <td>-0.698877</td>\n",
       "    </tr>\n",
       "  </tbody>\n",
       "</table>\n",
       "</div>"
      ],
      "text/plain": [
       "      transmission  max_power\n",
       "5948             1  -0.050636\n",
       "6039             1   0.971416\n",
       "3069             1  -0.698877"
      ]
     },
     "execution_count": 54,
     "metadata": {},
     "output_type": "execute_result"
    }
   ],
   "source": [
    "X_test.head(3)"
   ]
  },
  {
   "cell_type": "code",
   "execution_count": 73,
   "id": "c98cfc66",
   "metadata": {},
   "outputs": [
    {
     "data": {
      "text/plain": [
       "2"
      ]
     },
     "execution_count": 73,
     "metadata": {},
     "output_type": "execute_result"
    }
   ],
   "source": [
    "# no fo features\n",
    "n = X_train.shape[1]\n",
    "n"
   ]
  },
  {
   "cell_type": "markdown",
   "id": "03217e1d",
   "metadata": {},
   "source": [
    "#### 05. Model Selection"
   ]
  },
  {
   "cell_type": "code",
   "execution_count": 62,
   "id": "384531da",
   "metadata": {},
   "outputs": [
    {
     "data": {
      "text/plain": [
       "6853    12.980800\n",
       "1495    12.899220\n",
       "7904    13.122363\n",
       "1281    12.154779\n",
       "1421    12.278393\n",
       "Name: selling_price, dtype: float64"
      ]
     },
     "execution_count": 62,
     "metadata": {},
     "output_type": "execute_result"
    }
   ],
   "source": [
    "#Since selling price is a big number, transform the label using log transform,\n",
    "y_train = np.log(y_train)\n",
    "y_train.head()"
   ]
  },
  {
   "cell_type": "code",
   "execution_count": 56,
   "id": "61196b8e",
   "metadata": {},
   "outputs": [
    {
     "name": "stdout",
     "output_type": "stream",
     "text": [
      "Shape of X_train:  (5619, 2)\n",
      "Shape of X_test:  (2409, 2)\n",
      "Shape of y_train:  (5619,)\n",
      "Shape of y_test:  (2409,)\n"
     ]
    }
   ],
   "source": [
    "# Let's check shapes of all X_train, X_test, y_train, y_test\n",
    "print(\"Shape of X_train: \", X_train.shape)\n",
    "print(\"Shape of X_test: \", X_test.shape)\n",
    "print(\"Shape of y_train: \", y_train.shape)\n",
    "print(\"Shape of y_test: \", y_test.shape)"
   ]
  },
  {
   "cell_type": "markdown",
   "id": "ec8fabef",
   "metadata": {},
   "source": [
    "Modeling"
   ]
  },
  {
   "cell_type": "markdown",
   "id": "52eea48e",
   "metadata": {},
   "source": [
    "Car price prediction with LinearRegression"
   ]
  },
  {
   "cell_type": "markdown",
   "id": "a2ca9f0e",
   "metadata": {},
   "source": [
    "## Replace Model with LinearRegression Class"
   ]
  },
  {
   "cell_type": "code",
   "execution_count": 63,
   "id": "f9d43c3a",
   "metadata": {},
   "outputs": [],
   "source": [
    "# add intercept to the dataset\n",
    "\n",
    "# X = np.insert(X, 0, 1, axis=1)\n",
    "intercept = np.ones((X_train.shape[0], 1))\n",
    "X_train   = np.concatenate((intercept, X_train), axis=1)\n",
    "intercept = np.ones((X_test.shape[0], 1))\n",
    "X_test    = np.concatenate((intercept, X_test), axis=1)"
   ]
  },
  {
   "cell_type": "code",
   "execution_count": 77,
   "id": "c0c4aff3",
   "metadata": {},
   "outputs": [],
   "source": [
    "y_train = y_train.to_numpy()"
   ]
  },
  {
   "cell_type": "markdown",
   "id": "37292938",
   "metadata": {},
   "source": [
    "#### Linear Regression Class"
   ]
  },
  {
   "cell_type": "code",
   "execution_count": 78,
   "id": "b62999dc",
   "metadata": {},
   "outputs": [
    {
     "data": {
      "text/plain": [
       "3"
      ]
     },
     "execution_count": 78,
     "metadata": {},
     "output_type": "execute_result"
    }
   ],
   "source": [
    "n = X_train.shape[1] \n",
    "n"
   ]
  },
  {
   "cell_type": "code",
   "execution_count": 79,
   "id": "9e31a32f",
   "metadata": {},
   "outputs": [
    {
     "data": {
      "text/plain": [
       "array([ 1.        ,  1.        , -0.54754542])"
      ]
     },
     "execution_count": 79,
     "metadata": {},
     "output_type": "execute_result"
    }
   ],
   "source": [
    "X_train[0]"
   ]
  },
  {
   "cell_type": "code",
   "execution_count": 80,
   "id": "1ef3db59",
   "metadata": {},
   "outputs": [
    {
     "data": {
      "text/plain": [
       "array([1.        , 1.        , 0.24863884])"
      ]
     },
     "execution_count": 80,
     "metadata": {},
     "output_type": "execute_result"
    }
   ],
   "source": [
    "X_train[10]"
   ]
  },
  {
   "cell_type": "code",
   "execution_count": null,
   "id": "709b7b5f",
   "metadata": {},
   "outputs": [],
   "source": [
    "from sklearn.model_selection import KFold\n",
    "import numpy as np\n",
    "import mlflow\n",
    "\n",
    "\n",
    "class LinearRegression(object):\n",
    "    \n",
    "  \n",
    "    kfold = KFold(n_splits=3)\n",
    "\n",
    "    # extract number of features in X_train\n",
    "    n = X_train.shape[1]  \n",
    "     \n",
    "    def __init__(self, regularization, weight_init, lr, method, use_momentum, num_epochs=200, batch_size=50, cv=kfold, \n",
    "                 n_features = n, momentum=0.9, prev_step=0,**kwargs):\n",
    "        self.lr         = lr\n",
    "        self.num_epochs = num_epochs\n",
    "        self.batch_size = batch_size\n",
    "        self.method     = method\n",
    "        self.cv         = cv\n",
    "        self.n_features = n_features\n",
    "        self.regularization = regularization\n",
    "        self.weight_init = weight_init\n",
    "        self.use_momentum = use_momentum\n",
    "        self.momentum = momentum\n",
    "        self.prev_step = prev_step\n",
    "\n",
    "    # function to initialize the weights for parameters\n",
    "    def initialize_weight(self, n_features, weight_init):\n",
    "        #print(weight_init)\n",
    "        if weight_init == \"zeros\":\n",
    "            return np.zeros(n_features)\n",
    "        elif weight_init == \"xavier\":\n",
    "            lower, upper = -(1.0/np.sqrt(n_features)), (1.0/np.sqrt(n_features))\n",
    "            numbers = np.random.rand(n_features)  \n",
    "            scaled = lower + numbers * (upper - lower)\n",
    "            return scaled\n",
    "        else:\n",
    "            raise ValueError(\"Initialization method is not known\")\n",
    "\n",
    "    def mse(self, ytrue, ypred):\n",
    "        ytrue = np.atleast_1d(ytrue)\n",
    "        ypred = np.atleast_1d(ypred)\n",
    "        return ((ypred - ytrue) ** 2).sum() / ytrue.shape[0]\n",
    "\n",
    "    # function to calculate r2 score\n",
    "    def r2(self, ytrue, ypred):\n",
    "        ss_res = ((ytrue - ypred) ** 2).sum()     # residual sum of squares\n",
    "        ss_tot = ((ytrue - ytrue.mean()) ** 2).sum()  # total sum of squares\n",
    "        return 1 - (ss_res / ss_tot)\n",
    "\n",
    "    def fit(self, X_train, y_train):\n",
    "        # store per-fold results\n",
    "        self.kfold_val_mse = []\n",
    "        self.kfold_val_r2 = []\n",
    "        self.val_loss_old = np.inf\n",
    "\n",
    "        #print(\"in fit\",self.weight_init)\n",
    "\n",
    "        for fold, (train_idx, val_idx) in enumerate(self.cv.split(X_train)):\n",
    "            X_cross_train = X_train[train_idx]\n",
    "            y_cross_train = y_train[train_idx]\n",
    "            X_cross_val   = X_train[val_idx]\n",
    "            y_cross_val   = y_train[val_idx]\n",
    "            #print(\"in fold\",self.weight_init)\n",
    "            \n",
    "            # initialize weights for theta\n",
    "            self.theta = self.initialize_weight(X_cross_train.shape[1], self.weight_init)\n",
    "\n",
    "            for epoch in range(self.num_epochs):\n",
    "                # shuffle training data\n",
    "                perm = np.random.permutation(X_cross_train.shape[0])\n",
    "                X_cross_train = X_cross_train[perm]\n",
    "                y_cross_train = y_cross_train[perm]\n",
    "\n",
    "                # training step depending on method\n",
    "                if self.method == 'stochastic':\n",
    "                    for batch_idx in range(X_cross_train.shape[0]):\n",
    "                        X_method_train = X_cross_train[batch_idx].reshape(1, -1)\n",
    "                        y_method_train = y_cross_train[batch_idx:batch_idx+1]\n",
    "                        train_loss = self._train(X_method_train, y_method_train)\n",
    "\n",
    "                elif self.method == 'mini-batch':\n",
    "                    for batch_idx in range(0, X_cross_train.shape[0], self.batch_size):\n",
    "                        X_method_train = X_cross_train[batch_idx:batch_idx+self.batch_size, :]\n",
    "                        y_method_train = y_cross_train[batch_idx:batch_idx+self.batch_size]\n",
    "                        train_loss = self._train(X_method_train, y_method_train)\n",
    "                else:\n",
    "                    X_method_train = X_cross_train\n",
    "                    y_method_train = y_cross_train\n",
    "                    train_loss = self._train(X_method_train, y_method_train)\n",
    "\n",
    "                # log training loss\n",
    "                mlflow.log_metric(key=f\"train_loss_fold{fold}\", value=train_loss, step=epoch)\n",
    "\n",
    "                # validation metrics\n",
    "                yhat_val = self.predict(X_cross_val)\n",
    "                val_loss_new = self.mse(y_cross_val, yhat_val)\n",
    "                val_r2_new = self.r2(y_cross_val, yhat_val)\n",
    "\n",
    "                # log validation metrics per fold\n",
    "                mlflow.log_metric(key=f\"val_mse_fold{fold}\", value=val_loss_new, step=epoch)\n",
    "                mlflow.log_metric(key=f\"val_r2_fold{fold}\", value=val_r2_new, step=epoch)\n",
    "\n",
    "                # early stopping\n",
    "                if np.allclose(val_loss_new, self.val_loss_old):\n",
    "                    break\n",
    "                self.val_loss_old = val_loss_new\n",
    "\n",
    "            # store final validation metrics for this fold\n",
    "            self.kfold_val_mse.append(val_loss_new)\n",
    "            self.kfold_val_r2.append(val_r2_new)\n",
    "\n",
    "            print(f\"Fold {fold}: val_mse={val_loss_new:.4f}, val_r2={val_r2_new:.4f}\")\n",
    "\n",
    "        # log average validation metrics across folds\n",
    "        mean_val_mse = np.mean(self.kfold_val_mse)\n",
    "        mean_val_r2 = np.mean(self.kfold_val_r2)\n",
    "\n",
    "        mlflow.log_metric(\"mean_val_mse\", mean_val_mse)\n",
    "        mlflow.log_metric(\"mean_val_r2\", mean_val_r2)\n",
    "\n",
    "        print(f\"Average Cross Validation Results → val_mse={mean_val_mse:.4f}, val_r2={mean_val_r2:.4f}\")\n",
    "\n",
    "    # update theta\n",
    "    def update(self, grad):\n",
    "        if self.use_momentum:\n",
    "            step = self.lr * grad\n",
    "            self.theta = self.theta - step + self.momentum * self.prev_step\n",
    "            self.prev_step = step\n",
    "        else:\n",
    "            self.theta = self.theta - self.lr * grad\n",
    "\n",
    "    def _train(self, X, y):\n",
    "        yhat = self.predict(X)\n",
    "        m    = X.shape[0]        \n",
    "        grad = (1/m) * X.T @(yhat - y) + self.regularization.derivation(self.theta)\n",
    "        self.update(grad)\n",
    "        return self.mse(y, yhat)\n",
    "\n",
    "    def predict(self, X):\n",
    "        return X @ self.theta  # (m, n) @ (n, )\n",
    "\n",
    "    def _coef(self):\n",
    "        return self.theta[1:]  # w1...wn\n",
    "\n",
    "    def _bias(self):\n",
    "        return self.theta[0]   # w0\n"
   ]
  },
  {
   "cell_type": "markdown",
   "id": "90fc02eb",
   "metadata": {},
   "source": [
    "Now, create `Ridge`, `Lasso` and `Elastic` class that extends the `LinearRegression`, with added penalty."
   ]
  },
  {
   "cell_type": "code",
   "execution_count": 95,
   "id": "c572697e",
   "metadata": {},
   "outputs": [],
   "source": [
    "from sklearn.preprocessing import PolynomialFeatures\n",
    "#from sklearn.linear_model import LinearRegression"
   ]
  },
  {
   "cell_type": "code",
   "execution_count": null,
   "id": "9b7ae607",
   "metadata": {},
   "outputs": [],
   "source": [
    "# for normal regression\n",
    "class NoPenalty:\n",
    "    def __call__(self, theta):\n",
    "        return 0\n",
    "    \n",
    "    def derivation(self, theta):\n",
    "        return 0\n",
    "    \n",
    "\n",
    "class LassoPenalty:\n",
    "    def __init__(self, l):\n",
    "        self.l = l\n",
    "        \n",
    "    def __call__(self, theta):\n",
    "        return self.l * np.sum(np.abs(theta))\n",
    "        \n",
    "    def derivation(self, theta):\n",
    "        return self.l * np.sign(theta)\n",
    "    \n",
    "\n",
    "class RidgePenalty:\n",
    "    def __init__(self, l):\n",
    "        self.l = l\n",
    "        \n",
    "    def __call__(self, theta):\n",
    "        return self.l * np.sum(np.square(theta))\n",
    "        \n",
    "    def derivation(self, theta):\n",
    "        return self.l * 2 * theta\n",
    "    \n",
    "\n",
    "class ElasticPenalty:\n",
    "    def __init__(self, l=0.1, l_ratio=0.5):\n",
    "        self.l = l \n",
    "        self.l_ratio = l_ratio\n",
    "\n",
    "    def __call__(self, theta):\n",
    "        l1_contribution = self.l_ratio * self.l * np.sum(np.abs(theta))\n",
    "        l2_contribution = (1 - self.l_ratio) * self.l * 0.5 * np.sum(np.square(theta))\n",
    "        return l1_contribution + l2_contribution\n",
    "\n",
    "    def derivation(self, theta):\n",
    "        l1_derivation = self.l * self.l_ratio * np.sign(theta)\n",
    "        l2_derivation = self.l * (1 - self.l_ratio) * theta\n",
    "        return l1_derivation + l2_derivation\n",
    "\n",
    "\n",
    "# Regression Models \n",
    "\n",
    "\n",
    "class NormalRegression(LinearRegression):\n",
    "    def __init__(self, method, lr, weight_init, use_momentum, l):\n",
    "        self.regularization = NoPenalty()\n",
    "        super().__init__(self.regularization,weight_init,lr,method,use_momentum)\n",
    "\n",
    "\n",
    "class Lasso(LinearRegression):\n",
    "    def __init__(self, method, lr, weight_init, use_momentum, l):\n",
    "        self.regularization = LassoPenalty(l)\n",
    "        super().__init__(self.regularization,weight_init,lr,method,use_momentum)\n",
    "    \n",
    "\n",
    "class Ridge(LinearRegression):\n",
    "    def __init__(self, method, lr, weight_init, use_momentum, l):\n",
    "        #print(\"Ridge\",weight_init)\n",
    "        self.regularization = RidgePenalty(l)\n",
    "        super().__init__(self.regularization,weight_init,lr,method,use_momentum)\n",
    "\n",
    "\n",
    "class ElasticNet(LinearRegression):\n",
    "    def __init__(self, method, lr, weight_init, use_momentum, l, l_ratio=0.5):\n",
    "        self.regularization = ElasticPenalty(l, l_ratio)\n",
    "        super().__init__(self.regularization,weight_init,lr,method,use_momentum)\n",
    "\n",
    "class PolynomialRegression(LinearRegression):\n",
    "    def __init__(self, method, lr, weight_init, use_momentum, l, degree=2):\n",
    "        self.degree = degree\n",
    "        self.regularization = NoPenalty()\n",
    "        super().__init__(self.regularization,weight_init,lr,method,use_momentum)\n",
    "        self.poly = PolynomialFeatures(degree=self.degree, include_bias=False)\n",
    "\n",
    "    def fit(self, X, y, *args, **kwargs):\n",
    "        X_poly = self.poly.fit_transform(X)\n",
    "        return super().fit(X_poly, y, *args, **kwargs)\n",
    "\n",
    "    def predict(self, X):\n",
    "        n_expected_raw = self.poly.n_features_in_\n",
    "        if X.shape[1] == n_expected_raw:\n",
    "            X_poly = self.poly.transform(X)\n",
    "        else:\n",
    "            X_poly = X\n",
    "        return super().predict(X_poly)\n"
   ]
  },
  {
   "cell_type": "markdown",
   "id": "da4c1865",
   "metadata": {},
   "source": [
    "#### Experiment"
   ]
  },
  {
   "cell_type": "code",
   "execution_count": 97,
   "id": "803f112e",
   "metadata": {},
   "outputs": [],
   "source": [
    "#helper function for looping classnames\n",
    "import sys\n",
    "\n",
    "def str_to_class(classname):\n",
    "    return getattr(sys.modules[__name__], classname)"
   ]
  },
  {
   "cell_type": "code",
   "execution_count": null,
   "id": "976eb1ea",
   "metadata": {},
   "outputs": [
    {
     "name": "stdout",
     "output_type": "stream",
     "text": [
      "===== reg-Ridge_method-stochastic_winit-zeros_lr-0.01_momentum-True =====\n",
      "Fold 0: val_mse=4.9704, val_r2=-6.2393\n",
      "Fold 1: val_mse=4.4469, val_r2=-5.1483\n",
      "Fold 2: val_mse=4.6735, val_r2=-5.7300\n",
      "Average Cross Validation Results → val_mse=4.6969, val_r2=-5.7059\n",
      "🏃 View run reg-Ridge_method-stochastic_winit-zeros_lr-0.01_momentum-True at: http://localhost:5000/#/experiments/1/runs/f5b968a510fa4a61827fa18ff7a09926\n",
      "🧪 View experiment at: http://localhost:5000/#/experiments/1\n",
      "===== reg-Ridge_method-stochastic_winit-zeros_lr-0.01_momentum-False =====\n",
      "Fold 0: val_mse=4.4852, val_r2=-5.5327\n",
      "Fold 1: val_mse=4.4496, val_r2=-5.1521\n",
      "Fold 2: val_mse=4.2278, val_r2=-5.0883\n",
      "Average Cross Validation Results → val_mse=4.3876, val_r2=-5.2577\n",
      "🏃 View run reg-Ridge_method-stochastic_winit-zeros_lr-0.01_momentum-False at: http://localhost:5000/#/experiments/1/runs/6fe5e044f9834846935e5e7a27d97846\n",
      "🧪 View experiment at: http://localhost:5000/#/experiments/1\n",
      "===== reg-Ridge_method-stochastic_winit-zeros_lr-0.001_momentum-True =====\n",
      "Fold 0: val_mse=4.9562, val_r2=-6.2187\n",
      "Fold 1: val_mse=4.4678, val_r2=-5.1771\n",
      "Fold 2: val_mse=4.5919, val_r2=-5.6126\n",
      "Average Cross Validation Results → val_mse=4.6720, val_r2=-5.6695\n",
      "🏃 View run reg-Ridge_method-stochastic_winit-zeros_lr-0.001_momentum-True at: http://localhost:5000/#/experiments/1/runs/51bdecd9a48d45e3b2f1a16cc100e735\n",
      "🧪 View experiment at: http://localhost:5000/#/experiments/1\n",
      "===== reg-Ridge_method-stochastic_winit-zeros_lr-0.001_momentum-False =====\n",
      "Fold 0: val_mse=4.9306, val_r2=-6.1813\n",
      "Fold 1: val_mse=4.4227, val_r2=-5.1148\n",
      "Fold 2: val_mse=4.5556, val_r2=-5.5602\n",
      "Average Cross Validation Results → val_mse=4.6363, val_r2=-5.6188\n",
      "🏃 View run reg-Ridge_method-stochastic_winit-zeros_lr-0.001_momentum-False at: http://localhost:5000/#/experiments/1/runs/91aa4384397d4f539de0061d8152f43e\n",
      "🧪 View experiment at: http://localhost:5000/#/experiments/1\n",
      "===== reg-Ridge_method-stochastic_winit-zeros_lr-0.0001_momentum-True =====\n",
      "Fold 0: val_mse=5.1507, val_r2=-6.5019\n",
      "Fold 1: val_mse=4.5573, val_r2=-5.3009\n",
      "Fold 2: val_mse=4.7770, val_r2=-5.8791\n",
      "Average Cross Validation Results → val_mse=4.8283, val_r2=-5.8940\n",
      "🏃 View run reg-Ridge_method-stochastic_winit-zeros_lr-0.0001_momentum-True at: http://localhost:5000/#/experiments/1/runs/789ce782d72b422f9ff303c83a5b3a59\n",
      "🧪 View experiment at: http://localhost:5000/#/experiments/1\n",
      "===== reg-Ridge_method-stochastic_winit-zeros_lr-0.0001_momentum-False =====\n",
      "Fold 0: val_mse=4.9440, val_r2=-6.2009\n",
      "Fold 1: val_mse=4.3861, val_r2=-5.0642\n",
      "Fold 2: val_mse=4.5892, val_r2=-5.6086\n",
      "Average Cross Validation Results → val_mse=4.6398, val_r2=-5.6246\n",
      "🏃 View run reg-Ridge_method-stochastic_winit-zeros_lr-0.0001_momentum-False at: http://localhost:5000/#/experiments/1/runs/19f9e5e948d14ef69a671255c7606216\n",
      "🧪 View experiment at: http://localhost:5000/#/experiments/1\n",
      "===== reg-Ridge_method-stochastic_winit-xavier_lr-0.01_momentum-True =====\n",
      "Fold 0: val_mse=5.0791, val_r2=-6.3976\n",
      "Fold 1: val_mse=4.3767, val_r2=-5.0512\n",
      "Fold 2: val_mse=4.5926, val_r2=-5.6135\n",
      "Average Cross Validation Results → val_mse=4.6828, val_r2=-5.6875\n",
      "🏃 View run reg-Ridge_method-stochastic_winit-xavier_lr-0.01_momentum-True at: http://localhost:5000/#/experiments/1/runs/2830080ec50049b6961e592e8fa9b919\n",
      "🧪 View experiment at: http://localhost:5000/#/experiments/1\n",
      "===== reg-Ridge_method-stochastic_winit-xavier_lr-0.01_momentum-False =====\n",
      "Fold 0: val_mse=4.9615, val_r2=-6.2264\n",
      "Fold 1: val_mse=3.6923, val_r2=-4.1050\n",
      "Fold 2: val_mse=4.0367, val_r2=-4.8130\n",
      "Average Cross Validation Results → val_mse=4.2302, val_r2=-5.0481\n",
      "🏃 View run reg-Ridge_method-stochastic_winit-xavier_lr-0.01_momentum-False at: http://localhost:5000/#/experiments/1/runs/5797bf05a3b14723a9472464a1389bfe\n",
      "🧪 View experiment at: http://localhost:5000/#/experiments/1\n",
      "===== reg-Ridge_method-stochastic_winit-xavier_lr-0.001_momentum-True =====\n",
      "Fold 0: val_mse=4.9431, val_r2=-6.1996\n",
      "Fold 1: val_mse=4.3899, val_r2=-5.0695\n",
      "Fold 2: val_mse=4.5902, val_r2=-5.6101\n",
      "Average Cross Validation Results → val_mse=4.6411, val_r2=-5.6264\n",
      "🏃 View run reg-Ridge_method-stochastic_winit-xavier_lr-0.001_momentum-True at: http://localhost:5000/#/experiments/1/runs/91c7c0111e754c46a822c1b1a2d68784\n",
      "🧪 View experiment at: http://localhost:5000/#/experiments/1\n",
      "===== reg-Ridge_method-stochastic_winit-xavier_lr-0.001_momentum-False =====\n",
      "Fold 0: val_mse=4.9757, val_r2=-6.2471\n",
      "Fold 1: val_mse=4.4798, val_r2=-5.1938\n",
      "Fold 2: val_mse=4.5737, val_r2=-5.5864\n",
      "Average Cross Validation Results → val_mse=4.6764, val_r2=-5.6758\n",
      "🏃 View run reg-Ridge_method-stochastic_winit-xavier_lr-0.001_momentum-False at: http://localhost:5000/#/experiments/1/runs/c44f8ca0bf7b4b24b6dabdbd220da1ab\n",
      "🧪 View experiment at: http://localhost:5000/#/experiments/1\n",
      "===== reg-Ridge_method-stochastic_winit-xavier_lr-0.0001_momentum-True =====\n",
      "Fold 0: val_mse=5.1611, val_r2=-6.5171\n",
      "Fold 1: val_mse=4.5673, val_r2=-5.3148\n",
      "Fold 2: val_mse=4.7623, val_r2=-5.8579\n",
      "Average Cross Validation Results → val_mse=4.8302, val_r2=-5.8966\n",
      "🏃 View run reg-Ridge_method-stochastic_winit-xavier_lr-0.0001_momentum-True at: http://localhost:5000/#/experiments/1/runs/ac2a6f6cd1e04a28b324e0c0144fa6e1\n",
      "🧪 View experiment at: http://localhost:5000/#/experiments/1\n",
      "===== reg-Ridge_method-stochastic_winit-xavier_lr-0.0001_momentum-False =====\n",
      "Fold 0: val_mse=4.9515, val_r2=-6.2118\n",
      "Fold 1: val_mse=4.3854, val_r2=-5.0632\n",
      "Fold 2: val_mse=4.5851, val_r2=-5.6028\n",
      "Average Cross Validation Results → val_mse=4.6407, val_r2=-5.6259\n",
      "🏃 View run reg-Ridge_method-stochastic_winit-xavier_lr-0.0001_momentum-False at: http://localhost:5000/#/experiments/1/runs/4ca28d0384b74f05832f6f0e5747d984\n",
      "🧪 View experiment at: http://localhost:5000/#/experiments/1\n",
      "===== reg-Ridge_method-mini-batch_winit-zeros_lr-0.01_momentum-True =====\n",
      "Fold 0: val_mse=5.1376, val_r2=-6.4828\n",
      "Fold 1: val_mse=4.3966, val_r2=-5.0788\n",
      "Fold 2: val_mse=4.6154, val_r2=-5.6464\n",
      "Average Cross Validation Results → val_mse=4.7165, val_r2=-5.7360\n",
      "🏃 View run reg-Ridge_method-mini-batch_winit-zeros_lr-0.01_momentum-True at: http://localhost:5000/#/experiments/1/runs/bbe4957aae1540f1ba4b04321fc71da2\n",
      "🧪 View experiment at: http://localhost:5000/#/experiments/1\n",
      "===== reg-Ridge_method-mini-batch_winit-zeros_lr-0.01_momentum-False =====\n",
      "Fold 0: val_mse=4.9668, val_r2=-6.2341\n",
      "Fold 1: val_mse=4.3567, val_r2=-5.0236\n",
      "Fold 2: val_mse=4.5838, val_r2=-5.6009\n",
      "Average Cross Validation Results → val_mse=4.6358, val_r2=-5.6195\n",
      "🏃 View run reg-Ridge_method-mini-batch_winit-zeros_lr-0.01_momentum-False at: http://localhost:5000/#/experiments/1/runs/b808d7efc60e488ca7253992e2fffb76\n",
      "🧪 View experiment at: http://localhost:5000/#/experiments/1\n",
      "===== reg-Ridge_method-mini-batch_winit-zeros_lr-0.001_momentum-True =====\n",
      "Fold 0: val_mse=8.1913, val_r2=-10.9305\n",
      "Fold 1: val_mse=7.5151, val_r2=-9.3904\n",
      "Fold 2: val_mse=7.7561, val_r2=-10.1691\n",
      "Average Cross Validation Results → val_mse=7.8208, val_r2=-10.1633\n",
      "🏃 View run reg-Ridge_method-mini-batch_winit-zeros_lr-0.001_momentum-True at: http://localhost:5000/#/experiments/1/runs/5f67dc270a1d4be79571a3086637ebb5\n",
      "🧪 View experiment at: http://localhost:5000/#/experiments/1\n",
      "===== reg-Ridge_method-mini-batch_winit-zeros_lr-0.001_momentum-False =====\n",
      "Fold 0: val_mse=4.9823, val_r2=-6.2567\n",
      "Fold 1: val_mse=4.4089, val_r2=-5.0958\n",
      "Fold 2: val_mse=4.6201, val_r2=-5.6532\n",
      "Average Cross Validation Results → val_mse=4.6705, val_r2=-5.6686\n",
      "🏃 View run reg-Ridge_method-mini-batch_winit-zeros_lr-0.001_momentum-False at: http://localhost:5000/#/experiments/1/runs/de33fbd12f0b45fda07eb4f17a16e806\n",
      "🧪 View experiment at: http://localhost:5000/#/experiments/1\n",
      "===== reg-Ridge_method-mini-batch_winit-zeros_lr-0.0001_momentum-True =====\n",
      "Fold 0: val_mse=102.7234, val_r2=-148.6159\n",
      "Fold 1: val_mse=101.9809, val_r2=-139.9990\n",
      "Fold 2: val_mse=102.1974, val_r2=-146.1690\n",
      "Average Cross Validation Results → val_mse=102.3006, val_r2=-144.9280\n",
      "🏃 View run reg-Ridge_method-mini-batch_winit-zeros_lr-0.0001_momentum-True at: http://localhost:5000/#/experiments/1/runs/3c7a937121f34861ac7c67e01cec5949\n",
      "🧪 View experiment at: http://localhost:5000/#/experiments/1\n",
      "===== reg-Ridge_method-mini-batch_winit-zeros_lr-0.0001_momentum-False =====\n",
      "Fold 0: val_mse=8.1852, val_r2=-10.9216\n",
      "Fold 1: val_mse=7.5069, val_r2=-9.3790\n",
      "Fold 2: val_mse=7.7481, val_r2=-10.1576\n",
      "Average Cross Validation Results → val_mse=7.8134, val_r2=-10.1528\n",
      "🏃 View run reg-Ridge_method-mini-batch_winit-zeros_lr-0.0001_momentum-False at: http://localhost:5000/#/experiments/1/runs/76febd9c4ae74419a02e87d1e1d3cd68\n",
      "🧪 View experiment at: http://localhost:5000/#/experiments/1\n",
      "===== reg-Ridge_method-mini-batch_winit-xavier_lr-0.01_momentum-True =====\n",
      "Fold 0: val_mse=4.9830, val_r2=-6.2577\n",
      "Fold 1: val_mse=4.4085, val_r2=-5.0952\n",
      "Fold 2: val_mse=4.6224, val_r2=-5.6564\n",
      "Average Cross Validation Results → val_mse=4.6713, val_r2=-5.6698\n",
      "🏃 View run reg-Ridge_method-mini-batch_winit-xavier_lr-0.01_momentum-True at: http://localhost:5000/#/experiments/1/runs/0fe85829c6c34970bd0718710f98e340\n",
      "🧪 View experiment at: http://localhost:5000/#/experiments/1\n",
      "===== reg-Ridge_method-mini-batch_winit-xavier_lr-0.01_momentum-False =====\n",
      "Fold 0: val_mse=4.9618, val_r2=-6.2268\n",
      "Fold 1: val_mse=4.3708, val_r2=-5.0430\n",
      "Fold 2: val_mse=4.5894, val_r2=-5.6089\n",
      "Average Cross Validation Results → val_mse=4.6406, val_r2=-5.6262\n",
      "🏃 View run reg-Ridge_method-mini-batch_winit-xavier_lr-0.01_momentum-False at: http://localhost:5000/#/experiments/1/runs/dc64ecd258224fd58ce1536fee6cbd26\n",
      "🧪 View experiment at: http://localhost:5000/#/experiments/1\n",
      "===== reg-Ridge_method-mini-batch_winit-xavier_lr-0.001_momentum-True =====\n",
      "Fold 0: val_mse=8.5086, val_r2=-11.3926\n",
      "Fold 1: val_mse=7.3773, val_r2=-9.1999\n",
      "Fold 2: val_mse=7.6321, val_r2=-9.9906\n",
      "Average Cross Validation Results → val_mse=7.8393, val_r2=-10.1944\n",
      "🏃 View run reg-Ridge_method-mini-batch_winit-xavier_lr-0.001_momentum-True at: http://localhost:5000/#/experiments/1/runs/cbca5a1bb1a848a28b25e72385a61569\n",
      "🧪 View experiment at: http://localhost:5000/#/experiments/1\n",
      "===== reg-Ridge_method-mini-batch_winit-xavier_lr-0.001_momentum-False =====\n",
      "Fold 0: val_mse=4.9835, val_r2=-6.2585\n",
      "Fold 1: val_mse=4.4154, val_r2=-5.1047\n",
      "Fold 2: val_mse=4.6230, val_r2=-5.6574\n",
      "Average Cross Validation Results → val_mse=4.6740, val_r2=-5.6735\n",
      "🏃 View run reg-Ridge_method-mini-batch_winit-xavier_lr-0.001_momentum-False at: http://localhost:5000/#/experiments/1/runs/3ffa585a491541c0b40f7314000e365c\n",
      "🧪 View experiment at: http://localhost:5000/#/experiments/1\n",
      "===== reg-Ridge_method-mini-batch_winit-xavier_lr-0.0001_momentum-True =====\n",
      "Fold 0: val_mse=94.8252, val_r2=-137.1122\n",
      "Fold 1: val_mse=106.7399, val_r2=-146.5789\n",
      "Fold 2: val_mse=99.6611, val_r2=-142.5167\n",
      "Average Cross Validation Results → val_mse=100.4088, val_r2=-142.0692\n",
      "🏃 View run reg-Ridge_method-mini-batch_winit-xavier_lr-0.0001_momentum-True at: http://localhost:5000/#/experiments/1/runs/a730c50871c44914a8d1b97d01860f5e\n",
      "🧪 View experiment at: http://localhost:5000/#/experiments/1\n",
      "===== reg-Ridge_method-mini-batch_winit-xavier_lr-0.0001_momentum-False =====\n",
      "Fold 0: val_mse=8.4524, val_r2=-11.3109\n",
      "Fold 1: val_mse=7.4548, val_r2=-9.3070\n",
      "Fold 2: val_mse=7.6648, val_r2=-10.0376\n",
      "Average Cross Validation Results → val_mse=7.8573, val_r2=-10.2185\n",
      "🏃 View run reg-Ridge_method-mini-batch_winit-xavier_lr-0.0001_momentum-False at: http://localhost:5000/#/experiments/1/runs/21ae2f997454458e857611cabafaf01a\n",
      "🧪 View experiment at: http://localhost:5000/#/experiments/1\n",
      "===== reg-Ridge_method-batch_winit-zeros_lr-0.01_momentum-True =====\n",
      "Fold 0: val_mse=85.9882, val_r2=-124.2411\n",
      "Fold 1: val_mse=86.8480, val_r2=-119.0763\n",
      "Fold 2: val_mse=87.0973, val_r2=-124.4241\n",
      "Average Cross Validation Results → val_mse=86.6445, val_r2=-122.5805\n",
      "🏃 View run reg-Ridge_method-batch_winit-zeros_lr-0.01_momentum-True at: http://localhost:5000/#/experiments/1/runs/33adc18350cb480f88d1c59669d3d5e2\n",
      "🧪 View experiment at: http://localhost:5000/#/experiments/1\n",
      "===== reg-Ridge_method-batch_winit-zeros_lr-0.01_momentum-False =====\n",
      "Fold 0: val_mse=6.5750, val_r2=-8.5765\n",
      "Fold 1: val_mse=5.9227, val_r2=-7.1888\n",
      "Fold 2: val_mse=6.1562, val_r2=-7.8652\n",
      "Average Cross Validation Results → val_mse=6.2180, val_r2=-7.8768\n",
      "🏃 View run reg-Ridge_method-batch_winit-zeros_lr-0.01_momentum-False at: http://localhost:5000/#/experiments/1/runs/298456b173b44222a9fc75bdc9cda6f8\n",
      "🧪 View experiment at: http://localhost:5000/#/experiments/1\n",
      "===== reg-Ridge_method-batch_winit-zeros_lr-0.001_momentum-True =====\n",
      "Fold 0: val_mse=157.9768, val_r2=-229.0919\n",
      "Fold 1: val_mse=157.7509, val_r2=-217.1067\n",
      "Fold 2: val_mse=157.9189, val_r2=-226.4105\n",
      "Average Cross Validation Results → val_mse=157.8822, val_r2=-224.2030\n",
      "🏃 View run reg-Ridge_method-batch_winit-zeros_lr-0.001_momentum-True at: http://localhost:5000/#/experiments/1/runs/9deb283b482b4ba681a3c0cdb8e68c9d\n",
      "🧪 View experiment at: http://localhost:5000/#/experiments/1\n",
      "===== reg-Ridge_method-batch_winit-zeros_lr-0.001_momentum-False =====\n",
      "Fold 0: val_mse=87.4804, val_r2=-126.4145\n",
      "Fold 1: val_mse=86.6986, val_r2=-118.8696\n",
      "Fold 2: val_mse=86.9288, val_r2=-124.1815\n",
      "Average Cross Validation Results → val_mse=87.0359, val_r2=-123.1552\n",
      "🏃 View run reg-Ridge_method-batch_winit-zeros_lr-0.001_momentum-False at: http://localhost:5000/#/experiments/1/runs/710cef45eeee4f90a9ec7cd51c4f8f03\n",
      "🧪 View experiment at: http://localhost:5000/#/experiments/1\n",
      "===== reg-Ridge_method-batch_winit-zeros_lr-0.0001_momentum-True =====\n",
      "Fold 0: val_mse=168.4732, val_r2=-244.3800\n",
      "Fold 1: val_mse=167.8456, val_r2=-231.0636\n",
      "Fold 2: val_mse=168.0047, val_r2=-240.9345\n",
      "Average Cross Validation Results → val_mse=168.1078, val_r2=-238.7927\n",
      "🏃 View run reg-Ridge_method-batch_winit-zeros_lr-0.0001_momentum-True at: http://localhost:5000/#/experiments/1/runs/96866cf9a6bb4fc9bae0e0d9e0b7b5cf\n",
      "🧪 View experiment at: http://localhost:5000/#/experiments/1\n",
      "===== reg-Ridge_method-batch_winit-zeros_lr-0.0001_momentum-False =====\n",
      "Fold 0: val_mse=158.4435, val_r2=-229.7718\n",
      "Fold 1: val_mse=157.7507, val_r2=-217.1065\n",
      "Fold 2: val_mse=157.9188, val_r2=-226.4105\n",
      "Average Cross Validation Results → val_mse=158.0377, val_r2=-224.4296\n",
      "🏃 View run reg-Ridge_method-batch_winit-zeros_lr-0.0001_momentum-False at: http://localhost:5000/#/experiments/1/runs/f2e5ec62e5094f40b83a3e89bb21b73f\n",
      "🧪 View experiment at: http://localhost:5000/#/experiments/1\n",
      "===== reg-Ridge_method-batch_winit-xavier_lr-0.01_momentum-True =====\n",
      "Fold 0: val_mse=84.0347, val_r2=-121.3959\n",
      "Fold 1: val_mse=85.7138, val_r2=-117.5081\n",
      "Fold 2: val_mse=88.6764, val_r2=-126.6981\n",
      "Average Cross Validation Results → val_mse=86.1416, val_r2=-121.8674\n",
      "🏃 View run reg-Ridge_method-batch_winit-xavier_lr-0.01_momentum-True at: http://localhost:5000/#/experiments/1/runs/72d90856a9984222a7fa2ff8e112b6b3\n",
      "🧪 View experiment at: http://localhost:5000/#/experiments/1\n",
      "===== reg-Ridge_method-batch_winit-xavier_lr-0.01_momentum-False =====\n",
      "Fold 0: val_mse=6.8761, val_r2=-9.0149\n",
      "Fold 1: val_mse=5.9735, val_r2=-7.2590\n",
      "Fold 2: val_mse=6.1483, val_r2=-7.8538\n",
      "Average Cross Validation Results → val_mse=6.3326, val_r2=-8.0426\n",
      "🏃 View run reg-Ridge_method-batch_winit-xavier_lr-0.01_momentum-False at: http://localhost:5000/#/experiments/1/runs/3597a8f0e53445fc9e1b1569728c016d\n",
      "🧪 View experiment at: http://localhost:5000/#/experiments/1\n",
      "===== reg-Ridge_method-batch_winit-xavier_lr-0.001_momentum-True =====\n",
      "Fold 0: val_mse=169.6367, val_r2=-246.0746\n",
      "Fold 1: val_mse=180.6236, val_r2=-248.7305\n",
      "Fold 2: val_mse=144.1705, val_r2=-206.6123\n",
      "Average Cross Validation Results → val_mse=164.8103, val_r2=-233.8058\n",
      "🏃 View run reg-Ridge_method-batch_winit-xavier_lr-0.001_momentum-True at: http://localhost:5000/#/experiments/1/runs/8a08568b596744908174a9616e0f1dbe\n",
      "🧪 View experiment at: http://localhost:5000/#/experiments/1\n",
      "===== reg-Ridge_method-batch_winit-xavier_lr-0.001_momentum-False =====\n",
      "Fold 0: val_mse=92.9634, val_r2=-134.4005\n",
      "Fold 1: val_mse=78.7827, val_r2=-107.9252\n",
      "Fold 2: val_mse=93.2829, val_r2=-133.3318\n",
      "Average Cross Validation Results → val_mse=88.3430, val_r2=-125.2191\n",
      "🏃 View run reg-Ridge_method-batch_winit-xavier_lr-0.001_momentum-False at: http://localhost:5000/#/experiments/1/runs/f2660c55c07b40de9e506c0b99634fa2\n",
      "🧪 View experiment at: http://localhost:5000/#/experiments/1\n",
      "===== reg-Ridge_method-batch_winit-xavier_lr-0.0001_momentum-True =====\n",
      "Fold 0: val_mse=156.1565, val_r2=-226.4407\n",
      "Fold 1: val_mse=171.9676, val_r2=-236.7628\n",
      "Fold 2: val_mse=165.8073, val_r2=-237.7702\n",
      "Average Cross Validation Results → val_mse=164.6438, val_r2=-233.6579\n",
      "🏃 View run reg-Ridge_method-batch_winit-xavier_lr-0.0001_momentum-True at: http://localhost:5000/#/experiments/1/runs/5ebea0dfc86c41409d43eeb6766d8df0\n",
      "🧪 View experiment at: http://localhost:5000/#/experiments/1\n",
      "===== reg-Ridge_method-batch_winit-xavier_lr-0.0001_momentum-False =====\n",
      "Fold 0: val_mse=144.6534, val_r2=-209.6865\n",
      "Fold 1: val_mse=144.0752, val_r2=-198.1986\n",
      "Fold 2: val_mse=154.4837, val_r2=-221.4637\n",
      "Average Cross Validation Results → val_mse=147.7374, val_r2=-209.7829\n",
      "🏃 View run reg-Ridge_method-batch_winit-xavier_lr-0.0001_momentum-False at: http://localhost:5000/#/experiments/1/runs/8ad3e35c49f64c38b0c7112f623e8cf6\n",
      "🧪 View experiment at: http://localhost:5000/#/experiments/1\n",
      "===== reg-Lasso_method-stochastic_winit-zeros_lr-0.01_momentum-True =====\n",
      "Fold 0: val_mse=0.3635, val_r2=0.4706\n",
      "Fold 1: val_mse=0.3773, val_r2=0.4784\n",
      "Fold 2: val_mse=0.3577, val_r2=0.4849\n",
      "Average Cross Validation Results → val_mse=0.3661, val_r2=0.4780\n",
      "🏃 View run reg-Lasso_method-stochastic_winit-zeros_lr-0.01_momentum-True at: http://localhost:5000/#/experiments/1/runs/098b9d03dd814259b9f2241fb89624e1\n",
      "🧪 View experiment at: http://localhost:5000/#/experiments/1\n",
      "===== reg-Lasso_method-stochastic_winit-zeros_lr-0.01_momentum-False =====\n",
      "Fold 0: val_mse=0.3977, val_r2=0.4207\n",
      "Fold 1: val_mse=0.3745, val_r2=0.4823\n",
      "Fold 2: val_mse=0.3537, val_r2=0.4906\n",
      "Average Cross Validation Results → val_mse=0.3753, val_r2=0.4645\n",
      "🏃 View run reg-Lasso_method-stochastic_winit-zeros_lr-0.01_momentum-False at: http://localhost:5000/#/experiments/1/runs/cfafa06883384a17bea2dac23336bbb7\n",
      "🧪 View experiment at: http://localhost:5000/#/experiments/1\n",
      "===== reg-Lasso_method-stochastic_winit-zeros_lr-0.001_momentum-True =====\n",
      "Fold 0: val_mse=0.3612, val_r2=0.4739\n",
      "Fold 1: val_mse=0.3742, val_r2=0.4826\n",
      "Fold 2: val_mse=0.3576, val_r2=0.4850\n",
      "Average Cross Validation Results → val_mse=0.3644, val_r2=0.4805\n",
      "🏃 View run reg-Lasso_method-stochastic_winit-zeros_lr-0.001_momentum-True at: http://localhost:5000/#/experiments/1/runs/c4809fcc538d47baac31086b86876957\n",
      "🧪 View experiment at: http://localhost:5000/#/experiments/1\n",
      "===== reg-Lasso_method-stochastic_winit-zeros_lr-0.001_momentum-False =====\n",
      "Fold 0: val_mse=0.3609, val_r2=0.4744\n",
      "Fold 1: val_mse=0.3792, val_r2=0.4757\n",
      "Fold 2: val_mse=0.3546, val_r2=0.4894\n",
      "Average Cross Validation Results → val_mse=0.3649, val_r2=0.4798\n",
      "🏃 View run reg-Lasso_method-stochastic_winit-zeros_lr-0.001_momentum-False at: http://localhost:5000/#/experiments/1/runs/679c83ddc84c4fceb86d5e0717a64401\n",
      "🧪 View experiment at: http://localhost:5000/#/experiments/1\n",
      "===== reg-Lasso_method-stochastic_winit-zeros_lr-0.0001_momentum-True =====\n",
      "Fold 0: val_mse=2.4097, val_r2=-2.5097\n",
      "Fold 1: val_mse=2.0244, val_r2=-1.7989\n",
      "Fold 2: val_mse=2.0949, val_r2=-2.0167\n",
      "Average Cross Validation Results → val_mse=2.1763, val_r2=-2.1084\n",
      "🏃 View run reg-Lasso_method-stochastic_winit-zeros_lr-0.0001_momentum-True at: http://localhost:5000/#/experiments/1/runs/35f8f2b6dafc4bd4a68a7ce3b052b309\n",
      "🧪 View experiment at: http://localhost:5000/#/experiments/1\n",
      "===== reg-Lasso_method-stochastic_winit-zeros_lr-0.0001_momentum-False =====\n",
      "Fold 0: val_mse=0.3613, val_r2=0.4737\n",
      "Fold 1: val_mse=0.3743, val_r2=0.4825\n",
      "Fold 2: val_mse=0.3578, val_r2=0.4847\n",
      "Average Cross Validation Results → val_mse=0.3645, val_r2=0.4803\n",
      "🏃 View run reg-Lasso_method-stochastic_winit-zeros_lr-0.0001_momentum-False at: http://localhost:5000/#/experiments/1/runs/ba76a760c4264d25823bd4c9c6743d8c\n",
      "🧪 View experiment at: http://localhost:5000/#/experiments/1\n",
      "===== reg-Lasso_method-stochastic_winit-xavier_lr-0.01_momentum-True =====\n",
      "Fold 0: val_mse=0.3608, val_r2=0.4745\n",
      "Fold 1: val_mse=0.3821, val_r2=0.4718\n",
      "Fold 2: val_mse=0.3651, val_r2=0.4743\n",
      "Average Cross Validation Results → val_mse=0.3693, val_r2=0.4735\n",
      "🏃 View run reg-Lasso_method-stochastic_winit-xavier_lr-0.01_momentum-True at: http://localhost:5000/#/experiments/1/runs/0549836b839f4a15b8b90dd3e3f275a2\n",
      "🧪 View experiment at: http://localhost:5000/#/experiments/1\n",
      "===== reg-Lasso_method-stochastic_winit-xavier_lr-0.01_momentum-False =====\n",
      "Fold 0: val_mse=0.3542, val_r2=0.4842\n",
      "Fold 1: val_mse=0.3898, val_r2=0.4611\n",
      "Fold 2: val_mse=0.3481, val_r2=0.4987\n",
      "Average Cross Validation Results → val_mse=0.3640, val_r2=0.4813\n",
      "🏃 View run reg-Lasso_method-stochastic_winit-xavier_lr-0.01_momentum-False at: http://localhost:5000/#/experiments/1/runs/1bea4fc2831e4638a96e19a448b7844b\n",
      "🧪 View experiment at: http://localhost:5000/#/experiments/1\n",
      "===== reg-Lasso_method-stochastic_winit-xavier_lr-0.001_momentum-True =====\n",
      "Fold 0: val_mse=0.3610, val_r2=0.4742\n",
      "Fold 1: val_mse=0.3742, val_r2=0.4827\n",
      "Fold 2: val_mse=0.3579, val_r2=0.4846\n",
      "Average Cross Validation Results → val_mse=0.3644, val_r2=0.4805\n",
      "🏃 View run reg-Lasso_method-stochastic_winit-xavier_lr-0.001_momentum-True at: http://localhost:5000/#/experiments/1/runs/3416ee37d0724e28b07a214b9eb741cf\n",
      "🧪 View experiment at: http://localhost:5000/#/experiments/1\n",
      "===== reg-Lasso_method-stochastic_winit-xavier_lr-0.001_momentum-False =====\n",
      "Fold 0: val_mse=0.3614, val_r2=0.4736\n",
      "Fold 1: val_mse=0.3720, val_r2=0.4857\n",
      "Fold 2: val_mse=0.3578, val_r2=0.4847\n",
      "Average Cross Validation Results → val_mse=0.3637, val_r2=0.4813\n",
      "🏃 View run reg-Lasso_method-stochastic_winit-xavier_lr-0.001_momentum-False at: http://localhost:5000/#/experiments/1/runs/f14e30af02384877a7527866237a5f3e\n",
      "🧪 View experiment at: http://localhost:5000/#/experiments/1\n",
      "===== reg-Lasso_method-stochastic_winit-xavier_lr-0.0001_momentum-True =====\n",
      "Fold 0: val_mse=2.5864, val_r2=-2.7671\n",
      "Fold 1: val_mse=2.1087, val_r2=-1.9155\n",
      "Fold 2: val_mse=1.9600, val_r2=-1.8225\n",
      "Average Cross Validation Results → val_mse=2.2184, val_r2=-2.1684\n",
      "🏃 View run reg-Lasso_method-stochastic_winit-xavier_lr-0.0001_momentum-True at: http://localhost:5000/#/experiments/1/runs/76379315ec2142a6abac42535cafd405\n",
      "🧪 View experiment at: http://localhost:5000/#/experiments/1\n",
      "===== reg-Lasso_method-stochastic_winit-xavier_lr-0.0001_momentum-False =====\n",
      "Fold 0: val_mse=0.3607, val_r2=0.4746\n",
      "Fold 1: val_mse=0.3744, val_r2=0.4823\n",
      "Fold 2: val_mse=0.3579, val_r2=0.4846\n",
      "Average Cross Validation Results → val_mse=0.3643, val_r2=0.4805\n",
      "🏃 View run reg-Lasso_method-stochastic_winit-xavier_lr-0.0001_momentum-False at: http://localhost:5000/#/experiments/1/runs/dede57007c5249388e24dae4e44d7f63\n",
      "🧪 View experiment at: http://localhost:5000/#/experiments/1\n",
      "===== reg-Lasso_method-mini-batch_winit-zeros_lr-0.01_momentum-True =====\n",
      "Fold 0: val_mse=1.3597, val_r2=-0.9804\n",
      "Fold 1: val_mse=1.1212, val_r2=-0.5501\n",
      "Fold 2: val_mse=1.1609, val_r2=-0.6718\n",
      "Average Cross Validation Results → val_mse=1.2139, val_r2=-0.7341\n",
      "🏃 View run reg-Lasso_method-mini-batch_winit-zeros_lr-0.01_momentum-True at: http://localhost:5000/#/experiments/1/runs/cd930716e4934c47b5ba1a408c4dfb5f\n",
      "🧪 View experiment at: http://localhost:5000/#/experiments/1\n",
      "===== reg-Lasso_method-mini-batch_winit-zeros_lr-0.01_momentum-False =====\n",
      "Fold 0: val_mse=0.3610, val_r2=0.4742\n",
      "Fold 1: val_mse=0.3744, val_r2=0.4824\n",
      "Fold 2: val_mse=0.3576, val_r2=0.4851\n",
      "Average Cross Validation Results → val_mse=0.3643, val_r2=0.4805\n",
      "🏃 View run reg-Lasso_method-mini-batch_winit-zeros_lr-0.01_momentum-False at: http://localhost:5000/#/experiments/1/runs/d5967f1fe5b04554979db467ce065075\n",
      "🧪 View experiment at: http://localhost:5000/#/experiments/1\n",
      "===== reg-Lasso_method-mini-batch_winit-zeros_lr-0.001_momentum-True =====\n",
      "Fold 0: val_mse=5.4156, val_r2=-6.8878\n",
      "Fold 1: val_mse=4.8292, val_r2=-5.6768\n",
      "Fold 2: val_mse=5.0000, val_r2=-6.2002\n",
      "Average Cross Validation Results → val_mse=5.0816, val_r2=-6.2550\n",
      "🏃 View run reg-Lasso_method-mini-batch_winit-zeros_lr-0.001_momentum-True at: http://localhost:5000/#/experiments/1/runs/03af1e2bb55b4142985efc617f28883c\n",
      "🧪 View experiment at: http://localhost:5000/#/experiments/1\n",
      "===== reg-Lasso_method-mini-batch_winit-zeros_lr-0.001_momentum-False =====\n",
      "Fold 0: val_mse=1.3607, val_r2=-0.9818\n",
      "Fold 1: val_mse=1.1208, val_r2=-0.5497\n",
      "Fold 2: val_mse=1.1610, val_r2=-0.6719\n",
      "Average Cross Validation Results → val_mse=1.2142, val_r2=-0.7345\n",
      "🏃 View run reg-Lasso_method-mini-batch_winit-zeros_lr-0.001_momentum-False at: http://localhost:5000/#/experiments/1/runs/337a404ff65343d09e33eddb7fe89fe8\n",
      "🧪 View experiment at: http://localhost:5000/#/experiments/1\n",
      "===== reg-Lasso_method-mini-batch_winit-zeros_lr-0.0001_momentum-True =====\n",
      "Fold 0: val_mse=102.3950, val_r2=-148.1375\n",
      "Fold 1: val_mse=101.6552, val_r2=-139.5486\n",
      "Fold 2: val_mse=101.8660, val_r2=-145.6918\n",
      "Average Cross Validation Results → val_mse=101.9721, val_r2=-144.4593\n",
      "🏃 View run reg-Lasso_method-mini-batch_winit-zeros_lr-0.0001_momentum-True at: http://localhost:5000/#/experiments/1/runs/62d19326e90941c1be8e98622f271cec\n",
      "🧪 View experiment at: http://localhost:5000/#/experiments/1\n",
      "===== reg-Lasso_method-mini-batch_winit-zeros_lr-0.0001_momentum-False =====\n",
      "Fold 0: val_mse=5.4116, val_r2=-6.8819\n",
      "Fold 1: val_mse=4.8246, val_r2=-5.6705\n",
      "Fold 2: val_mse=4.9957, val_r2=-6.1940\n",
      "Average Cross Validation Results → val_mse=5.0773, val_r2=-6.2488\n",
      "🏃 View run reg-Lasso_method-mini-batch_winit-zeros_lr-0.0001_momentum-False at: http://localhost:5000/#/experiments/1/runs/df190d531b2043a0b74475712c8ce2aa\n",
      "🧪 View experiment at: http://localhost:5000/#/experiments/1\n",
      "===== reg-Lasso_method-mini-batch_winit-xavier_lr-0.01_momentum-True =====\n",
      "Fold 0: val_mse=1.5124, val_r2=-1.2028\n",
      "Fold 1: val_mse=1.1953, val_r2=-0.6527\n",
      "Fold 2: val_mse=1.2033, val_r2=-0.7328\n",
      "Average Cross Validation Results → val_mse=1.3037, val_r2=-0.8628\n",
      "🏃 View run reg-Lasso_method-mini-batch_winit-xavier_lr-0.01_momentum-True at: http://localhost:5000/#/experiments/1/runs/a2794878960a488b9115da62adb923fc\n",
      "🧪 View experiment at: http://localhost:5000/#/experiments/1\n",
      "===== reg-Lasso_method-mini-batch_winit-xavier_lr-0.01_momentum-False =====\n",
      "Fold 0: val_mse=0.3608, val_r2=0.4745\n",
      "Fold 1: val_mse=0.3743, val_r2=0.4824\n",
      "Fold 2: val_mse=0.3581, val_r2=0.4844\n",
      "Average Cross Validation Results → val_mse=0.3644, val_r2=0.4805\n",
      "🏃 View run reg-Lasso_method-mini-batch_winit-xavier_lr-0.01_momentum-False at: http://localhost:5000/#/experiments/1/runs/fa6e9fe4a7ca42be93c26586829c4eae\n",
      "🧪 View experiment at: http://localhost:5000/#/experiments/1\n",
      "===== reg-Lasso_method-mini-batch_winit-xavier_lr-0.001_momentum-True =====\n",
      "Fold 0: val_mse=5.0057, val_r2=-6.2907\n",
      "Fold 1: val_mse=4.9941, val_r2=-5.9049\n",
      "Fold 2: val_mse=4.8705, val_r2=-6.0138\n",
      "Average Cross Validation Results → val_mse=4.9568, val_r2=-6.0698\n",
      "🏃 View run reg-Lasso_method-mini-batch_winit-xavier_lr-0.001_momentum-True at: http://localhost:5000/#/experiments/1/runs/20cbf1c75f484de6a9f12ce5ac3c9505\n",
      "🧪 View experiment at: http://localhost:5000/#/experiments/1\n",
      "===== reg-Lasso_method-mini-batch_winit-xavier_lr-0.001_momentum-False =====\n",
      "Fold 0: val_mse=1.4272, val_r2=-1.0787\n",
      "Fold 1: val_mse=1.1375, val_r2=-0.5728\n",
      "Fold 2: val_mse=1.1177, val_r2=-0.6095\n",
      "Average Cross Validation Results → val_mse=1.2275, val_r2=-0.7537\n",
      "🏃 View run reg-Lasso_method-mini-batch_winit-xavier_lr-0.001_momentum-False at: http://localhost:5000/#/experiments/1/runs/8893b2bc3282419fba561f49e168f2ca\n",
      "🧪 View experiment at: http://localhost:5000/#/experiments/1\n",
      "===== reg-Lasso_method-mini-batch_winit-xavier_lr-0.0001_momentum-True =====\n",
      "Fold 0: val_mse=96.2327, val_r2=-139.1622\n",
      "Fold 1: val_mse=95.1102, val_r2=-130.4995\n",
      "Fold 2: val_mse=99.2581, val_r2=-141.9362\n",
      "Average Cross Validation Results → val_mse=96.8670, val_r2=-137.1993\n",
      "🏃 View run reg-Lasso_method-mini-batch_winit-xavier_lr-0.0001_momentum-True at: http://localhost:5000/#/experiments/1/runs/4bc3f87fa7e44cf3acb0ebc1efeafd5f\n",
      "🧪 View experiment at: http://localhost:5000/#/experiments/1\n",
      "===== reg-Lasso_method-mini-batch_winit-xavier_lr-0.0001_momentum-False =====\n",
      "Fold 0: val_mse=5.8478, val_r2=-7.5173\n",
      "Fold 1: val_mse=4.8489, val_r2=-5.7041\n",
      "Fold 2: val_mse=4.6910, val_r2=-5.7552\n",
      "Average Cross Validation Results → val_mse=5.1292, val_r2=-6.3255\n",
      "🏃 View run reg-Lasso_method-mini-batch_winit-xavier_lr-0.0001_momentum-False at: http://localhost:5000/#/experiments/1/runs/abb62140471144f6a2b55f955dcf388d\n",
      "🧪 View experiment at: http://localhost:5000/#/experiments/1\n",
      "===== reg-Lasso_method-batch_winit-zeros_lr-0.01_momentum-True =====\n",
      "Fold 0: val_mse=85.1689, val_r2=-123.0478\n",
      "Fold 1: val_mse=86.1427, val_r2=-118.1011\n",
      "Fold 2: val_mse=86.3851, val_r2=-123.3986\n",
      "Average Cross Validation Results → val_mse=85.8989, val_r2=-121.5158\n",
      "🏃 View run reg-Lasso_method-batch_winit-zeros_lr-0.01_momentum-True at: http://localhost:5000/#/experiments/1/runs/0cf5073962a94f4888cb91c2373d714a\n",
      "🧪 View experiment at: http://localhost:5000/#/experiments/1\n",
      "===== reg-Lasso_method-batch_winit-zeros_lr-0.01_momentum-False =====\n",
      "Fold 0: val_mse=4.2147, val_r2=-5.1387\n",
      "Fold 1: val_mse=3.6794, val_r2=-4.0872\n",
      "Fold 2: val_mse=3.8157, val_r2=-4.4947\n",
      "Average Cross Validation Results → val_mse=3.9033, val_r2=-4.5735\n",
      "🏃 View run reg-Lasso_method-batch_winit-zeros_lr-0.01_momentum-False at: http://localhost:5000/#/experiments/1/runs/1ef2bb7f267f4343bf7c211a4eeb7a57\n",
      "🧪 View experiment at: http://localhost:5000/#/experiments/1\n",
      "===== reg-Lasso_method-batch_winit-zeros_lr-0.001_momentum-True =====\n",
      "Fold 0: val_mse=158.0484, val_r2=-229.1963\n",
      "Fold 1: val_mse=157.8228, val_r2=-217.2062\n",
      "Fold 2: val_mse=157.9897, val_r2=-226.5125\n",
      "Average Cross Validation Results → val_mse=157.9536, val_r2=-224.3050\n",
      "🏃 View run reg-Lasso_method-batch_winit-zeros_lr-0.001_momentum-True at: http://localhost:5000/#/experiments/1/runs/a87747da3a95425d88fae02b1a2fc5d8\n",
      "🧪 View experiment at: http://localhost:5000/#/experiments/1\n",
      "===== reg-Lasso_method-batch_winit-zeros_lr-0.001_momentum-False =====\n",
      "Fold 0: val_mse=86.8008, val_r2=-125.4248\n",
      "Fold 1: val_mse=86.0205, val_r2=-117.9321\n",
      "Fold 2: val_mse=86.2432, val_r2=-123.1943\n",
      "Average Cross Validation Results → val_mse=86.3548, val_r2=-122.1837\n",
      "🏃 View run reg-Lasso_method-batch_winit-zeros_lr-0.001_momentum-False at: http://localhost:5000/#/experiments/1/runs/abe32b4178704ef4b544321661d1c3fa\n",
      "🧪 View experiment at: http://localhost:5000/#/experiments/1\n",
      "===== reg-Lasso_method-batch_winit-zeros_lr-0.0001_momentum-True =====\n",
      "Fold 0: val_mse=168.4832, val_r2=-244.3945\n",
      "Fold 1: val_mse=167.8551, val_r2=-231.0769\n",
      "Fold 2: val_mse=168.0141, val_r2=-240.9482\n",
      "Average Cross Validation Results → val_mse=168.1175, val_r2=-238.8065\n",
      "🏃 View run reg-Lasso_method-batch_winit-zeros_lr-0.0001_momentum-True at: http://localhost:5000/#/experiments/1/runs/3bd1e0d7dc6a4469a7eebadcfb7784aa\n",
      "🧪 View experiment at: http://localhost:5000/#/experiments/1\n",
      "===== reg-Lasso_method-batch_winit-zeros_lr-0.0001_momentum-False =====\n",
      "Fold 0: val_mse=158.5152, val_r2=-229.8761\n",
      "Fold 1: val_mse=157.8227, val_r2=-217.2060\n",
      "Fold 2: val_mse=157.9897, val_r2=-226.5125\n",
      "Average Cross Validation Results → val_mse=158.1092, val_r2=-224.5316\n",
      "🏃 View run reg-Lasso_method-batch_winit-zeros_lr-0.0001_momentum-False at: http://localhost:5000/#/experiments/1/runs/dacdaf647ee749c28c97e5ee5016a633\n",
      "🧪 View experiment at: http://localhost:5000/#/experiments/1\n",
      "===== reg-Lasso_method-batch_winit-xavier_lr-0.01_momentum-True =====\n",
      "Fold 0: val_mse=75.3409, val_r2=-108.7334\n",
      "Fold 1: val_mse=93.3139, val_r2=-128.0160\n",
      "Fold 2: val_mse=85.7797, val_r2=-122.5267\n",
      "Average Cross Validation Results → val_mse=84.8115, val_r2=-119.7587\n",
      "🏃 View run reg-Lasso_method-batch_winit-xavier_lr-0.01_momentum-True at: http://localhost:5000/#/experiments/1/runs/7d5da86ea8ac4258808fa5d1f8fe6f35\n",
      "🧪 View experiment at: http://localhost:5000/#/experiments/1\n",
      "===== reg-Lasso_method-batch_winit-xavier_lr-0.01_momentum-False =====\n",
      "Fold 0: val_mse=4.5629, val_r2=-5.6459\n",
      "Fold 1: val_mse=4.0187, val_r2=-4.5562\n",
      "Fold 2: val_mse=3.8733, val_r2=-4.5777\n",
      "Average Cross Validation Results → val_mse=4.1516, val_r2=-4.9266\n",
      "🏃 View run reg-Lasso_method-batch_winit-xavier_lr-0.01_momentum-False at: http://localhost:5000/#/experiments/1/runs/cf2f8be0ec6d4af9a403848171093ff0\n",
      "🧪 View experiment at: http://localhost:5000/#/experiments/1\n",
      "===== reg-Lasso_method-batch_winit-xavier_lr-0.001_momentum-True =====\n",
      "Fold 0: val_mse=149.2258, val_r2=-216.3462\n",
      "Fold 1: val_mse=159.8880, val_r2=-220.0615\n",
      "Fold 2: val_mse=157.7983, val_r2=-226.2369\n",
      "Average Cross Validation Results → val_mse=155.6374, val_r2=-220.8815\n",
      "🏃 View run reg-Lasso_method-batch_winit-xavier_lr-0.001_momentum-True at: http://localhost:5000/#/experiments/1/runs/0cb20384b6a54eed8363c99cc56d2d35\n",
      "🧪 View experiment at: http://localhost:5000/#/experiments/1\n",
      "===== reg-Lasso_method-batch_winit-xavier_lr-0.001_momentum-False =====\n",
      "Fold 0: val_mse=93.8638, val_r2=-135.7119\n",
      "Fold 1: val_mse=94.1973, val_r2=-129.2374\n",
      "Fold 2: val_mse=96.5820, val_r2=-138.0826\n",
      "Average Cross Validation Results → val_mse=94.8810, val_r2=-134.3440\n",
      "🏃 View run reg-Lasso_method-batch_winit-xavier_lr-0.001_momentum-False at: http://localhost:5000/#/experiments/1/runs/b94f9a12ea2d4a05ad45e4a9fc912868\n",
      "🧪 View experiment at: http://localhost:5000/#/experiments/1\n",
      "===== reg-Lasso_method-batch_winit-xavier_lr-0.0001_momentum-True =====\n",
      "Fold 0: val_mse=171.0530, val_r2=-248.1374\n",
      "Fold 1: val_mse=186.9920, val_r2=-257.5355\n",
      "Fold 2: val_mse=176.6962, val_r2=-253.4507\n",
      "Average Cross Validation Results → val_mse=178.2471, val_r2=-253.0412\n",
      "🏃 View run reg-Lasso_method-batch_winit-xavier_lr-0.0001_momentum-True at: http://localhost:5000/#/experiments/1/runs/941d95a946724808ae864283e5b95a13\n",
      "🧪 View experiment at: http://localhost:5000/#/experiments/1\n",
      "===== reg-Lasso_method-batch_winit-xavier_lr-0.0001_momentum-False =====\n",
      "Fold 0: val_mse=155.1473, val_r2=-224.9708\n",
      "Fold 1: val_mse=154.3608, val_r2=-212.4196\n",
      "Fold 2: val_mse=158.2508, val_r2=-226.8886\n",
      "Average Cross Validation Results → val_mse=155.9197, val_r2=-221.4263\n",
      "🏃 View run reg-Lasso_method-batch_winit-xavier_lr-0.0001_momentum-False at: http://localhost:5000/#/experiments/1/runs/3ad2e350c9ba40f7a9993c0e8447e240\n",
      "🧪 View experiment at: http://localhost:5000/#/experiments/1\n",
      "===== reg-PolynomialRegression_method-stochastic_winit-zeros_lr-0.01_momentum-True =====\n",
      "Fold 0: val_mse=0.3139, val_r2=0.5428\n",
      "Fold 1: val_mse=0.3543, val_r2=0.5102\n",
      "Fold 2: val_mse=0.3181, val_r2=0.5420\n",
      "Average Cross Validation Results → val_mse=0.3288, val_r2=0.5316\n",
      "🏃 View run reg-PolynomialRegression_method-stochastic_winit-zeros_lr-0.01_momentum-True at: http://localhost:5000/#/experiments/1/runs/c9d98b6ff78b4c2ab6ff60b10d6c6582\n",
      "🧪 View experiment at: http://localhost:5000/#/experiments/1\n",
      "===== reg-PolynomialRegression_method-stochastic_winit-zeros_lr-0.01_momentum-False =====\n",
      "Fold 0: val_mse=0.4395, val_r2=0.3599\n",
      "Fold 1: val_mse=0.3604, val_r2=0.5018\n",
      "Fold 2: val_mse=0.3394, val_r2=0.5113\n",
      "Average Cross Validation Results → val_mse=0.3797, val_r2=0.4577\n",
      "🏃 View run reg-PolynomialRegression_method-stochastic_winit-zeros_lr-0.01_momentum-False at: http://localhost:5000/#/experiments/1/runs/eccc653832634d18ad13c206361f99f1\n",
      "🧪 View experiment at: http://localhost:5000/#/experiments/1\n",
      "===== reg-PolynomialRegression_method-stochastic_winit-zeros_lr-0.001_momentum-True =====\n",
      "Fold 0: val_mse=0.3118, val_r2=0.5459\n",
      "Fold 1: val_mse=0.3353, val_r2=0.5364\n",
      "Fold 2: val_mse=0.3171, val_r2=0.5434\n",
      "Average Cross Validation Results → val_mse=0.3214, val_r2=0.5419\n",
      "🏃 View run reg-PolynomialRegression_method-stochastic_winit-zeros_lr-0.001_momentum-True at: http://localhost:5000/#/experiments/1/runs/9fe51917457441bf958e4687851f4239\n",
      "🧪 View experiment at: http://localhost:5000/#/experiments/1\n",
      "===== reg-PolynomialRegression_method-stochastic_winit-zeros_lr-0.001_momentum-False =====\n",
      "Fold 0: val_mse=0.3173, val_r2=0.5378\n",
      "Fold 1: val_mse=0.3342, val_r2=0.5379\n",
      "Fold 2: val_mse=0.3170, val_r2=0.5434\n",
      "Average Cross Validation Results → val_mse=0.3229, val_r2=0.5397\n",
      "🏃 View run reg-PolynomialRegression_method-stochastic_winit-zeros_lr-0.001_momentum-False at: http://localhost:5000/#/experiments/1/runs/c1d6135de6554ea5be7cb913615e9fc4\n",
      "🧪 View experiment at: http://localhost:5000/#/experiments/1\n",
      "===== reg-PolynomialRegression_method-stochastic_winit-zeros_lr-0.0001_momentum-True =====\n",
      "Fold 0: val_mse=1.5189, val_r2=-1.2123\n",
      "Fold 1: val_mse=1.2436, val_r2=-0.7194\n",
      "Fold 2: val_mse=1.3765, val_r2=-0.9822\n",
      "Average Cross Validation Results → val_mse=1.3797, val_r2=-0.9713\n",
      "🏃 View run reg-PolynomialRegression_method-stochastic_winit-zeros_lr-0.0001_momentum-True at: http://localhost:5000/#/experiments/1/runs/7e7b812fe1214040a4cc30b94ed23be7\n",
      "🧪 View experiment at: http://localhost:5000/#/experiments/1\n",
      "===== reg-PolynomialRegression_method-stochastic_winit-zeros_lr-0.0001_momentum-False =====\n",
      "Fold 0: val_mse=0.3117, val_r2=0.5460\n",
      "Fold 1: val_mse=0.3347, val_r2=0.5373\n",
      "Fold 2: val_mse=0.3199, val_r2=0.5394\n",
      "Average Cross Validation Results → val_mse=0.3221, val_r2=0.5409\n",
      "🏃 View run reg-PolynomialRegression_method-stochastic_winit-zeros_lr-0.0001_momentum-False at: http://localhost:5000/#/experiments/1/runs/5d3966ec0d864b14a583c89fba15e30f\n",
      "🧪 View experiment at: http://localhost:5000/#/experiments/1\n",
      "===== reg-PolynomialRegression_method-stochastic_winit-xavier_lr-0.01_momentum-True =====\n",
      "Fold 0: val_mse=0.3149, val_r2=0.5413\n",
      "Fold 1: val_mse=0.3378, val_r2=0.5330\n",
      "Fold 2: val_mse=0.3211, val_r2=0.5376\n",
      "Average Cross Validation Results → val_mse=0.3246, val_r2=0.5373\n",
      "🏃 View run reg-PolynomialRegression_method-stochastic_winit-xavier_lr-0.01_momentum-True at: http://localhost:5000/#/experiments/1/runs/6003a547e23e4186889e879259aa81ea\n",
      "🧪 View experiment at: http://localhost:5000/#/experiments/1\n",
      "===== reg-PolynomialRegression_method-stochastic_winit-xavier_lr-0.01_momentum-False =====\n",
      "Fold 0: val_mse=0.6070, val_r2=0.1160\n",
      "Fold 1: val_mse=0.3377, val_r2=0.5331\n",
      "Fold 2: val_mse=0.3198, val_r2=0.5395\n",
      "Average Cross Validation Results → val_mse=0.4215, val_r2=0.3962\n",
      "🏃 View run reg-PolynomialRegression_method-stochastic_winit-xavier_lr-0.01_momentum-False at: http://localhost:5000/#/experiments/1/runs/f6eb08bee0bc4d938b47c32e0dfe09c9\n",
      "🧪 View experiment at: http://localhost:5000/#/experiments/1\n",
      "===== reg-PolynomialRegression_method-stochastic_winit-xavier_lr-0.001_momentum-True =====\n",
      "Fold 0: val_mse=0.3123, val_r2=0.5452\n",
      "Fold 1: val_mse=0.3342, val_r2=0.5380\n",
      "Fold 2: val_mse=0.3181, val_r2=0.5419\n",
      "Average Cross Validation Results → val_mse=0.3215, val_r2=0.5417\n",
      "🏃 View run reg-PolynomialRegression_method-stochastic_winit-xavier_lr-0.001_momentum-True at: http://localhost:5000/#/experiments/1/runs/66993287fdd64da4b305edce9ca381ed\n",
      "🧪 View experiment at: http://localhost:5000/#/experiments/1\n",
      "===== reg-PolynomialRegression_method-stochastic_winit-xavier_lr-0.001_momentum-False =====\n",
      "Fold 0: val_mse=0.3126, val_r2=0.5447\n",
      "Fold 1: val_mse=0.3354, val_r2=0.5363\n",
      "Fold 2: val_mse=0.3157, val_r2=0.5453\n",
      "Average Cross Validation Results → val_mse=0.3213, val_r2=0.5421\n",
      "🏃 View run reg-PolynomialRegression_method-stochastic_winit-xavier_lr-0.001_momentum-False at: http://localhost:5000/#/experiments/1/runs/eb3e6ae734d643f0ace8f1cc2d6aa455\n",
      "🧪 View experiment at: http://localhost:5000/#/experiments/1\n",
      "===== reg-PolynomialRegression_method-stochastic_winit-xavier_lr-0.0001_momentum-True =====\n",
      "Fold 0: val_mse=1.6717, val_r2=-1.4348\n",
      "Fold 1: val_mse=1.2303, val_r2=-0.7010\n",
      "Fold 2: val_mse=1.3324, val_r2=-0.9187\n",
      "Average Cross Validation Results → val_mse=1.4115, val_r2=-1.0182\n",
      "🏃 View run reg-PolynomialRegression_method-stochastic_winit-xavier_lr-0.0001_momentum-True at: http://localhost:5000/#/experiments/1/runs/dd7f8c721d2b4d809344d00e31d6660b\n",
      "🧪 View experiment at: http://localhost:5000/#/experiments/1\n",
      "===== reg-PolynomialRegression_method-stochastic_winit-xavier_lr-0.0001_momentum-False =====\n",
      "Fold 0: val_mse=0.3128, val_r2=0.5444\n",
      "Fold 1: val_mse=0.3350, val_r2=0.5369\n",
      "Fold 2: val_mse=0.3177, val_r2=0.5425\n",
      "Average Cross Validation Results → val_mse=0.3218, val_r2=0.5413\n",
      "🏃 View run reg-PolynomialRegression_method-stochastic_winit-xavier_lr-0.0001_momentum-False at: http://localhost:5000/#/experiments/1/runs/0f90f3c7e55b45daabfca6409a890c35\n",
      "🧪 View experiment at: http://localhost:5000/#/experiments/1\n",
      "===== reg-PolynomialRegression_method-mini-batch_winit-zeros_lr-0.01_momentum-True =====\n",
      "Fold 0: val_mse=0.6098, val_r2=0.1118\n",
      "Fold 1: val_mse=0.5304, val_r2=0.2666\n",
      "Fold 2: val_mse=0.5613, val_r2=0.1917\n",
      "Average Cross Validation Results → val_mse=0.5672, val_r2=0.1900\n",
      "🏃 View run reg-PolynomialRegression_method-mini-batch_winit-zeros_lr-0.01_momentum-True at: http://localhost:5000/#/experiments/1/runs/1b4878d24ee24d408f989cd0d9ba63fb\n",
      "🧪 View experiment at: http://localhost:5000/#/experiments/1\n",
      "===== reg-PolynomialRegression_method-mini-batch_winit-zeros_lr-0.01_momentum-False =====\n",
      "Fold 0: val_mse=0.3115, val_r2=0.5463\n",
      "Fold 1: val_mse=0.3348, val_r2=0.5371\n",
      "Fold 2: val_mse=0.3158, val_r2=0.5452\n",
      "Average Cross Validation Results → val_mse=0.3207, val_r2=0.5429\n",
      "🏃 View run reg-PolynomialRegression_method-mini-batch_winit-zeros_lr-0.01_momentum-False at: http://localhost:5000/#/experiments/1/runs/21ed4e080009440d912e76937fa5f5ac\n",
      "🧪 View experiment at: http://localhost:5000/#/experiments/1\n",
      "===== reg-PolynomialRegression_method-mini-batch_winit-zeros_lr-0.001_momentum-True =====\n",
      "Fold 0: val_mse=4.9544, val_r2=-6.2161\n",
      "Fold 1: val_mse=4.3550, val_r2=-5.0212\n",
      "Fold 2: val_mse=4.9393, val_r2=-6.1129\n",
      "Average Cross Validation Results → val_mse=4.7496, val_r2=-5.7834\n",
      "🏃 View run reg-PolynomialRegression_method-mini-batch_winit-zeros_lr-0.001_momentum-True at: http://localhost:5000/#/experiments/1/runs/40be086f13924c74b8248d1f04845dba\n",
      "🧪 View experiment at: http://localhost:5000/#/experiments/1\n",
      "===== reg-PolynomialRegression_method-mini-batch_winit-zeros_lr-0.001_momentum-False =====\n",
      "Fold 0: val_mse=0.6090, val_r2=0.1131\n",
      "Fold 1: val_mse=0.5301, val_r2=0.2671\n",
      "Fold 2: val_mse=0.5609, val_r2=0.1923\n",
      "Average Cross Validation Results → val_mse=0.5666, val_r2=0.1908\n",
      "🏃 View run reg-PolynomialRegression_method-mini-batch_winit-zeros_lr-0.001_momentum-False at: http://localhost:5000/#/experiments/1/runs/b4faf8f1a37b433c9eaeff1a9b6c4ede\n",
      "🧪 View experiment at: http://localhost:5000/#/experiments/1\n",
      "===== reg-PolynomialRegression_method-mini-batch_winit-zeros_lr-0.0001_momentum-True =====\n",
      "Fold 0: val_mse=42.5901, val_r2=-61.0321\n",
      "Fold 1: val_mse=41.7645, val_r2=-56.7436\n",
      "Fold 2: val_mse=42.8376, val_r2=-60.6881\n",
      "Average Cross Validation Results → val_mse=42.3974, val_r2=-59.4879\n",
      "🏃 View run reg-PolynomialRegression_method-mini-batch_winit-zeros_lr-0.0001_momentum-True at: http://localhost:5000/#/experiments/1/runs/8307b3722098477f9ed94fc689eedf61\n",
      "🧪 View experiment at: http://localhost:5000/#/experiments/1\n",
      "===== reg-PolynomialRegression_method-mini-batch_winit-zeros_lr-0.0001_momentum-False =====\n",
      "Fold 0: val_mse=4.9581, val_r2=-6.2214\n",
      "Fold 1: val_mse=4.3545, val_r2=-5.0205\n",
      "Fold 2: val_mse=4.9355, val_r2=-6.1074\n",
      "Average Cross Validation Results → val_mse=4.7494, val_r2=-5.7831\n",
      "🏃 View run reg-PolynomialRegression_method-mini-batch_winit-zeros_lr-0.0001_momentum-False at: http://localhost:5000/#/experiments/1/runs/ca084b13f89e44c2b00df2df3bccaa02\n",
      "🧪 View experiment at: http://localhost:5000/#/experiments/1\n",
      "===== reg-PolynomialRegression_method-mini-batch_winit-xavier_lr-0.01_momentum-True =====\n",
      "Fold 0: val_mse=0.6241, val_r2=0.0910\n",
      "Fold 1: val_mse=0.5454, val_r2=0.2459\n",
      "Fold 2: val_mse=0.5597, val_r2=0.1940\n",
      "Average Cross Validation Results → val_mse=0.5764, val_r2=0.1770\n",
      "🏃 View run reg-PolynomialRegression_method-mini-batch_winit-xavier_lr-0.01_momentum-True at: http://localhost:5000/#/experiments/1/runs/76e16be626e84447b056e29ab5a49751\n",
      "🧪 View experiment at: http://localhost:5000/#/experiments/1\n",
      "===== reg-PolynomialRegression_method-mini-batch_winit-xavier_lr-0.01_momentum-False =====\n",
      "Fold 0: val_mse=0.3121, val_r2=0.5455\n",
      "Fold 1: val_mse=0.3589, val_r2=0.5038\n",
      "Fold 2: val_mse=0.3162, val_r2=0.5447\n",
      "Average Cross Validation Results → val_mse=0.3290, val_r2=0.5313\n",
      "🏃 View run reg-PolynomialRegression_method-mini-batch_winit-xavier_lr-0.01_momentum-False at: http://localhost:5000/#/experiments/1/runs/918c357ffa9242468471c2571777d0c0\n",
      "🧪 View experiment at: http://localhost:5000/#/experiments/1\n",
      "===== reg-PolynomialRegression_method-mini-batch_winit-xavier_lr-0.001_momentum-True =====\n",
      "Fold 0: val_mse=4.7032, val_r2=-5.8501\n",
      "Fold 1: val_mse=4.3970, val_r2=-5.0794\n",
      "Fold 2: val_mse=4.7161, val_r2=-5.7914\n",
      "Average Cross Validation Results → val_mse=4.6054, val_r2=-5.5736\n",
      "🏃 View run reg-PolynomialRegression_method-mini-batch_winit-xavier_lr-0.001_momentum-True at: http://localhost:5000/#/experiments/1/runs/f6309da6a67a45dca869fb3fd614b6b9\n",
      "🧪 View experiment at: http://localhost:5000/#/experiments/1\n",
      "===== reg-PolynomialRegression_method-mini-batch_winit-xavier_lr-0.001_momentum-False =====\n",
      "Fold 0: val_mse=0.6385, val_r2=0.0700\n",
      "Fold 1: val_mse=0.5356, val_r2=0.2595\n",
      "Fold 2: val_mse=0.5662, val_r2=0.1846\n",
      "Average Cross Validation Results → val_mse=0.5801, val_r2=0.1714\n",
      "🏃 View run reg-PolynomialRegression_method-mini-batch_winit-xavier_lr-0.001_momentum-False at: http://localhost:5000/#/experiments/1/runs/0755ddaeab3249fb91cdace86e32e977\n",
      "🧪 View experiment at: http://localhost:5000/#/experiments/1\n",
      "===== reg-PolynomialRegression_method-mini-batch_winit-xavier_lr-0.0001_momentum-True =====\n",
      "Fold 0: val_mse=40.1865, val_r2=-57.5314\n",
      "Fold 1: val_mse=40.3836, val_r2=-54.8344\n",
      "Fold 2: val_mse=41.0777, val_r2=-58.1538\n",
      "Average Cross Validation Results → val_mse=40.5493, val_r2=-56.8399\n",
      "🏃 View run reg-PolynomialRegression_method-mini-batch_winit-xavier_lr-0.0001_momentum-True at: http://localhost:5000/#/experiments/1/runs/7730f26522494572bc954a4573211909\n",
      "🧪 View experiment at: http://localhost:5000/#/experiments/1\n",
      "===== reg-PolynomialRegression_method-mini-batch_winit-xavier_lr-0.0001_momentum-False =====\n",
      "Fold 0: val_mse=5.4203, val_r2=-6.8946\n",
      "Fold 1: val_mse=4.2888, val_r2=-4.9298\n",
      "Fold 2: val_mse=5.0824, val_r2=-6.3189\n",
      "Average Cross Validation Results → val_mse=4.9305, val_r2=-6.0478\n",
      "🏃 View run reg-PolynomialRegression_method-mini-batch_winit-xavier_lr-0.0001_momentum-False at: http://localhost:5000/#/experiments/1/runs/1a4f71c1df4f4bfc8546791a87dec8f8\n",
      "🧪 View experiment at: http://localhost:5000/#/experiments/1\n",
      "===== reg-PolynomialRegression_method-batch_winit-zeros_lr-0.01_momentum-True =====\n",
      "Fold 0: val_mse=29.4275, val_r2=-41.8609\n",
      "Fold 1: val_mse=29.3977, val_r2=-39.6454\n",
      "Fold 2: val_mse=30.6937, val_r2=-43.2004\n",
      "Average Cross Validation Results → val_mse=29.8396, val_r2=-41.5689\n",
      "🏃 View run reg-PolynomialRegression_method-batch_winit-zeros_lr-0.01_momentum-True at: http://localhost:5000/#/experiments/1/runs/17f0da249d9349148e15a27f28b331cd\n",
      "🧪 View experiment at: http://localhost:5000/#/experiments/1\n",
      "===== reg-PolynomialRegression_method-batch_winit-zeros_lr-0.01_momentum-False =====\n",
      "Fold 0: val_mse=4.3696, val_r2=-5.3643\n",
      "Fold 1: val_mse=3.7854, val_r2=-4.2337\n",
      "Fold 2: val_mse=4.2404, val_r2=-5.1063\n",
      "Average Cross Validation Results → val_mse=4.1318, val_r2=-4.9014\n",
      "🏃 View run reg-PolynomialRegression_method-batch_winit-zeros_lr-0.01_momentum-False at: http://localhost:5000/#/experiments/1/runs/2f686710fda24e02873fc0b99ffccc40\n",
      "🧪 View experiment at: http://localhost:5000/#/experiments/1\n",
      "===== reg-PolynomialRegression_method-batch_winit-zeros_lr-0.001_momentum-True =====\n",
      "Fold 0: val_mse=136.6621, val_r2=-198.0473\n",
      "Fold 1: val_mse=136.9277, val_r2=-188.3166\n",
      "Fold 2: val_mse=137.1348, val_r2=-196.4805\n",
      "Average Cross Validation Results → val_mse=136.9082, val_r2=-194.2815\n",
      "🏃 View run reg-PolynomialRegression_method-batch_winit-zeros_lr-0.001_momentum-True at: http://localhost:5000/#/experiments/1/runs/2c2d9cb4175b4a76886f526215196f42\n",
      "🧪 View experiment at: http://localhost:5000/#/experiments/1\n",
      "===== reg-PolynomialRegression_method-batch_winit-zeros_lr-0.001_momentum-False =====\n",
      "Fold 0: val_mse=29.4542, val_r2=-41.8998\n",
      "Fold 1: val_mse=28.7568, val_r2=-38.7592\n",
      "Fold 2: val_mse=30.0895, val_r2=-42.3303\n",
      "Average Cross Validation Results → val_mse=29.4335, val_r2=-40.9964\n",
      "🏃 View run reg-PolynomialRegression_method-batch_winit-zeros_lr-0.001_momentum-False at: http://localhost:5000/#/experiments/1/runs/9bd3c85452634aea8fc29ad645bb9489\n",
      "🧪 View experiment at: http://localhost:5000/#/experiments/1\n",
      "===== reg-PolynomialRegression_method-batch_winit-zeros_lr-0.0001_momentum-True =====\n",
      "Fold 0: val_mse=165.9790, val_r2=-240.7471\n",
      "Fold 1: val_mse=165.4372, val_r2=-227.7338\n",
      "Fold 2: val_mse=165.5968, val_r2=-237.4671\n",
      "Average Cross Validation Results → val_mse=165.6710, val_r2=-235.3160\n",
      "🏃 View run reg-PolynomialRegression_method-batch_winit-zeros_lr-0.0001_momentum-True at: http://localhost:5000/#/experiments/1/runs/2a3f285676c84155a45169fed91f6bc4\n",
      "🧪 View experiment at: http://localhost:5000/#/experiments/1\n",
      "===== reg-PolynomialRegression_method-batch_winit-zeros_lr-0.0001_momentum-False =====\n",
      "Fold 0: val_mse=137.7683, val_r2=-199.6585\n",
      "Fold 1: val_mse=136.9206, val_r2=-188.3067\n",
      "Fold 2: val_mse=137.1273, val_r2=-196.4697\n",
      "Average Cross Validation Results → val_mse=137.2721, val_r2=-194.8116\n",
      "🏃 View run reg-PolynomialRegression_method-batch_winit-zeros_lr-0.0001_momentum-False at: http://localhost:5000/#/experiments/1/runs/887b0a5886244847bf63f62972fd55b6\n",
      "🧪 View experiment at: http://localhost:5000/#/experiments/1\n",
      "===== reg-PolynomialRegression_method-batch_winit-xavier_lr-0.01_momentum-True =====\n",
      "Fold 0: val_mse=30.0843, val_r2=-42.8176\n",
      "Fold 1: val_mse=30.0172, val_r2=-40.5018\n",
      "Fold 2: val_mse=31.8243, val_r2=-44.8285\n",
      "Average Cross Validation Results → val_mse=30.6419, val_r2=-42.7160\n",
      "🏃 View run reg-PolynomialRegression_method-batch_winit-xavier_lr-0.01_momentum-True at: http://localhost:5000/#/experiments/1/runs/8f86cc2650244fa9aeb146ca64bc2195\n",
      "🧪 View experiment at: http://localhost:5000/#/experiments/1\n",
      "===== reg-PolynomialRegression_method-batch_winit-xavier_lr-0.01_momentum-False =====\n",
      "Fold 0: val_mse=3.9220, val_r2=-4.7124\n",
      "Fold 1: val_mse=3.8998, val_r2=-4.3919\n",
      "Fold 2: val_mse=4.4141, val_r2=-5.3566\n",
      "Average Cross Validation Results → val_mse=4.0787, val_r2=-4.8203\n",
      "🏃 View run reg-PolynomialRegression_method-batch_winit-xavier_lr-0.01_momentum-False at: http://localhost:5000/#/experiments/1/runs/621e0509a8ce4d9dafdbedc373d2be45\n",
      "🧪 View experiment at: http://localhost:5000/#/experiments/1\n",
      "===== reg-PolynomialRegression_method-batch_winit-xavier_lr-0.001_momentum-True =====\n",
      "Fold 0: val_mse=133.0894, val_r2=-192.8436\n",
      "Fold 1: val_mse=146.5766, val_r2=-201.6571\n",
      "Fold 2: val_mse=141.0419, val_r2=-202.1068\n",
      "Average Cross Validation Results → val_mse=140.2359, val_r2=-198.8692\n",
      "🏃 View run reg-PolynomialRegression_method-batch_winit-xavier_lr-0.001_momentum-True at: http://localhost:5000/#/experiments/1/runs/af44d01733534c08b3c835e376214fe5\n",
      "🧪 View experiment at: http://localhost:5000/#/experiments/1\n",
      "===== reg-PolynomialRegression_method-batch_winit-xavier_lr-0.001_momentum-False =====\n",
      "Fold 0: val_mse=31.6775, val_r2=-45.1381\n",
      "Fold 1: val_mse=29.2079, val_r2=-39.3829\n",
      "Fold 2: val_mse=31.7684, val_r2=-44.7480\n",
      "Average Cross Validation Results → val_mse=30.8846, val_r2=-43.0897\n",
      "🏃 View run reg-PolynomialRegression_method-batch_winit-xavier_lr-0.001_momentum-False at: http://localhost:5000/#/experiments/1/runs/9c0633c4598d4d7880c623585993205c\n",
      "🧪 View experiment at: http://localhost:5000/#/experiments/1\n",
      "===== reg-PolynomialRegression_method-batch_winit-xavier_lr-0.0001_momentum-True =====\n",
      "Fold 0: val_mse=166.3884, val_r2=-241.3434\n",
      "Fold 1: val_mse=167.8175, val_r2=-231.0248\n",
      "Fold 2: val_mse=175.3379, val_r2=-251.4947\n",
      "Average Cross Validation Results → val_mse=169.8479, val_r2=-241.2876\n",
      "🏃 View run reg-PolynomialRegression_method-batch_winit-xavier_lr-0.0001_momentum-True at: http://localhost:5000/#/experiments/1/runs/d409b538ec15430998ea95494e5fdb17\n",
      "🧪 View experiment at: http://localhost:5000/#/experiments/1\n",
      "===== reg-PolynomialRegression_method-batch_winit-xavier_lr-0.0001_momentum-False =====\n",
      "Fold 0: val_mse=123.5957, val_r2=-179.0162\n",
      "Fold 1: val_mse=149.6294, val_r2=-205.8780\n",
      "Fold 2: val_mse=145.8785, val_r2=-209.0718\n",
      "Average Cross Validation Results → val_mse=139.7012, val_r2=-197.9887\n",
      "🏃 View run reg-PolynomialRegression_method-batch_winit-xavier_lr-0.0001_momentum-False at: http://localhost:5000/#/experiments/1/runs/f71e5d0b15314a5cb89186fa7bd2d12e\n",
      "🧪 View experiment at: http://localhost:5000/#/experiments/1\n",
      "===== reg-NormalRegression_method-stochastic_winit-zeros_lr-0.01_momentum-True =====\n",
      "Fold 0: val_mse=0.3214, val_r2=0.5319\n",
      "Fold 1: val_mse=0.3496, val_r2=0.5166\n",
      "Fold 2: val_mse=0.3284, val_r2=0.5271\n",
      "Average Cross Validation Results → val_mse=0.3331, val_r2=0.5252\n",
      "🏃 View run reg-NormalRegression_method-stochastic_winit-zeros_lr-0.01_momentum-True at: http://localhost:5000/#/experiments/1/runs/7d97001501044bc59c386c6e4ada2089\n",
      "🧪 View experiment at: http://localhost:5000/#/experiments/1\n",
      "===== reg-NormalRegression_method-stochastic_winit-zeros_lr-0.01_momentum-False =====\n",
      "Fold 0: val_mse=0.3256, val_r2=0.5258\n",
      "Fold 1: val_mse=0.3534, val_r2=0.5114\n",
      "Fold 2: val_mse=0.3282, val_r2=0.5274\n",
      "Average Cross Validation Results → val_mse=0.3357, val_r2=0.5215\n",
      "🏃 View run reg-NormalRegression_method-stochastic_winit-zeros_lr-0.01_momentum-False at: http://localhost:5000/#/experiments/1/runs/e0c59b1397a949e88ba284287642620a\n",
      "🧪 View experiment at: http://localhost:5000/#/experiments/1\n",
      "===== reg-NormalRegression_method-stochastic_winit-zeros_lr-0.001_momentum-True =====\n",
      "Fold 0: val_mse=0.3307, val_r2=0.5183\n",
      "Fold 1: val_mse=0.3494, val_r2=0.5169\n",
      "Fold 2: val_mse=0.3308, val_r2=0.5236\n",
      "Average Cross Validation Results → val_mse=0.3370, val_r2=0.5196\n",
      "🏃 View run reg-NormalRegression_method-stochastic_winit-zeros_lr-0.001_momentum-True at: http://localhost:5000/#/experiments/1/runs/34cbf614d8bb44f48b090c1395ca1a6a\n",
      "🧪 View experiment at: http://localhost:5000/#/experiments/1\n",
      "===== reg-NormalRegression_method-stochastic_winit-zeros_lr-0.001_momentum-False =====\n",
      "Fold 0: val_mse=0.3221, val_r2=0.5308\n",
      "Fold 1: val_mse=0.3493, val_r2=0.5170\n",
      "Fold 2: val_mse=0.3283, val_r2=0.5273\n",
      "Average Cross Validation Results → val_mse=0.3332, val_r2=0.5250\n",
      "🏃 View run reg-NormalRegression_method-stochastic_winit-zeros_lr-0.001_momentum-False at: http://localhost:5000/#/experiments/1/runs/6703435cfb5b45f1bdfa2847f44cc20e\n",
      "🧪 View experiment at: http://localhost:5000/#/experiments/1\n",
      "===== reg-NormalRegression_method-stochastic_winit-zeros_lr-0.0001_momentum-True =====\n",
      "Fold 0: val_mse=2.4731, val_r2=-2.6021\n",
      "Fold 1: val_mse=2.0816, val_r2=-1.8781\n",
      "Fold 2: val_mse=2.1364, val_r2=-2.0765\n",
      "Average Cross Validation Results → val_mse=2.2304, val_r2=-2.1856\n",
      "🏃 View run reg-NormalRegression_method-stochastic_winit-zeros_lr-0.0001_momentum-True at: http://localhost:5000/#/experiments/1/runs/d92b1c234b224487b2189a5248c93a29\n",
      "🧪 View experiment at: http://localhost:5000/#/experiments/1\n",
      "===== reg-NormalRegression_method-stochastic_winit-zeros_lr-0.0001_momentum-False =====\n",
      "Fold 0: val_mse=0.3307, val_r2=0.5183\n",
      "Fold 1: val_mse=0.3495, val_r2=0.5168\n",
      "Fold 2: val_mse=0.3308, val_r2=0.5236\n",
      "Average Cross Validation Results → val_mse=0.3370, val_r2=0.5196\n",
      "🏃 View run reg-NormalRegression_method-stochastic_winit-zeros_lr-0.0001_momentum-False at: http://localhost:5000/#/experiments/1/runs/efc0f6b322604d469d44e8942b4f0af5\n",
      "🧪 View experiment at: http://localhost:5000/#/experiments/1\n",
      "===== reg-NormalRegression_method-stochastic_winit-xavier_lr-0.01_momentum-True =====\n",
      "Fold 0: val_mse=0.3214, val_r2=0.5318\n",
      "Fold 1: val_mse=0.3492, val_r2=0.5172\n",
      "Fold 2: val_mse=0.3287, val_r2=0.5267\n",
      "Average Cross Validation Results → val_mse=0.3331, val_r2=0.5252\n",
      "🏃 View run reg-NormalRegression_method-stochastic_winit-xavier_lr-0.01_momentum-True at: http://localhost:5000/#/experiments/1/runs/0ab9287c03bc4fddbd1be8f9070325df\n",
      "🧪 View experiment at: http://localhost:5000/#/experiments/1\n",
      "===== reg-NormalRegression_method-stochastic_winit-xavier_lr-0.01_momentum-False =====\n",
      "Fold 0: val_mse=0.3378, val_r2=0.5079\n",
      "Fold 1: val_mse=0.3526, val_r2=0.5125\n",
      "Fold 2: val_mse=0.3295, val_r2=0.5255\n",
      "Average Cross Validation Results → val_mse=0.3400, val_r2=0.5153\n",
      "🏃 View run reg-NormalRegression_method-stochastic_winit-xavier_lr-0.01_momentum-False at: http://localhost:5000/#/experiments/1/runs/99e6708c85ad463d8ca2b23637fea13f\n",
      "🧪 View experiment at: http://localhost:5000/#/experiments/1\n",
      "===== reg-NormalRegression_method-stochastic_winit-xavier_lr-0.001_momentum-True =====\n",
      "Fold 0: val_mse=0.3306, val_r2=0.5184\n",
      "Fold 1: val_mse=0.3494, val_r2=0.5169\n",
      "Fold 2: val_mse=0.3307, val_r2=0.5237\n",
      "Average Cross Validation Results → val_mse=0.3369, val_r2=0.5197\n",
      "🏃 View run reg-NormalRegression_method-stochastic_winit-xavier_lr-0.001_momentum-True at: http://localhost:5000/#/experiments/1/runs/6e548382fdaf4526981ae9fc7939098b\n",
      "🧪 View experiment at: http://localhost:5000/#/experiments/1\n",
      "===== reg-NormalRegression_method-stochastic_winit-xavier_lr-0.001_momentum-False =====\n",
      "Fold 0: val_mse=0.3214, val_r2=0.5319\n",
      "Fold 1: val_mse=0.3497, val_r2=0.5165\n",
      "Fold 2: val_mse=0.3282, val_r2=0.5274\n",
      "Average Cross Validation Results → val_mse=0.3331, val_r2=0.5253\n",
      "🏃 View run reg-NormalRegression_method-stochastic_winit-xavier_lr-0.001_momentum-False at: http://localhost:5000/#/experiments/1/runs/cd103b69ef244efba41fcba519319d05\n",
      "🧪 View experiment at: http://localhost:5000/#/experiments/1\n",
      "===== reg-NormalRegression_method-stochastic_winit-xavier_lr-0.0001_momentum-True =====\n",
      "Fold 0: val_mse=2.2395, val_r2=-2.2618\n",
      "Fold 1: val_mse=1.9930, val_r2=-1.7555\n",
      "Fold 2: val_mse=2.1657, val_r2=-2.1187\n",
      "Average Cross Validation Results → val_mse=2.1327, val_r2=-2.0453\n",
      "🏃 View run reg-NormalRegression_method-stochastic_winit-xavier_lr-0.0001_momentum-True at: http://localhost:5000/#/experiments/1/runs/16647e302be243aabefaf086015f9100\n",
      "🧪 View experiment at: http://localhost:5000/#/experiments/1\n",
      "===== reg-NormalRegression_method-stochastic_winit-xavier_lr-0.0001_momentum-False =====\n",
      "Fold 0: val_mse=0.3308, val_r2=0.5183\n",
      "Fold 1: val_mse=0.3499, val_r2=0.5163\n",
      "Fold 2: val_mse=0.3306, val_r2=0.5239\n",
      "Average Cross Validation Results → val_mse=0.3371, val_r2=0.5195\n",
      "🏃 View run reg-NormalRegression_method-stochastic_winit-xavier_lr-0.0001_momentum-False at: http://localhost:5000/#/experiments/1/runs/dd13bc5c25bf413fa7ce924bac485dc9\n",
      "🧪 View experiment at: http://localhost:5000/#/experiments/1\n",
      "===== reg-NormalRegression_method-mini-batch_winit-zeros_lr-0.01_momentum-True =====\n",
      "Fold 0: val_mse=1.4421, val_r2=-1.1004\n",
      "Fold 1: val_mse=1.1886, val_r2=-0.6434\n",
      "Fold 2: val_mse=1.2193, val_r2=-0.7559\n",
      "Average Cross Validation Results → val_mse=1.2833, val_r2=-0.8332\n",
      "🏃 View run reg-NormalRegression_method-mini-batch_winit-zeros_lr-0.01_momentum-True at: http://localhost:5000/#/experiments/1/runs/13b064987e8c4ba3a23cfe415c0c4751\n",
      "🧪 View experiment at: http://localhost:5000/#/experiments/1\n",
      "===== reg-NormalRegression_method-mini-batch_winit-zeros_lr-0.01_momentum-False =====\n",
      "Fold 0: val_mse=0.3231, val_r2=0.5294\n",
      "Fold 1: val_mse=0.3484, val_r2=0.5183\n",
      "Fold 2: val_mse=0.3284, val_r2=0.5271\n",
      "Average Cross Validation Results → val_mse=0.3333, val_r2=0.5249\n",
      "🏃 View run reg-NormalRegression_method-mini-batch_winit-zeros_lr-0.01_momentum-False at: http://localhost:5000/#/experiments/1/runs/2939b84015a44bd7b988261867c6253e\n",
      "🧪 View experiment at: http://localhost:5000/#/experiments/1\n",
      "===== reg-NormalRegression_method-mini-batch_winit-zeros_lr-0.001_momentum-True =====\n",
      "Fold 0: val_mse=5.1509, val_r2=-6.5023\n",
      "Fold 1: val_mse=4.5648, val_r2=-5.3113\n",
      "Fold 2: val_mse=4.7314, val_r2=-5.8135\n",
      "Average Cross Validation Results → val_mse=4.8157, val_r2=-5.8757\n",
      "🏃 View run reg-NormalRegression_method-mini-batch_winit-zeros_lr-0.001_momentum-True at: http://localhost:5000/#/experiments/1/runs/61d3f7150b7e44968b4b40eac415add4\n",
      "🧪 View experiment at: http://localhost:5000/#/experiments/1\n",
      "===== reg-NormalRegression_method-mini-batch_winit-zeros_lr-0.001_momentum-False =====\n",
      "Fold 0: val_mse=1.4422, val_r2=-1.1006\n",
      "Fold 1: val_mse=1.1889, val_r2=-0.6438\n",
      "Fold 2: val_mse=1.2190, val_r2=-0.7554\n",
      "Average Cross Validation Results → val_mse=1.2834, val_r2=-0.8332\n",
      "🏃 View run reg-NormalRegression_method-mini-batch_winit-zeros_lr-0.001_momentum-False at: http://localhost:5000/#/experiments/1/runs/0f1d7a57b36c418cbd8e7d012d9a7bbb\n",
      "🧪 View experiment at: http://localhost:5000/#/experiments/1\n",
      "===== reg-NormalRegression_method-mini-batch_winit-zeros_lr-0.0001_momentum-True =====\n",
      "Fold 0: val_mse=101.8860, val_r2=-147.3962\n",
      "Fold 1: val_mse=101.1431, val_r2=-138.8406\n",
      "Fold 2: val_mse=101.3620, val_r2=-144.9660\n",
      "Average Cross Validation Results → val_mse=101.4637, val_r2=-143.7343\n",
      "🏃 View run reg-NormalRegression_method-mini-batch_winit-zeros_lr-0.0001_momentum-True at: http://localhost:5000/#/experiments/1/runs/95e53fce42744aefb6e10b618ef05287\n",
      "🧪 View experiment at: http://localhost:5000/#/experiments/1\n",
      "===== reg-NormalRegression_method-mini-batch_winit-zeros_lr-0.0001_momentum-False =====\n",
      "Fold 0: val_mse=5.1470, val_r2=-6.4966\n",
      "Fold 1: val_mse=4.5595, val_r2=-5.3040\n",
      "Fold 2: val_mse=4.7274, val_r2=-5.8077\n",
      "Average Cross Validation Results → val_mse=4.8113, val_r2=-5.8694\n",
      "🏃 View run reg-NormalRegression_method-mini-batch_winit-zeros_lr-0.0001_momentum-False at: http://localhost:5000/#/experiments/1/runs/55eef52615ec47adaa5ef77e7df1749d\n",
      "🧪 View experiment at: http://localhost:5000/#/experiments/1\n",
      "===== reg-NormalRegression_method-mini-batch_winit-xavier_lr-0.01_momentum-True =====\n",
      "Fold 0: val_mse=1.5440, val_r2=-1.2488\n",
      "Fold 1: val_mse=1.1953, val_r2=-0.6526\n",
      "Fold 2: val_mse=1.2020, val_r2=-0.7309\n",
      "Average Cross Validation Results → val_mse=1.3138, val_r2=-0.8775\n",
      "🏃 View run reg-NormalRegression_method-mini-batch_winit-xavier_lr-0.01_momentum-True at: http://localhost:5000/#/experiments/1/runs/78b6f639cf4a4dba848d0f8960a7542f\n",
      "🧪 View experiment at: http://localhost:5000/#/experiments/1\n",
      "===== reg-NormalRegression_method-mini-batch_winit-xavier_lr-0.01_momentum-False =====\n",
      "Fold 0: val_mse=0.3223, val_r2=0.5306\n",
      "Fold 1: val_mse=0.3489, val_r2=0.5177\n",
      "Fold 2: val_mse=0.3286, val_r2=0.5268\n",
      "Average Cross Validation Results → val_mse=0.3332, val_r2=0.5250\n",
      "🏃 View run reg-NormalRegression_method-mini-batch_winit-xavier_lr-0.01_momentum-False at: http://localhost:5000/#/experiments/1/runs/d8b7ee4da34449dbb380ced7eeb3ff63\n",
      "🧪 View experiment at: http://localhost:5000/#/experiments/1\n",
      "===== reg-NormalRegression_method-mini-batch_winit-xavier_lr-0.001_momentum-True =====\n",
      "Fold 0: val_mse=4.7806, val_r2=-5.9629\n",
      "Fold 1: val_mse=4.1520, val_r2=-4.7406\n",
      "Fold 2: val_mse=4.3985, val_r2=-5.3340\n",
      "Average Cross Validation Results → val_mse=4.4437, val_r2=-5.3458\n",
      "🏃 View run reg-NormalRegression_method-mini-batch_winit-xavier_lr-0.001_momentum-True at: http://localhost:5000/#/experiments/1/runs/da79efb1bea745a0863c67aea34957b0\n",
      "🧪 View experiment at: http://localhost:5000/#/experiments/1\n",
      "===== reg-NormalRegression_method-mini-batch_winit-xavier_lr-0.001_momentum-False =====\n",
      "Fold 0: val_mse=1.6344, val_r2=-1.3805\n",
      "Fold 1: val_mse=1.2092, val_r2=-0.6718\n",
      "Fold 2: val_mse=1.1743, val_r2=-0.6911\n",
      "Average Cross Validation Results → val_mse=1.3393, val_r2=-0.9145\n",
      "🏃 View run reg-NormalRegression_method-mini-batch_winit-xavier_lr-0.001_momentum-False at: http://localhost:5000/#/experiments/1/runs/5c948637849d4176a2d755f0bf59de09\n",
      "🧪 View experiment at: http://localhost:5000/#/experiments/1\n",
      "===== reg-NormalRegression_method-mini-batch_winit-xavier_lr-0.0001_momentum-True =====\n",
      "Fold 0: val_mse=113.3188, val_r2=-164.0479\n",
      "Fold 1: val_mse=86.3580, val_r2=-118.3987\n",
      "Fold 2: val_mse=96.6674, val_r2=-138.2055\n",
      "Average Cross Validation Results → val_mse=98.7814, val_r2=-140.2174\n",
      "🏃 View run reg-NormalRegression_method-mini-batch_winit-xavier_lr-0.0001_momentum-True at: http://localhost:5000/#/experiments/1/runs/7fcac441796c46cea33ec1350d123a9d\n",
      "🧪 View experiment at: http://localhost:5000/#/experiments/1\n",
      "===== reg-NormalRegression_method-mini-batch_winit-xavier_lr-0.0001_momentum-False =====\n",
      "Fold 0: val_mse=4.8586, val_r2=-6.0765\n",
      "Fold 1: val_mse=4.5902, val_r2=-5.3464\n",
      "Fold 2: val_mse=4.7598, val_r2=-5.8544\n",
      "Average Cross Validation Results → val_mse=4.7362, val_r2=-5.7591\n",
      "🏃 View run reg-NormalRegression_method-mini-batch_winit-xavier_lr-0.0001_momentum-False at: http://localhost:5000/#/experiments/1/runs/cc702f9f200e474cad8e779b31b596f2\n",
      "🧪 View experiment at: http://localhost:5000/#/experiments/1\n",
      "===== reg-NormalRegression_method-batch_winit-zeros_lr-0.01_momentum-True =====\n",
      "Fold 0: val_mse=84.5613, val_r2=-122.1629\n",
      "Fold 1: val_mse=85.5435, val_r2=-117.2726\n",
      "Fold 2: val_mse=85.7932, val_r2=-122.5462\n",
      "Average Cross Validation Results → val_mse=85.2993, val_r2=-120.6606\n",
      "🏃 View run reg-NormalRegression_method-batch_winit-zeros_lr-0.01_momentum-True at: http://localhost:5000/#/experiments/1/runs/2b0d020bdd64423ab163408380d6b3da\n",
      "🧪 View experiment at: http://localhost:5000/#/experiments/1\n",
      "===== reg-NormalRegression_method-batch_winit-zeros_lr-0.01_momentum-False =====\n",
      "Fold 0: val_mse=4.0833, val_r2=-4.9473\n",
      "Fold 1: val_mse=3.5480, val_r2=-3.9054\n",
      "Fold 2: val_mse=3.6750, val_r2=-4.2922\n",
      "Average Cross Validation Results → val_mse=3.7687, val_r2=-4.3816\n",
      "🏃 View run reg-NormalRegression_method-batch_winit-zeros_lr-0.01_momentum-False at: http://localhost:5000/#/experiments/1/runs/28947f42c64d41a6907fe4a8ad962b1f\n",
      "🧪 View experiment at: http://localhost:5000/#/experiments/1\n",
      "===== reg-NormalRegression_method-batch_winit-zeros_lr-0.001_momentum-True =====\n",
      "Fold 0: val_mse=157.9511, val_r2=-229.0545\n",
      "Fold 1: val_mse=157.7290, val_r2=-217.0764\n",
      "Fold 2: val_mse=157.8969, val_r2=-226.3789\n",
      "Average Cross Validation Results → val_mse=157.8590, val_r2=-224.1699\n",
      "🏃 View run reg-NormalRegression_method-batch_winit-zeros_lr-0.001_momentum-True at: http://localhost:5000/#/experiments/1/runs/06d77dbd14a144969d665576585d5fd6\n",
      "🧪 View experiment at: http://localhost:5000/#/experiments/1\n",
      "===== reg-NormalRegression_method-batch_winit-zeros_lr-0.001_momentum-False =====\n",
      "Fold 0: val_mse=86.2026, val_r2=-124.5534\n",
      "Fold 1: val_mse=85.4199, val_r2=-117.1018\n",
      "Fold 2: val_mse=85.6507, val_r2=-122.3410\n",
      "Average Cross Validation Results → val_mse=85.7577, val_r2=-121.3320\n",
      "🏃 View run reg-NormalRegression_method-batch_winit-zeros_lr-0.001_momentum-False at: http://localhost:5000/#/experiments/1/runs/f84bb258218a42c68fb03da69f72ae12\n",
      "🧪 View experiment at: http://localhost:5000/#/experiments/1\n",
      "===== reg-NormalRegression_method-batch_winit-zeros_lr-0.0001_momentum-True =====\n",
      "Fold 0: val_mse=168.4730, val_r2=-244.3796\n",
      "Fold 1: val_mse=167.8453, val_r2=-231.0633\n",
      "Fold 2: val_mse=168.0044, val_r2=-240.9342\n",
      "Average Cross Validation Results → val_mse=168.1076, val_r2=-238.7924\n",
      "🏃 View run reg-NormalRegression_method-batch_winit-zeros_lr-0.0001_momentum-True at: http://localhost:5000/#/experiments/1/runs/ae8f9e4597ec45da847ae89476756684\n",
      "🧪 View experiment at: http://localhost:5000/#/experiments/1\n",
      "===== reg-NormalRegression_method-batch_winit-zeros_lr-0.0001_momentum-False =====\n",
      "Fold 0: val_mse=158.4216, val_r2=-229.7399\n",
      "Fold 1: val_mse=157.7289, val_r2=-217.0762\n",
      "Fold 2: val_mse=157.8970, val_r2=-226.3790\n",
      "Average Cross Validation Results → val_mse=158.0158, val_r2=-224.3984\n",
      "🏃 View run reg-NormalRegression_method-batch_winit-zeros_lr-0.0001_momentum-False at: http://localhost:5000/#/experiments/1/runs/de0879db16a84d3ca8bf80d42195c159\n",
      "🧪 View experiment at: http://localhost:5000/#/experiments/1\n",
      "===== reg-NormalRegression_method-batch_winit-xavier_lr-0.01_momentum-True =====\n",
      "Fold 0: val_mse=79.2306, val_r2=-114.3988\n",
      "Fold 1: val_mse=88.6841, val_r2=-121.6149\n",
      "Fold 2: val_mse=79.7312, val_r2=-113.8167\n",
      "Average Cross Validation Results → val_mse=82.5487, val_r2=-116.6101\n",
      "🏃 View run reg-NormalRegression_method-batch_winit-xavier_lr-0.01_momentum-True at: http://localhost:5000/#/experiments/1/runs/bcfbbc0fdb4d4dadb311cd6876aa1aa9\n",
      "🧪 View experiment at: http://localhost:5000/#/experiments/1\n",
      "===== reg-NormalRegression_method-batch_winit-xavier_lr-0.01_momentum-False =====\n",
      "Fold 0: val_mse=4.2741, val_r2=-5.2252\n",
      "Fold 1: val_mse=3.3445, val_r2=-3.6242\n",
      "Fold 2: val_mse=4.0379, val_r2=-4.8148\n",
      "Average Cross Validation Results → val_mse=3.8855, val_r2=-4.5547\n",
      "🏃 View run reg-NormalRegression_method-batch_winit-xavier_lr-0.01_momentum-False at: http://localhost:5000/#/experiments/1/runs/35f643fc47654bc48f2cd4eb30a58f77\n",
      "🧪 View experiment at: http://localhost:5000/#/experiments/1\n",
      "===== reg-NormalRegression_method-batch_winit-xavier_lr-0.001_momentum-True =====\n",
      "Fold 0: val_mse=168.1586, val_r2=-243.9217\n",
      "Fold 1: val_mse=159.5559, val_r2=-219.6023\n",
      "Fold 2: val_mse=151.6659, val_r2=-217.4059\n",
      "Average Cross Validation Results → val_mse=159.7935, val_r2=-226.9767\n",
      "🏃 View run reg-NormalRegression_method-batch_winit-xavier_lr-0.001_momentum-True at: http://localhost:5000/#/experiments/1/runs/4ef90ef4c4da4e808919e1631d676974\n",
      "🧪 View experiment at: http://localhost:5000/#/experiments/1\n",
      "===== reg-NormalRegression_method-batch_winit-xavier_lr-0.001_momentum-False =====\n",
      "Fold 0: val_mse=83.5859, val_r2=-120.7422\n",
      "Fold 1: val_mse=87.8070, val_r2=-120.4022\n",
      "Fold 2: val_mse=81.2459, val_r2=-115.9979\n",
      "Average Cross Validation Results → val_mse=84.2129, val_r2=-119.0474\n",
      "🏃 View run reg-NormalRegression_method-batch_winit-xavier_lr-0.001_momentum-False at: http://localhost:5000/#/experiments/1/runs/1b54795221d04a7aa3095894b7f2907b\n",
      "🧪 View experiment at: http://localhost:5000/#/experiments/1\n",
      "===== reg-NormalRegression_method-batch_winit-xavier_lr-0.0001_momentum-True =====\n",
      "Fold 0: val_mse=179.3914, val_r2=-260.2821\n",
      "Fold 1: val_mse=159.8380, val_r2=-219.9924\n",
      "Fold 2: val_mse=164.3169, val_r2=-235.6240\n",
      "Average Cross Validation Results → val_mse=167.8487, val_r2=-238.6328\n",
      "🏃 View run reg-NormalRegression_method-batch_winit-xavier_lr-0.0001_momentum-True at: http://localhost:5000/#/experiments/1/runs/dbbc4d4d378c40a6b88d42f2e76139b8\n",
      "🧪 View experiment at: http://localhost:5000/#/experiments/1\n",
      "===== reg-NormalRegression_method-batch_winit-xavier_lr-0.0001_momentum-False =====\n",
      "Fold 0: val_mse=144.5573, val_r2=-209.5466\n",
      "Fold 1: val_mse=160.3883, val_r2=-220.7533\n",
      "Fold 2: val_mse=144.7316, val_r2=-207.4203\n",
      "Average Cross Validation Results → val_mse=149.8924, val_r2=-212.5734\n",
      "🏃 View run reg-NormalRegression_method-batch_winit-xavier_lr-0.0001_momentum-False at: http://localhost:5000/#/experiments/1/runs/d9c35419c48e4eeb82a89ddfc3c32d32\n",
      "🧪 View experiment at: http://localhost:5000/#/experiments/1\n"
     ]
    }
   ],
   "source": [
    "import itertools\n",
    "\n",
    "regs = [\"Ridge\", \"Lasso\", \"PolynomialRegression\",\"NormalRegression\"]\n",
    "\n",
    "methods = [\"stochastic\",\"mini-batch\",\"batch\"]\n",
    "\n",
    "initial_weights = [\"zeros\", \"xavier\"]\n",
    "\n",
    "learning_rates = [0.01, 0.001, 0.0001]\n",
    "\n",
    "momentum = [True, False]\n",
    "\n",
    "for reg, method, weight_init, lr, use_momentum in itertools.product( regs, methods, initial_weights, learning_rates, momentum):\n",
    "\n",
    "    params = {\n",
    "        \"method\": method,\n",
    "        \"lr\": lr,\n",
    "        \"weight_init\": weight_init,\n",
    "        \"use_momentum\": use_momentum,\n",
    "        \"l\": 0.1\n",
    "    }\n",
    "\n",
    "    run_name = f\"reg-{reg}_method-{method}_winit-{weight_init}_lr-{lr}_momentum-{use_momentum}\"\n",
    "\n",
    "    # start mlflow experiment\n",
    "    with mlflow.start_run(run_name=run_name, nested=True):\n",
    "\n",
    "        print(\"=\"*5, run_name, \"=\"*5)\n",
    "\n",
    "        type_of_regression = str_to_class(reg)\n",
    "        model = type_of_regression(**params)\n",
    "\n",
    "        # train the model\n",
    "        model.fit(X_train, y_train)\n",
    "\n",
    "        mlflow.log_param(\"regression\", reg)\n",
    "        mlflow.log_params(params)\n",
    "       \n",
    "\n",
    "        signature = mlflow.models.infer_signature(X_train, model.predict(X_train))\n",
    "        mlflow.sklearn.log_model(model, name=\"model\", signature=signature)\n"
   ]
  },
  {
   "cell_type": "markdown",
   "id": "0cfc7bfc",
   "metadata": {},
   "source": [
    "Make experiment for Normal Regression again"
   ]
  },
  {
   "cell_type": "markdown",
   "id": "fb63de75",
   "metadata": {},
   "source": [
    "#### Select the best model"
   ]
  },
  {
   "cell_type": "code",
   "execution_count": null,
   "id": "4d46b26f",
   "metadata": {},
   "outputs": [],
   "source": [
    "print(mlflow.__version__)"
   ]
  },
  {
   "cell_type": "code",
   "execution_count": null,
   "id": "d20bc7f0",
   "metadata": {},
   "outputs": [],
   "source": [
    "# model with minimum mse values is taken"
   ]
  },
  {
   "cell_type": "code",
   "execution_count": null,
   "id": "c8f3a805",
   "metadata": {},
   "outputs": [
    {
     "name": "stdout",
     "output_type": "stream",
     "text": [
      "Model loaded successfully\n"
     ]
    }
   ],
   "source": [
    "import mlflow\n",
    "\n",
    "# define path for the model using its model id which is taken from mlflow ui\n",
    "model_path = r\"D:/AIT - Supipi/ML/Assignment 2 - Test/mlruns/1/runs/m-b56e04231f68451fbb4db79e75ebe430/artifacts\"\n",
    "model = mlflow.pyfunc.load_model(model_path)\n",
    "\n",
    "print(\"Model loaded successfully\")\n",
    "\n"
   ]
  },
  {
   "cell_type": "code",
   "execution_count": 66,
   "id": "d2ff5c24",
   "metadata": {},
   "outputs": [
    {
     "data": {
      "text/plain": [
       "mlflow.pyfunc.loaded_model:\n",
       "  artifact_path: file:///D:/AIT - Supipi/ML/Assignment 2 - Test/mlruns/1/models/m-b56e04231f68451fbb4db79e75ebe430/artifacts\n",
       "  flavor: mlflow.sklearn\n",
       "  run_id: 21ed4e080009440d912e76937fa5f5ac"
      ]
     },
     "execution_count": 66,
     "metadata": {},
     "output_type": "execute_result"
    }
   ],
   "source": [
    "model"
   ]
  },
  {
   "cell_type": "markdown",
   "id": "c7d99b0b",
   "metadata": {},
   "source": [
    "#### Perform prediction on the test dataset using the best model"
   ]
  },
  {
   "cell_type": "code",
   "execution_count": 68,
   "id": "91d4c1b4",
   "metadata": {},
   "outputs": [],
   "source": [
    "from sklearn.metrics import mean_squared_error, r2_score"
   ]
  },
  {
   "cell_type": "code",
   "execution_count": 75,
   "id": "3d2fd616",
   "metadata": {},
   "outputs": [],
   "source": [
    "# test the model with the best parameters\n",
    "yhat = model.predict(X_test)\n",
    "pred_y = np.exp(yhat)\n"
   ]
  },
  {
   "cell_type": "code",
   "execution_count": 72,
   "id": "a61d150b",
   "metadata": {},
   "outputs": [
    {
     "data": {
      "text/plain": [
       "np.float64(244647159864.25888)"
      ]
     },
     "execution_count": 72,
     "metadata": {},
     "output_type": "execute_result"
    }
   ],
   "source": [
    "mean_squared_error(y_test, pred_y)"
   ]
  },
  {
   "cell_type": "code",
   "execution_count": 73,
   "id": "0a6c28f6",
   "metadata": {},
   "outputs": [
    {
     "name": "stdout",
     "output_type": "stream",
     "text": [
      "r2:  0.6339107993994786\n"
     ]
    }
   ],
   "source": [
    "print(\"r2: \", r2_score(y_test, pred_y))"
   ]
  },
  {
   "cell_type": "markdown",
   "id": "8331c026",
   "metadata": {},
   "source": [
    "#### 0.7 Analyze feature importance"
   ]
  },
  {
   "cell_type": "markdown",
   "id": "e558c15b",
   "metadata": {},
   "source": [
    "Permutation way"
   ]
  },
  {
   "cell_type": "code",
   "execution_count": 11,
   "id": "181223b7",
   "metadata": {},
   "outputs": [
    {
     "name": "stdout",
     "output_type": "stream",
     "text": [
      "Model loaded successfully\n"
     ]
    }
   ],
   "source": [
    "import mlflow\n",
    "\n",
    "# define path for the model using its run id which is taken from mlflow ui\n",
    "model_path = r\"D:/AIT - Supipi/ML/Assignment 2 - Test/mlruns/1/runs/m-b56e04231f68451fbb4db79e75ebe430/artifacts\"\n",
    "model = mlflow.pyfunc.load_model(model_path)\n",
    "\n",
    "\n",
    "\n",
    "print(\"Model loaded successfully\")"
   ]
  },
  {
   "cell_type": "code",
   "execution_count": 64,
   "id": "d7d8b152",
   "metadata": {},
   "outputs": [
    {
     "name": "stderr",
     "output_type": "stream",
     "text": [
      "ExactExplainer explainer: 2410it [00:11, 151.81it/s]                           \n"
     ]
    },
    {
     "data": {
      "image/png": "[encoded data removed]",
      "text/plain": [
       "<Figure size 800x270 with 1 Axes>"
      ]
     },
     "metadata": {},
     "output_type": "display_data"
    }
   ],
   "source": [
    "import shap\n",
    "\n",
    "explainer = shap.Explainer(model.predict, X_test)\n",
    "shap_values = explainer(X_test)\n",
    "\n",
    "shap.summary_plot(shap_values, X_test, plot_type=\"bar\")\n",
    "\n"
   ]
  },
  {
   "cell_type": "code",
   "execution_count": null,
   "id": "f3726b99",
   "metadata": {},
   "outputs": [],
   "source": [
    "from sklearn.metrics import mean_squared_error, r2_score"
   ]
  },
  {
   "cell_type": "code",
   "execution_count": 72,
   "id": "2eded4ee",
   "metadata": {},
   "outputs": [],
   "source": [
    "# wrap MLflow model\n",
    "wrapped_model = SklearnWrapper(model)"
   ]
  },
  {
   "cell_type": "code",
   "execution_count": 73,
   "id": "a2cafeea",
   "metadata": {},
   "outputs": [
    {
     "data": {
      "image/png": "[encoded data removed]",
      "text/plain": [
       "<Figure size 800x600 with 1 Axes>"
      ]
     },
     "metadata": {},
     "output_type": "display_data"
    }
   ],
   "source": [
    "from sklearn.inspection import permutation_importance\n",
    "import pandas as pd\n",
    "import matplotlib.pyplot as plt\n",
    "\n",
    "\n",
    "# your saved feature names from training\n",
    "feature_names = [\"interception\", \"transmission\", \"max_power\"]  # replace with real ones\n",
    "\n",
    "# run permutation importance\n",
    "result = permutation_importance(\n",
    "    wrapped_model, X_test, y_test,\n",
    "    n_repeats=10, random_state=42, scoring=\"neg_mean_squared_error\"\n",
    ")\n",
    "\n",
    "# put into DataFrame\n",
    "importance_df = pd.DataFrame({\n",
    "    \"feature\": feature_names,\n",
    "    \"importance\": result.importances_mean\n",
    "}).sort_values(\"importance\", ascending=False)\n",
    "\n",
    "# plot\n",
    "importance_df.plot(kind=\"barh\", x=\"feature\", y=\"importance\", figsize=(8,6))\n",
    "plt.title(\"Permutation Feature Importance\")\n",
    "plt.axvline(x=0, color=\"gray\", linestyle=\"--\")\n",
    "plt.show()\n"
   ]
  },
  {
   "cell_type": "markdown",
   "id": "85692b29",
   "metadata": {},
   "source": [
    "It is clear that he interception we have added for training regression model does not affect to the model performance. Ma_power is the feature which affects mostly to the model performance."
   ]
  },
  {
   "cell_type": "markdown",
   "id": "d61011da",
   "metadata": {},
   "source": [
    "#### 08. Inference"
   ]
  },
  {
   "cell_type": "markdown",
   "id": "52d884e7",
   "metadata": {},
   "source": [
    "## Discussion"
   ]
  },
  {
   "cell_type": "markdown",
   "id": "18e7a525",
   "metadata": {},
   "source": [
    "#### Introduction"
   ]
  },
  {
   "cell_type": "markdown",
   "id": "40742e2d",
   "metadata": {},
   "source": [
    "In this assignment, it was exprimented performance linear models for a given dataset and a defined regression model type using MLflow. There are 4 types of regression models compared including polynomial, lasso, ridge, normal.\n",
    "\n",
    "These models were further compared with various parameter values. They are;\n",
    "1. using with or without momentum\n",
    "2. stochastic, mini-batch, batch\n",
    "3. two intialization methods for theta; zero, xavier\n",
    "4. learning rate of 0.01, 0.001, and 0.0001\n",
    "\n",
    "\n",
    "As a result, 144 number of models were created in the experiment.\n",
    "\n",
    "Following are the finding of this experiment."
   ]
  },
  {
   "cell_type": "markdown",
   "id": "8844b283",
   "metadata": {},
   "source": [
    "#### 1. Comaprison according to  regression model type"
   ]
  },
  {
   "cell_type": "markdown",
   "id": "4f28eef5",
   "metadata": {},
   "source": [
    "<img src=\"./Screenshots/Regressions/regressions.jpg\" align=\"left\" style=\"width:1000px;\"/>"
   ]
  },
  {
   "cell_type": "markdown",
   "id": "c0b71c37",
   "metadata": {},
   "source": [
    "The above image shows the mean mse and r2 error for each regression model types. There are 36 model created for each model type."
   ]
  },
  {
   "cell_type": "markdown",
   "id": "5f062263",
   "metadata": {},
   "source": [
    "<img src=\"./Screenshots/Regressions/mean_val_mse.png\" align=\"left\" style=\"width:800px;\"/>"
   ]
  },
  {
   "cell_type": "markdown",
   "id": "9767192f",
   "metadata": {},
   "source": [
    "The above fingure depicts the mean mse for each regression type. According to that Ridge Regression model type has highest average mean mse while, polynomial regression has lowerst avaerage mean mse. Therefore, there is a possibility to create a better model from polynomial regression type. in r2 also, lowest value is from the polynomial regression. "
   ]
  },
  {
   "cell_type": "markdown",
   "id": "06cd9377",
   "metadata": {},
   "source": [
    "<img src=\"./Screenshots/Regressions/mean_val_r2.png\" align=\"left\" style=\"width:800px;\"/>"
   ]
  },
  {
   "cell_type": "markdown",
   "id": "6c292222",
   "metadata": {},
   "source": [
    "#### 2. Comparisson according to momentum."
   ]
  },
  {
   "cell_type": "markdown",
   "id": "e7aa1ffa",
   "metadata": {},
   "source": [
    "Momentum is a technique that is used to accelerate gradient descent and stabilize updates during training of machine learning models. momentum remembers past updates of gradient rather than updating parameters purely based on the current gradient. "
   ]
  },
  {
   "cell_type": "markdown",
   "id": "4542ae87",
   "metadata": {},
   "source": [
    "<img src=\".\\Screenshots\\momentum\\momentum_or_not.jpg\" align=\"left\" style=\"width:1000px;\"/>"
   ]
  },
  {
   "cell_type": "markdown",
   "id": "dc63836e",
   "metadata": {},
   "source": [
    "According to the above figure, created models in the experiment were grouped as use_momentum (True) and without momentum (False). It is indicate that most of the models with out momentum has lower mean mse indicating better performances. To get better picture of the experiment, effect of momentum was observed for each regression types. "
   ]
  },
  {
   "cell_type": "markdown",
   "id": "039d1945",
   "metadata": {},
   "source": [
    "<img src=\".\\Screenshots\\momentum\\with_regression\\with regressions.jpg\" align=\"left\" style=\"width:1000px;\"/>"
   ]
  },
  {
   "cell_type": "markdown",
   "id": "6c4295d6",
   "metadata": {},
   "source": [
    "#### Mean mse"
   ]
  },
  {
   "cell_type": "markdown",
   "id": "3f55cf3f",
   "metadata": {},
   "source": [
    "<img src=\".\\Screenshots\\momentum\\with_regression\\mean_val_mse.png\" align=\"left\" style=\"width:800px;\"/>"
   ]
  },
  {
   "cell_type": "markdown",
   "id": "2de248e9",
   "metadata": {},
   "source": [
    "For each model type also, better performance was without moment according to this experiment. Because means mse value is lower and mean r2 is closer to 1 when it is without momentum."
   ]
  },
  {
   "cell_type": "markdown",
   "id": "4bfa6828",
   "metadata": {},
   "source": [
    "#### Mean R2"
   ]
  },
  {
   "cell_type": "markdown",
   "id": "651593b6",
   "metadata": {},
   "source": [
    "<img src=\".\\Screenshots\\momentum\\with_regression\\mean_val_r2.png\" align=\"left\" style=\"width:800px;\"/>"
   ]
  },
  {
   "cell_type": "markdown",
   "id": "98d15942",
   "metadata": {},
   "source": [
    "#### 3. Comparison according to weight initialization"
   ]
  },
  {
   "cell_type": "markdown",
   "id": "295b62b8",
   "metadata": {},
   "source": [
    "There two  types of theta initialization considered in this ecperiment.One of them is Zero Initialization  where all the weights are initialized to 0. Xavier Initialization is another one which is designed for networks with tanh or sigmoid activations. It is useful in Balances variance of inputs and outputs across layers."
   ]
  },
  {
   "cell_type": "markdown",
   "id": "8367efe3",
   "metadata": {},
   "source": [
    "<img src=\".\\Screenshots\\weight_init\\weight_init.jpg\" align=\"left\" style=\"width:1000px;\"/>"
   ]
  },
  {
   "cell_type": "markdown",
   "id": "f6c7acaf",
   "metadata": {},
   "source": [
    "##### Mean mse"
   ]
  },
  {
   "cell_type": "markdown",
   "id": "c5df2a9f",
   "metadata": {},
   "source": [
    "<img src=\".\\Screenshots\\weight_init\\mean_val_mse.png\" align=\"left\" style=\"width:800px;\"/>"
   ]
  },
  {
   "cell_type": "markdown",
   "id": "3fc6390b",
   "metadata": {},
   "source": [
    "##### Mean R2"
   ]
  },
  {
   "cell_type": "markdown",
   "id": "222cdbf9",
   "metadata": {},
   "source": [
    "<img src=\".\\Screenshots\\weight_init\\mean_val_r2.png\" align=\"left\" style=\"width:800px;\"/>"
   ]
  },
  {
   "cell_type": "markdown",
   "id": "5ca4b606",
   "metadata": {},
   "source": [
    "Eventhough there are slight changes in the values for each initialization techniques in both mean mse and mean r2, it is clear that Xavier has lower values for both evaluation metric. WHich depitds that the model performace can be imrpoved with Xavier method."
   ]
  },
  {
   "cell_type": "markdown",
   "id": "0ce15879",
   "metadata": {},
   "source": [
    "#### 4. Comparison according to gradient descent variants"
   ]
  },
  {
   "cell_type": "markdown",
   "id": "964a7aa1",
   "metadata": {},
   "source": [
    "There are three gradient descent methods considered in this experiment.\n",
    "\n",
    "1. Batch Gradient Descent : uses the entire training dataset to compute the gradient and update weights once per epoch.\n",
    "2. Stochastic Gradient Descent (SGD) : updates the model after every single sample.\n",
    "3. Mini-Batch Gradient Descent: splits training data into small batches and each batch is used to compute a gradient update."
   ]
  },
  {
   "cell_type": "markdown",
   "id": "6108b567",
   "metadata": {},
   "source": [
    "<img src=\".\\Screenshots\\method\\methods.jpg\" align=\"left\" style=\"width:1000px;\"/>"
   ]
  },
  {
   "cell_type": "markdown",
   "id": "2f7484cd",
   "metadata": {},
   "source": [
    "#### Mean mse"
   ]
  },
  {
   "cell_type": "markdown",
   "id": "32f36a1c",
   "metadata": {},
   "source": [
    "<img src=\".\\Screenshots\\method\\mean_val_mse.png\" align=\"left\" style=\"width:800px;\"/>"
   ]
  },
  {
   "cell_type": "markdown",
   "id": "3515442a",
   "metadata": {},
   "source": [
    "#### Mean R2"
   ]
  },
  {
   "cell_type": "markdown",
   "id": "007b49d6",
   "metadata": {},
   "source": [
    "<img src=\".\\Screenshots\\method\\mean_val_r2.png\" align=\"left\" style=\"width:800px;\"/>"
   ]
  },
  {
   "cell_type": "markdown",
   "id": "93bf4461",
   "metadata": {},
   "source": [
    "According to the above figures, it shows that model can get better performace using stochastic method as it have lowest mse and r2 values  which more closer to 1."
   ]
  },
  {
   "cell_type": "markdown",
   "id": "049486a4",
   "metadata": {},
   "source": [
    "#### 5. Comparing with learning rates"
   ]
  },
  {
   "cell_type": "markdown",
   "id": "7a20f289",
   "metadata": {},
   "source": [
    "Learning rate controls how big a step the optimizer takes when updating model weights during gradient descent. In this experiment, it considers three learning rates to examin the model performance. The considered values for learning rate here is 0.1,0.001,0.0001."
   ]
  },
  {
   "cell_type": "markdown",
   "id": "301cbdac",
   "metadata": {},
   "source": [
    "<img src=\".\\Screenshots\\lr\\learning_rate.jpg\" align=\"left\" style=\"width:1000px;\"/>"
   ]
  },
  {
   "cell_type": "markdown",
   "id": "fe478d1f",
   "metadata": {},
   "source": [
    "##### Mean mse"
   ]
  },
  {
   "cell_type": "markdown",
   "id": "dc804d58",
   "metadata": {},
   "source": [
    "<img src=\".\\Screenshots\\lr\\mean_val_mse.png\" align=\"left\" style=\"width:800px;\"/>"
   ]
  },
  {
   "cell_type": "markdown",
   "id": "a6036217",
   "metadata": {},
   "source": [
    "#### Mean R2"
   ]
  },
  {
   "cell_type": "markdown",
   "id": "13442c75",
   "metadata": {},
   "source": [
    "<img src=\".\\Screenshots\\lr\\mean_val_r2.png\" align=\"left\" style=\"width:800px;\"/>"
   ]
  },
  {
   "cell_type": "markdown",
   "id": "8988ebec",
   "metadata": {},
   "source": [
    "According to the above figures, it shows that the models with learning rate, 0.01 has performced better than others in validation data testing. This is becacause it has taken lower mse and r2 in average."
   ]
  },
  {
   "cell_type": "markdown",
   "id": "6c33c1d3",
   "metadata": {},
   "source": [
    "#### Finding the best model for testing"
   ]
  },
  {
   "cell_type": "markdown",
   "id": "9d147013",
   "metadata": {},
   "source": [
    "##### Mean mse"
   ]
  },
  {
   "cell_type": "markdown",
   "id": "3d883eb5",
   "metadata": {},
   "source": [
    "<img src=\".\\Screenshots\\Best Model\\mean mse\\low_mse.jpg\" align=\"left\" style=\"width:1000px;\"/>"
   ]
  },
  {
   "cell_type": "markdown",
   "id": "4993982b",
   "metadata": {},
   "source": [
    "To find the best model for testing, it was needed to find the model with lowest absolute mean mse. When I sorted the values from ascending order it was seemed that there are both negative and positive values and not in absolute format. Therefore, I fillter the models with mean_mse less than 1 and greter than -1 and then it was seemed that in that range only positive values avaiable. As the next step, I sorted in asceding order and find the model with lowset mean mse.\n",
    "\n",
    "That selected model is clicked as in below table."
   ]
  },
  {
   "cell_type": "markdown",
   "id": "023879e0",
   "metadata": {},
   "source": [
    "<img src=\".\\Screenshots\\Best Model\\mean mse\\Screenshot 2025-09-13 084121.jpg\" align=\"left\" style=\"width:1000px;\"/>"
   ]
  },
  {
   "cell_type": "markdown",
   "id": "878e3cfc",
   "metadata": {},
   "source": [
    "Parameters of the best models is as below."
   ]
  },
  {
   "cell_type": "markdown",
   "id": "fd7aa9e1",
   "metadata": {},
   "source": [
    "<img src=\".\\Screenshots\\Best Model\\mean mse\\Screenshot 2025-09-13 084239.jpg\" align=\"left\" style=\"width:1000px;\"/>\n"
   ]
  },
  {
   "cell_type": "markdown",
   "id": "8c48edde",
   "metadata": {},
   "source": [
    "### git hub link\n",
    "\n",
    "https://github.com/supipivirajini96-maker/car-price-prediction-assignment2.git"
   ]
  }
 ],
 "metadata": {
  "kernelspec": {
   "display_name": "Python 3",
   "language": "python",
   "name": "python3"
  },
  "language_info": {
   "codemirror_mode": {
    "name": "ipython",
    "version": 3
   },
   "file_extension": ".py",
   "mimetype": "text/x-python",
   "name": "python",
   "nbconvert_exporter": "python",
   "pygments_lexer": "ipython3",
   "version": "3.11.9"
  }
 },
 "nbformat": 4,
 "nbformat_minor": 5
}
